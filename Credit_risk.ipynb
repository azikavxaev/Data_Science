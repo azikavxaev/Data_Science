{
 "cells": [
  {
   "cell_type": "markdown",
   "metadata": {},
   "source": [
    "# Predicting Credit Risk "
   ]
  },
  {
   "cell_type": "markdown",
   "metadata": {},
   "source": [
    "## In this notebook I will compare the accuracy of the machine learning algorithms in predicting the applicant\\`s repayment abilities "
   ]
  },
  {
   "cell_type": "code",
   "execution_count": 230,
   "metadata": {},
   "outputs": [],
   "source": [
    "import pandas as pd\n",
    "import numpy as np\n",
    "import matplotlib.pyplot as plt\n",
    "import seaborn as sns"
   ]
  },
  {
   "cell_type": "code",
   "execution_count": 231,
   "metadata": {},
   "outputs": [
    {
     "data": {
      "text/html": [
       "<div>\n",
       "<style scoped>\n",
       "    .dataframe tbody tr th:only-of-type {\n",
       "        vertical-align: middle;\n",
       "    }\n",
       "\n",
       "    .dataframe tbody tr th {\n",
       "        vertical-align: top;\n",
       "    }\n",
       "\n",
       "    .dataframe thead th {\n",
       "        text-align: right;\n",
       "    }\n",
       "</style>\n",
       "<table border=\"1\" class=\"dataframe\">\n",
       "  <thead>\n",
       "    <tr style=\"text-align: right;\">\n",
       "      <th></th>\n",
       "      <th>ID_CLIENT</th>\n",
       "      <th>ID_SHOP</th>\n",
       "      <th>SEX</th>\n",
       "      <th>MARITAL_STATUS</th>\n",
       "      <th>AGE</th>\n",
       "      <th>QUANT_DEPENDANTS</th>\n",
       "      <th>EDUCATION</th>\n",
       "      <th>FLAG_RESIDENCIAL_PHONE</th>\n",
       "      <th>AREA_CODE_RESIDENCIAL_PHONE</th>\n",
       "      <th>PAYMENT_DAY</th>\n",
       "      <th>...</th>\n",
       "      <th>QUANT_BANKING_ACCOUNTS</th>\n",
       "      <th>PERSONAL_REFERENCE_#1</th>\n",
       "      <th>PERSONAL_REFERENCE_#2</th>\n",
       "      <th>FLAG_MOBILE_PHONE</th>\n",
       "      <th>FLAG_CONTACT_PHONE</th>\n",
       "      <th>PERSONAL_NET_INCOME</th>\n",
       "      <th>COD_APPLICATION_BOOTH</th>\n",
       "      <th>QUANT_ADDITIONAL_CARDS_IN_THE_APPLICATION</th>\n",
       "      <th>FLAG_CARD_INSURANCE_OPTION</th>\n",
       "      <th>TARGET_LABEL_BAD=1</th>\n",
       "    </tr>\n",
       "  </thead>\n",
       "  <tbody>\n",
       "    <tr>\n",
       "      <td>0</td>\n",
       "      <td>2</td>\n",
       "      <td>15</td>\n",
       "      <td>F</td>\n",
       "      <td>S</td>\n",
       "      <td>18</td>\n",
       "      <td>0</td>\n",
       "      <td>NaN</td>\n",
       "      <td>Y</td>\n",
       "      <td>31</td>\n",
       "      <td>20</td>\n",
       "      <td>...</td>\n",
       "      <td>0</td>\n",
       "      <td>SARA</td>\n",
       "      <td>FELIPE</td>\n",
       "      <td>N</td>\n",
       "      <td>N</td>\n",
       "      <td>300.0</td>\n",
       "      <td>0</td>\n",
       "      <td>0</td>\n",
       "      <td>N</td>\n",
       "      <td>0</td>\n",
       "    </tr>\n",
       "    <tr>\n",
       "      <td>1</td>\n",
       "      <td>4</td>\n",
       "      <td>12</td>\n",
       "      <td>F</td>\n",
       "      <td>C</td>\n",
       "      <td>47</td>\n",
       "      <td>0</td>\n",
       "      <td>NaN</td>\n",
       "      <td>N</td>\n",
       "      <td>31</td>\n",
       "      <td>25</td>\n",
       "      <td>...</td>\n",
       "      <td>0</td>\n",
       "      <td>JACI</td>\n",
       "      <td>VALERIA ALEXANDRA TRAJANO</td>\n",
       "      <td>N</td>\n",
       "      <td>N</td>\n",
       "      <td>304.0</td>\n",
       "      <td>0</td>\n",
       "      <td>0</td>\n",
       "      <td>N</td>\n",
       "      <td>0</td>\n",
       "    </tr>\n",
       "    <tr>\n",
       "      <td>2</td>\n",
       "      <td>5</td>\n",
       "      <td>16</td>\n",
       "      <td>F</td>\n",
       "      <td>S</td>\n",
       "      <td>28</td>\n",
       "      <td>0</td>\n",
       "      <td>NaN</td>\n",
       "      <td>Y</td>\n",
       "      <td>31</td>\n",
       "      <td>25</td>\n",
       "      <td>...</td>\n",
       "      <td>0</td>\n",
       "      <td>MARCIA CRISTINA ZANELLA</td>\n",
       "      <td>SANDRO L P MARTINS</td>\n",
       "      <td>N</td>\n",
       "      <td>N</td>\n",
       "      <td>250.0</td>\n",
       "      <td>0</td>\n",
       "      <td>0</td>\n",
       "      <td>N</td>\n",
       "      <td>0</td>\n",
       "    </tr>\n",
       "    <tr>\n",
       "      <td>3</td>\n",
       "      <td>6</td>\n",
       "      <td>24</td>\n",
       "      <td>M</td>\n",
       "      <td>S</td>\n",
       "      <td>26</td>\n",
       "      <td>0</td>\n",
       "      <td>NaN</td>\n",
       "      <td>N</td>\n",
       "      <td>31</td>\n",
       "      <td>28</td>\n",
       "      <td>...</td>\n",
       "      <td>0</td>\n",
       "      <td>MARCIO</td>\n",
       "      <td>ANA</td>\n",
       "      <td>N</td>\n",
       "      <td>N</td>\n",
       "      <td>800.0</td>\n",
       "      <td>0</td>\n",
       "      <td>0</td>\n",
       "      <td>N</td>\n",
       "      <td>0</td>\n",
       "    </tr>\n",
       "    <tr>\n",
       "      <td>4</td>\n",
       "      <td>7</td>\n",
       "      <td>55</td>\n",
       "      <td>F</td>\n",
       "      <td>S</td>\n",
       "      <td>22</td>\n",
       "      <td>0</td>\n",
       "      <td>NaN</td>\n",
       "      <td>Y</td>\n",
       "      <td>31</td>\n",
       "      <td>12</td>\n",
       "      <td>...</td>\n",
       "      <td>0</td>\n",
       "      <td>FABIO (NOIVO)</td>\n",
       "      <td>EDU (AVO)</td>\n",
       "      <td>N</td>\n",
       "      <td>N</td>\n",
       "      <td>410.0</td>\n",
       "      <td>0</td>\n",
       "      <td>0</td>\n",
       "      <td>N</td>\n",
       "      <td>0</td>\n",
       "    </tr>\n",
       "  </tbody>\n",
       "</table>\n",
       "<p>5 rows × 32 columns</p>\n",
       "</div>"
      ],
      "text/plain": [
       "   ID_CLIENT  ID_SHOP SEX MARITAL_STATUS  AGE  QUANT_DEPENDANTS  EDUCATION  \\\n",
       "0          2       15   F              S   18                 0        NaN   \n",
       "1          4       12   F              C   47                 0        NaN   \n",
       "2          5       16   F              S   28                 0        NaN   \n",
       "3          6       24   M              S   26                 0        NaN   \n",
       "4          7       55   F              S   22                 0        NaN   \n",
       "\n",
       "  FLAG_RESIDENCIAL_PHONE  AREA_CODE_RESIDENCIAL_PHONE  PAYMENT_DAY  ...  \\\n",
       "0                      Y                           31           20  ...   \n",
       "1                      N                           31           25  ...   \n",
       "2                      Y                           31           25  ...   \n",
       "3                      N                           31           28  ...   \n",
       "4                      Y                           31           12  ...   \n",
       "\n",
       "   QUANT_BANKING_ACCOUNTS    PERSONAL_REFERENCE_#1      PERSONAL_REFERENCE_#2  \\\n",
       "0                       0                     SARA                     FELIPE   \n",
       "1                       0                     JACI  VALERIA ALEXANDRA TRAJANO   \n",
       "2                       0  MARCIA CRISTINA ZANELLA         SANDRO L P MARTINS   \n",
       "3                       0                   MARCIO                        ANA   \n",
       "4                       0            FABIO (NOIVO)                  EDU (AVO)   \n",
       "\n",
       "  FLAG_MOBILE_PHONE FLAG_CONTACT_PHONE PERSONAL_NET_INCOME  \\\n",
       "0                 N                  N               300.0   \n",
       "1                 N                  N               304.0   \n",
       "2                 N                  N               250.0   \n",
       "3                 N                  N               800.0   \n",
       "4                 N                  N               410.0   \n",
       "\n",
       "  COD_APPLICATION_BOOTH  QUANT_ADDITIONAL_CARDS_IN_THE_APPLICATION  \\\n",
       "0                     0                                          0   \n",
       "1                     0                                          0   \n",
       "2                     0                                          0   \n",
       "3                     0                                          0   \n",
       "4                     0                                          0   \n",
       "\n",
       "   FLAG_CARD_INSURANCE_OPTION  TARGET_LABEL_BAD=1  \n",
       "0                           N                   0  \n",
       "1                           N                   0  \n",
       "2                           N                   0  \n",
       "3                           N                   0  \n",
       "4                           N                   0  \n",
       "\n",
       "[5 rows x 32 columns]"
      ]
     },
     "execution_count": 231,
     "metadata": {},
     "output_type": "execute_result"
    }
   ],
   "source": [
    "data = pd.read_csv(r\"C:\\Users\\azerk\\Desktop\\Data\\Credit_risk.csv\")\n",
    "data.head()"
   ]
  },
  {
   "cell_type": "code",
   "execution_count": 232,
   "metadata": {},
   "outputs": [
    {
     "name": "stdout",
     "output_type": "stream",
     "text": [
      "<class 'pandas.core.frame.DataFrame'>\n",
      "RangeIndex: 40000 entries, 0 to 39999\n",
      "Data columns (total 32 columns):\n",
      "ID_CLIENT                                    40000 non-null int64\n",
      "ID_SHOP                                      40000 non-null int64\n",
      "SEX                                          39997 non-null object\n",
      "MARITAL_STATUS                               40000 non-null object\n",
      "AGE                                          40000 non-null int64\n",
      "QUANT_DEPENDANTS                             40000 non-null int64\n",
      "EDUCATION                                    0 non-null float64\n",
      "FLAG_RESIDENCIAL_PHONE                       40000 non-null object\n",
      "AREA_CODE_RESIDENCIAL_PHONE                  40000 non-null int64\n",
      "PAYMENT_DAY                                  40000 non-null int64\n",
      "SHOP_RANK                                    40000 non-null int64\n",
      "RESIDENCE_TYPE                               40000 non-null object\n",
      "MONTHS_IN_RESIDENCE                          40000 non-null int64\n",
      "FLAG_MOTHERS_NAME                            40000 non-null object\n",
      "FLAG_FATHERS_NAME                            40000 non-null object\n",
      "FLAG_RESIDENCE_TOWN=WORKING_TOWN             40000 non-null object\n",
      "FLAG_RESIDENCE_STATE=WORKING_STATE           40000 non-null object\n",
      "MONTHS_IN_THE_JOB                            40000 non-null int64\n",
      "PROFESSION_CODE                              40000 non-null int64\n",
      "MATE_INCOME                                  40000 non-null float64\n",
      "FLAG_RESIDENCIAL_ADDRESS=POSTAL_ADDRESS      40000 non-null object\n",
      "FLAG_OTHER_CARD                              40000 non-null object\n",
      "QUANT_BANKING_ACCOUNTS                       40000 non-null int64\n",
      "PERSONAL_REFERENCE_#1                        39999 non-null object\n",
      "PERSONAL_REFERENCE_#2                        35810 non-null object\n",
      "FLAG_MOBILE_PHONE                            40000 non-null object\n",
      "FLAG_CONTACT_PHONE                           40000 non-null object\n",
      "PERSONAL_NET_INCOME                          40000 non-null float64\n",
      "COD_APPLICATION_BOOTH                        40000 non-null int64\n",
      "QUANT_ADDITIONAL_CARDS_IN_THE_APPLICATION    40000 non-null int64\n",
      "FLAG_CARD_INSURANCE_OPTION                   40000 non-null object\n",
      "TARGET_LABEL_BAD=1                           40000 non-null int64\n",
      "dtypes: float64(3), int64(14), object(15)\n",
      "memory usage: 9.8+ MB\n"
     ]
    }
   ],
   "source": [
    "data.info()"
   ]
  },
  {
   "cell_type": "markdown",
   "metadata": {},
   "source": [
    "## Since the Education column has no values, I will drop it. The Personal Reference columns also do not contain any significant information, since this information is very unique. So I drop it too"
   ]
  },
  {
   "cell_type": "code",
   "execution_count": 233,
   "metadata": {},
   "outputs": [],
   "source": [
    "data.drop(columns=[\"EDUCATION\", \"ID_CLIENT\", \"PERSONAL_REFERENCE_#1\", \"PERSONAL_REFERENCE_#2\"], inplace=True)"
   ]
  },
  {
   "cell_type": "code",
   "execution_count": 234,
   "metadata": {},
   "outputs": [
    {
     "data": {
      "text/plain": [
       "ID_SHOP                                        31\n",
       "SEX                                             2\n",
       "MARITAL_STATUS                                  5\n",
       "AGE                                            72\n",
       "QUANT_DEPENDANTS                                1\n",
       "FLAG_RESIDENCIAL_PHONE                          2\n",
       "AREA_CODE_RESIDENCIAL_PHONE                    59\n",
       "PAYMENT_DAY                                    16\n",
       "SHOP_RANK                                       3\n",
       "RESIDENCE_TYPE                                  4\n",
       "MONTHS_IN_RESIDENCE                            76\n",
       "FLAG_MOTHERS_NAME                               2\n",
       "FLAG_FATHERS_NAME                               2\n",
       "FLAG_RESIDENCE_TOWN=WORKING_TOWN                2\n",
       "FLAG_RESIDENCE_STATE=WORKING_STATE              2\n",
       "MONTHS_IN_THE_JOB                              54\n",
       "PROFESSION_CODE                               291\n",
       "MATE_INCOME                                   561\n",
       "FLAG_RESIDENCIAL_ADDRESS=POSTAL_ADDRESS         2\n",
       "FLAG_OTHER_CARD                                 1\n",
       "QUANT_BANKING_ACCOUNTS                          1\n",
       "FLAG_MOBILE_PHONE                               1\n",
       "FLAG_CONTACT_PHONE                              1\n",
       "PERSONAL_NET_INCOME                          2315\n",
       "COD_APPLICATION_BOOTH                           1\n",
       "QUANT_ADDITIONAL_CARDS_IN_THE_APPLICATION       4\n",
       "FLAG_CARD_INSURANCE_OPTION                      1\n",
       "TARGET_LABEL_BAD=1                              2\n",
       "dtype: int64"
      ]
     },
     "execution_count": 234,
     "metadata": {},
     "output_type": "execute_result"
    }
   ],
   "source": [
    "data.nunique()"
   ]
  },
  {
   "cell_type": "code",
   "execution_count": 235,
   "metadata": {},
   "outputs": [
    {
     "name": "stdout",
     "output_type": "stream",
     "text": [
      "<class 'pandas.core.frame.DataFrame'>\n",
      "RangeIndex: 40000 entries, 0 to 39999\n",
      "Data columns (total 28 columns):\n",
      "Id_shop                                      40000 non-null int64\n",
      "Sex                                          39997 non-null object\n",
      "Marital_status                               40000 non-null object\n",
      "Age                                          40000 non-null int64\n",
      "Quant_dependants                             40000 non-null int64\n",
      "Flag_residencial_phone                       40000 non-null object\n",
      "Area_code_residencial_phone                  40000 non-null int64\n",
      "Payment_day                                  40000 non-null int64\n",
      "Shop_rank                                    40000 non-null int64\n",
      "Residence_type                               40000 non-null object\n",
      "Months_in_residence                          40000 non-null int64\n",
      "Flag_mothers_name                            40000 non-null object\n",
      "Flag_fathers_name                            40000 non-null object\n",
      "Flag_residence_town=working_town             40000 non-null object\n",
      "Flag_residence_state=working_state           40000 non-null object\n",
      "Months_in_the_job                            40000 non-null int64\n",
      "Profession_code                              40000 non-null int64\n",
      "Mate_income                                  40000 non-null float64\n",
      "Flag_residencial_address=postal_address      40000 non-null object\n",
      "Flag_other_card                              40000 non-null object\n",
      "Quant_banking_accounts                       40000 non-null int64\n",
      "Flag_mobile_phone                            40000 non-null object\n",
      "Flag_contact_phone                           40000 non-null object\n",
      "Personal_net_income                          40000 non-null float64\n",
      "Cod_application_booth                        40000 non-null int64\n",
      "Quant_additional_cards_in_the_application    40000 non-null int64\n",
      "Flag_card_insurance_option                   40000 non-null object\n",
      "Target_label_bad=1                           40000 non-null int64\n",
      "dtypes: float64(2), int64(13), object(13)\n",
      "memory usage: 8.5+ MB\n"
     ]
    }
   ],
   "source": [
    "# Capitalizing only the first letter of the feature names\n",
    "data.columns = data.columns.str.capitalize()\n",
    "data.info()"
   ]
  },
  {
   "cell_type": "code",
   "execution_count": 236,
   "metadata": {},
   "outputs": [
    {
     "data": {
      "text/plain": [
       "Index(['Id_shop', 'Sex', 'Marital_status', 'Age', 'Quant_dependants',\n",
       "       'Flag_residencial_phone', 'Area_code_residencial_phone', 'Payment_day',\n",
       "       'Shop_rank', 'Residence_type', 'Months_in_residence',\n",
       "       'Flag_mothers_name', 'Flag_fathers_name',\n",
       "       'Flag_residence_town=working_town',\n",
       "       'Flag_residence_state=working_state', 'Months_in_the_job',\n",
       "       'Profession_code', 'Mate_income',\n",
       "       'Flag_residencial_address=postal_address', 'Flag_other_card',\n",
       "       'Quant_banking_accounts', 'Flag_mobile_phone', 'Flag_contact_phone',\n",
       "       'Personal_net_income', 'Cod_application_booth',\n",
       "       'Quant_additional_cards_in_the_application',\n",
       "       'Flag_card_insurance_option', 'Target_label_bad=1'],\n",
       "      dtype='object')"
      ]
     },
     "execution_count": 236,
     "metadata": {},
     "output_type": "execute_result"
    }
   ],
   "source": [
    "data.columns"
   ]
  },
  {
   "cell_type": "code",
   "execution_count": 237,
   "metadata": {},
   "outputs": [
    {
     "data": {
      "text/plain": [
       "0    1.0\n",
       "Name: Quant_dependants, dtype: float64"
      ]
     },
     "execution_count": 237,
     "metadata": {},
     "output_type": "execute_result"
    }
   ],
   "source": [
    "data.Quant_dependants.value_counts(normalize=True)"
   ]
  },
  {
   "cell_type": "markdown",
   "metadata": {},
   "source": [
    "### It seems like we have columns with 0 variance. We need to drop them too"
   ]
  },
  {
   "cell_type": "code",
   "execution_count": 238,
   "metadata": {},
   "outputs": [
    {
     "name": "stdout",
     "output_type": "stream",
     "text": [
      "1.0 Quant_dependants\n",
      "0.99425 Shop_rank\n",
      "0.99625 Flag_mothers_name\n",
      "0.95855 Flag_fathers_name\n",
      "0.991325 Flag_residence_state=working_state\n",
      "0.960275 Mate_income\n",
      "0.97895 Flag_residencial_address=postal_address\n",
      "1.0 Flag_other_card\n",
      "1.0 Quant_banking_accounts\n",
      "1.0 Flag_mobile_phone\n",
      "1.0 Flag_contact_phone\n",
      "1.0 Cod_application_booth\n",
      "1.0 Flag_card_insurance_option\n"
     ]
    }
   ],
   "source": [
    "# Displaying the columns which has a 0-like variance\n",
    "for i in data.columns:\n",
    "    if data[i].value_counts(normalize=True).max() > 0.95:\n",
    "        print(str(data[i].value_counts(normalize=True).max()) + \" \" + i)"
   ]
  },
  {
   "cell_type": "markdown",
   "metadata": {},
   "source": [
    "### I decided to drop these columns to make the model less complex"
   ]
  },
  {
   "cell_type": "code",
   "execution_count": 239,
   "metadata": {},
   "outputs": [],
   "source": [
    "for i in data.columns:\n",
    "    if data[i].value_counts(normalize=True).max() > 0.95:\n",
    "        data.drop(columns=[i],inplace=True)"
   ]
  },
  {
   "cell_type": "code",
   "execution_count": 240,
   "metadata": {},
   "outputs": [
    {
     "name": "stdout",
     "output_type": "stream",
     "text": [
      "<class 'pandas.core.frame.DataFrame'>\n",
      "RangeIndex: 40000 entries, 0 to 39999\n",
      "Data columns (total 15 columns):\n",
      "Id_shop                                      40000 non-null int64\n",
      "Sex                                          39997 non-null object\n",
      "Marital_status                               40000 non-null object\n",
      "Age                                          40000 non-null int64\n",
      "Flag_residencial_phone                       40000 non-null object\n",
      "Area_code_residencial_phone                  40000 non-null int64\n",
      "Payment_day                                  40000 non-null int64\n",
      "Residence_type                               40000 non-null object\n",
      "Months_in_residence                          40000 non-null int64\n",
      "Flag_residence_town=working_town             40000 non-null object\n",
      "Months_in_the_job                            40000 non-null int64\n",
      "Profession_code                              40000 non-null int64\n",
      "Personal_net_income                          40000 non-null float64\n",
      "Quant_additional_cards_in_the_application    40000 non-null int64\n",
      "Target_label_bad=1                           40000 non-null int64\n",
      "dtypes: float64(1), int64(9), object(5)\n",
      "memory usage: 4.6+ MB\n"
     ]
    }
   ],
   "source": [
    "data.info()"
   ]
  },
  {
   "cell_type": "markdown",
   "metadata": {},
   "source": [
    "## Some features have too long names. Renaming will do well"
   ]
  },
  {
   "cell_type": "code",
   "execution_count": 241,
   "metadata": {},
   "outputs": [],
   "source": [
    "data.rename(columns={\"Target_label_bad=1\": \"Label_bad\", \"Area_code_residencial_phone\": \"Area_code\", \"Flag_residence_town=working_town\":\"Working_town\", \"Quant_additional_cards_in_the_application\": \"Additional_cards\"}, inplace=True)"
   ]
  },
  {
   "cell_type": "code",
   "execution_count": 242,
   "metadata": {},
   "outputs": [
    {
     "name": "stdout",
     "output_type": "stream",
     "text": [
      "<class 'pandas.core.frame.DataFrame'>\n",
      "RangeIndex: 40000 entries, 0 to 39999\n",
      "Data columns (total 15 columns):\n",
      "Id_shop                   40000 non-null int64\n",
      "Sex                       39997 non-null object\n",
      "Marital_status            40000 non-null object\n",
      "Age                       40000 non-null int64\n",
      "Flag_residencial_phone    40000 non-null object\n",
      "Area_code                 40000 non-null int64\n",
      "Payment_day               40000 non-null int64\n",
      "Residence_type            40000 non-null object\n",
      "Months_in_residence       40000 non-null int64\n",
      "Working_town              40000 non-null object\n",
      "Months_in_the_job         40000 non-null int64\n",
      "Profession_code           40000 non-null int64\n",
      "Personal_net_income       40000 non-null float64\n",
      "Additional_cards          40000 non-null int64\n",
      "Label_bad                 40000 non-null int64\n",
      "dtypes: float64(1), int64(9), object(5)\n",
      "memory usage: 4.6+ MB\n"
     ]
    }
   ],
   "source": [
    "data.info()"
   ]
  },
  {
   "cell_type": "markdown",
   "metadata": {},
   "source": [
    "### Sex column has 3 missing values. I could use KNN to predict these missing values, but I decided to drop them, since 3 missing values out of 40000 values will not harm us"
   ]
  },
  {
   "cell_type": "code",
   "execution_count": 243,
   "metadata": {},
   "outputs": [],
   "source": [
    "data.dropna(inplace=True)\n",
    "data.reset_index(drop=True, inplace=True)"
   ]
  },
  {
   "cell_type": "markdown",
   "metadata": {},
   "source": [
    "### Some features may have too many categories. I decided to decrease the number of categories in such variables"
   ]
  },
  {
   "cell_type": "code",
   "execution_count": 244,
   "metadata": {},
   "outputs": [
    {
     "data": {
      "text/plain": [
       "31    0.702003\n",
       "50    0.222092\n",
       "5     0.048779\n",
       "23    0.019826\n",
       "24    0.002250\n",
       "49    0.000925\n",
       "32    0.000650\n",
       "27    0.000500\n",
       "42    0.000300\n",
       "38    0.000250\n",
       "52    0.000225\n",
       "56    0.000200\n",
       "68    0.000150\n",
       "11    0.000150\n",
       "43    0.000100\n",
       "33    0.000100\n",
       "8     0.000075\n",
       "26    0.000075\n",
       "2     0.000075\n",
       "67    0.000050\n",
       "1     0.000050\n",
       "69    0.000050\n",
       "7     0.000050\n",
       "37    0.000050\n",
       "41    0.000050\n",
       "34    0.000050\n",
       "6     0.000050\n",
       "12    0.000050\n",
       "57    0.000050\n",
       "48    0.000050\n",
       "44    0.000025\n",
       "21    0.000025\n",
       "64    0.000025\n",
       "62    0.000025\n",
       "30    0.000025\n",
       "65    0.000025\n",
       "60    0.000025\n",
       "59    0.000025\n",
       "3     0.000025\n",
       "35    0.000025\n",
       "4     0.000025\n",
       "36    0.000025\n",
       "25    0.000025\n",
       "22    0.000025\n",
       "51    0.000025\n",
       "13    0.000025\n",
       "19    0.000025\n",
       "17    0.000025\n",
       "70    0.000025\n",
       "39    0.000025\n",
       "47    0.000025\n",
       "40    0.000025\n",
       "9     0.000025\n",
       "15    0.000025\n",
       "10    0.000025\n",
       "46    0.000025\n",
       "14    0.000025\n",
       "45    0.000025\n",
       "63    0.000025\n",
       "Name: Area_code, dtype: float64"
      ]
     },
     "execution_count": 244,
     "metadata": {},
     "output_type": "execute_result"
    }
   ],
   "source": [
    "data.Area_code.value_counts(normalize=True)"
   ]
  },
  {
   "cell_type": "code",
   "execution_count": 245,
   "metadata": {},
   "outputs": [],
   "source": [
    "# All the categories except 31 and 50 will be labeled as \"Other\"\n",
    "data.loc[~data.Area_code.isin([\"31\", \"50\"]), \"Area_code\"] = \"Other\""
   ]
  },
  {
   "cell_type": "code",
   "execution_count": 246,
   "metadata": {},
   "outputs": [
    {
     "data": {
      "text/plain": [
       "31       0.702003\n",
       "50       0.222092\n",
       "Other    0.075906\n",
       "Name: Area_code, dtype: float64"
      ]
     },
     "execution_count": 246,
     "metadata": {},
     "output_type": "execute_result"
    }
   ],
   "source": [
    "data.Area_code.value_counts(normalize=True)"
   ]
  },
  {
   "cell_type": "code",
   "execution_count": 247,
   "metadata": {},
   "outputs": [
    {
     "data": {
      "text/plain": [
       "0    34777\n",
       "1     4487\n",
       "2      730\n",
       "3        3\n",
       "Name: Additional_cards, dtype: int64"
      ]
     },
     "execution_count": 247,
     "metadata": {},
     "output_type": "execute_result"
    }
   ],
   "source": [
    "data.Additional_cards.value_counts()"
   ]
  },
  {
   "cell_type": "code",
   "execution_count": 248,
   "metadata": {},
   "outputs": [],
   "source": [
    "for col in ['Area_code', 'Sex', 'Marital_status', 'Residence_type', 'Flag_residencial_phone', 'Working_town', 'Additional_cards']:\n",
    "    data[col] = data[col].astype('category')"
   ]
  },
  {
   "cell_type": "code",
   "execution_count": 249,
   "metadata": {},
   "outputs": [
    {
     "name": "stdout",
     "output_type": "stream",
     "text": [
      "<class 'pandas.core.frame.DataFrame'>\n",
      "RangeIndex: 39997 entries, 0 to 39996\n",
      "Data columns (total 15 columns):\n",
      "Id_shop                   39997 non-null int64\n",
      "Sex                       39997 non-null category\n",
      "Marital_status            39997 non-null category\n",
      "Age                       39997 non-null int64\n",
      "Flag_residencial_phone    39997 non-null category\n",
      "Area_code                 39997 non-null category\n",
      "Payment_day               39997 non-null int64\n",
      "Residence_type            39997 non-null category\n",
      "Months_in_residence       39997 non-null int64\n",
      "Working_town              39997 non-null category\n",
      "Months_in_the_job         39997 non-null int64\n",
      "Profession_code           39997 non-null int64\n",
      "Personal_net_income       39997 non-null float64\n",
      "Additional_cards          39997 non-null category\n",
      "Label_bad                 39997 non-null int64\n",
      "dtypes: category(7), float64(1), int64(7)\n",
      "memory usage: 2.7 MB\n"
     ]
    }
   ],
   "source": [
    "data.info()"
   ]
  },
  {
   "cell_type": "code",
   "execution_count": 250,
   "metadata": {},
   "outputs": [
    {
     "data": {
      "text/plain": [
       "array([853,  35,  24, 999,  40, 950,  13, 165,  15,  26, 703, 135, 704,\n",
       "        79,  38,  34,  39,  72, 801,  30, 713, 305, 653, 261,  43, 205,\n",
       "       918, 251, 720,  62,  53,  41,   2, 131, 992, 514,   1, 132, 501,\n",
       "        61, 158, 263,  60,  70, 855, 110, 213, 807, 717, 656, 712, 865,\n",
       "        46, 707,  63, 863, 100, 118, 806, 125, 265, 117, 654, 266, 953,\n",
       "       167, 254, 706, 905, 222, 202, 123, 702, 302, 166, 522, 210, 253,\n",
       "        18, 139, 113, 804, 920, 301, 725,  49,   4, 218,  89, 515, 255,\n",
       "        29, 108,  19, 134, 521, 508, 130,  65, 915, 732,  17, 262, 711,\n",
       "        31, 155, 864, 721, 133, 163, 952,  25, 505, 105, 310, 153, 922,\n",
       "       151,  66, 718,  36,   8, 312, 137,  52,  99, 525, 107, 223, 159,\n",
       "        12,  32, 129,  64, 650, 264, 657, 250, 731, 512,  44, 453, 203,\n",
       "        77, 991, 908,  69, 164, 140, 652,  68,  78, 527, 923, 513, 307,\n",
       "       503,  51, 350, 912, 954, 504, 211, 655, 524, 921, 401, 136,  55,\n",
       "       911, 916, 116,  48, 351,  42,  88, 219, 220, 904, 127, 115, 506,\n",
       "       168,  33, 716, 300,  58, 308, 141,  56, 520,  37,  47,  80, 215,\n",
       "       722, 138, 119,  71, 728,  57, 714, 526, 150, 729,  11, 102, 402,\n",
       "       352, 719,  73, 600,  21, 709, 114, 209, 907, 124, 519, 201, 154,\n",
       "        67, 708, 120,  28,  45, 221,  59, 109, 214, 161, 500, 903,  16,\n",
       "       260, 450, 510, 924, 857, 509, 854, 518, 106, 914,  22, 859,  10,\n",
       "         0,  76,   3, 990, 103, 169,   9,   5, 951, 400, 705, 528, 309,\n",
       "       919, 800, 803,   7, 910, 403, 304, 727, 917, 852, 502, 858, 913,\n",
       "       121, 802, 856, 901, 860, 311, 651, 730, 861, 217,  50, 152, 850,\n",
       "       710, 516, 715, 862,   6], dtype=int64)"
      ]
     },
     "execution_count": 250,
     "metadata": {},
     "output_type": "execute_result"
    }
   ],
   "source": [
    "data.Profession_code.unique()"
   ]
  },
  {
   "cell_type": "markdown",
   "metadata": {},
   "source": [
    "### We have too many categories. I decided to keep top N categories which in total have over 50% of total observations, so I don't mind to sacrifice some information value"
   ]
  },
  {
   "cell_type": "code",
   "execution_count": 251,
   "metadata": {},
   "outputs": [
    {
     "data": {
      "text/plain": [
       "0.5044878365877441"
      ]
     },
     "execution_count": 251,
     "metadata": {},
     "output_type": "execute_result"
    }
   ],
   "source": [
    "data.Profession_code.value_counts(normalize=True).head(11).sum()"
   ]
  },
  {
   "cell_type": "code",
   "execution_count": 252,
   "metadata": {},
   "outputs": [
    {
     "data": {
      "text/plain": [
       "999    0.127110\n",
       "950    0.093407\n",
       "13     0.050054\n",
       "205    0.044653\n",
       "703    0.038678\n",
       "26     0.037953\n",
       "131    0.026127\n",
       "514    0.024902\n",
       "60     0.023977\n",
       "40     0.019351\n",
       "38     0.018276\n",
       "Name: Profession_code, dtype: float64"
      ]
     },
     "execution_count": 252,
     "metadata": {},
     "output_type": "execute_result"
    }
   ],
   "source": [
    "data.Profession_code.value_counts(normalize=True).head(11)"
   ]
  },
  {
   "cell_type": "code",
   "execution_count": 253,
   "metadata": {},
   "outputs": [],
   "source": [
    "data.loc[~data.Profession_code.isin([\"999\", \"950\",\"13\",\"205\",\"703\",\"26\",\"131\",\"514\",\"60\",\"40\",\"38\"]), \"Profession_code\"] = \"Other_profession\""
   ]
  },
  {
   "cell_type": "markdown",
   "metadata": {},
   "source": [
    "## Same story with Profession_code and Id_shop columns"
   ]
  },
  {
   "cell_type": "code",
   "execution_count": 254,
   "metadata": {},
   "outputs": [
    {
     "data": {
      "text/plain": [
       "Other_profession    0.495512\n",
       "999                 0.127110\n",
       "950                 0.093407\n",
       "13                  0.050054\n",
       "205                 0.044653\n",
       "703                 0.038678\n",
       "26                  0.037953\n",
       "131                 0.026127\n",
       "514                 0.024902\n",
       "60                  0.023977\n",
       "40                  0.019351\n",
       "38                  0.018276\n",
       "Name: Profession_code, dtype: float64"
      ]
     },
     "execution_count": 254,
     "metadata": {},
     "output_type": "execute_result"
    }
   ],
   "source": [
    "data.Profession_code.value_counts(normalize=True)"
   ]
  },
  {
   "cell_type": "code",
   "execution_count": 255,
   "metadata": {},
   "outputs": [
    {
     "data": {
      "text/plain": [
       "0.5091631872390429"
      ]
     },
     "execution_count": 255,
     "metadata": {},
     "output_type": "execute_result"
    }
   ],
   "source": [
    "data.Id_shop.value_counts(normalize=True).head(6).sum()"
   ]
  },
  {
   "cell_type": "code",
   "execution_count": 256,
   "metadata": {},
   "outputs": [
    {
     "data": {
      "text/plain": [
       "25    0.133885\n",
       "22    0.097832\n",
       "24    0.087557\n",
       "55    0.085231\n",
       "23    0.059379\n",
       "20    0.045278\n",
       "Name: Id_shop, dtype: float64"
      ]
     },
     "execution_count": 256,
     "metadata": {},
     "output_type": "execute_result"
    }
   ],
   "source": [
    "data.Id_shop.value_counts(normalize=True).head(6)"
   ]
  },
  {
   "cell_type": "code",
   "execution_count": 257,
   "metadata": {},
   "outputs": [],
   "source": [
    "data.loc[~data.Id_shop.isin([\"25\",\"22\",\"24\",\"55\",\"23\",\"20\"]), \"Id_shop\"] = \"Other_shop\""
   ]
  },
  {
   "cell_type": "code",
   "execution_count": 258,
   "metadata": {},
   "outputs": [
    {
     "data": {
      "text/plain": [
       "Other_shop    0.490837\n",
       "25            0.133885\n",
       "22            0.097832\n",
       "24            0.087557\n",
       "55            0.085231\n",
       "23            0.059379\n",
       "20            0.045278\n",
       "Name: Id_shop, dtype: float64"
      ]
     },
     "execution_count": 258,
     "metadata": {},
     "output_type": "execute_result"
    }
   ],
   "source": [
    "data.Id_shop.value_counts(normalize=True)"
   ]
  },
  {
   "cell_type": "markdown",
   "metadata": {},
   "source": [
    "### I decided to divide the Payment day into 3 different groups: 1-10; 11-20; 21-31"
   ]
  },
  {
   "cell_type": "code",
   "execution_count": 259,
   "metadata": {},
   "outputs": [
    {
     "data": {
      "text/plain": [
       "12    0.253769\n",
       "8     0.180164\n",
       "18    0.165937\n",
       "20    0.126234\n",
       "28    0.090107\n",
       "25    0.067630\n",
       "3     0.039053\n",
       "23    0.028927\n",
       "1     0.027277\n",
       "16    0.005325\n",
       "11    0.005325\n",
       "22    0.003175\n",
       "6     0.003100\n",
       "9     0.002600\n",
       "27    0.001350\n",
       "15    0.000025\n",
       "Name: Payment_day, dtype: float64"
      ]
     },
     "execution_count": 259,
     "metadata": {},
     "output_type": "execute_result"
    }
   ],
   "source": [
    "data.Payment_day.value_counts(normalize=True)"
   ]
  },
  {
   "cell_type": "code",
   "execution_count": 260,
   "metadata": {},
   "outputs": [],
   "source": [
    "data.Payment_day=pd.cut(data.Payment_day, [0,10,20,31])"
   ]
  },
  {
   "cell_type": "code",
   "execution_count": 261,
   "metadata": {},
   "outputs": [
    {
     "data": {
      "text/plain": [
       "(10, 20]    22263\n",
       "(0, 10]     10087\n",
       "(20, 31]     7647\n",
       "Name: Payment_day, dtype: int64"
      ]
     },
     "execution_count": 261,
     "metadata": {},
     "output_type": "execute_result"
    }
   ],
   "source": [
    "data.Payment_day.value_counts()"
   ]
  },
  {
   "cell_type": "code",
   "execution_count": 262,
   "metadata": {},
   "outputs": [],
   "source": [
    "for col in ['Profession_code','Id_shop', 'Payment_day']:\n",
    "    data[col] = data[col].astype('category')"
   ]
  },
  {
   "cell_type": "code",
   "execution_count": 263,
   "metadata": {},
   "outputs": [
    {
     "name": "stdout",
     "output_type": "stream",
     "text": [
      "<class 'pandas.core.frame.DataFrame'>\n",
      "RangeIndex: 39997 entries, 0 to 39996\n",
      "Data columns (total 15 columns):\n",
      "Id_shop                   39997 non-null category\n",
      "Sex                       39997 non-null category\n",
      "Marital_status            39997 non-null category\n",
      "Age                       39997 non-null int64\n",
      "Flag_residencial_phone    39997 non-null category\n",
      "Area_code                 39997 non-null category\n",
      "Payment_day               39997 non-null category\n",
      "Residence_type            39997 non-null category\n",
      "Months_in_residence       39997 non-null int64\n",
      "Working_town              39997 non-null category\n",
      "Months_in_the_job         39997 non-null int64\n",
      "Profession_code           39997 non-null category\n",
      "Personal_net_income       39997 non-null float64\n",
      "Additional_cards          39997 non-null category\n",
      "Label_bad                 39997 non-null int64\n",
      "dtypes: category(10), float64(1), int64(4)\n",
      "memory usage: 1.9 MB\n"
     ]
    }
   ],
   "source": [
    "data.info()"
   ]
  },
  {
   "cell_type": "code",
   "execution_count": 264,
   "metadata": {},
   "outputs": [
    {
     "data": {
      "text/html": [
       "<div>\n",
       "<style scoped>\n",
       "    .dataframe tbody tr th:only-of-type {\n",
       "        vertical-align: middle;\n",
       "    }\n",
       "\n",
       "    .dataframe tbody tr th {\n",
       "        vertical-align: top;\n",
       "    }\n",
       "\n",
       "    .dataframe thead th {\n",
       "        text-align: right;\n",
       "    }\n",
       "</style>\n",
       "<table border=\"1\" class=\"dataframe\">\n",
       "  <thead>\n",
       "    <tr style=\"text-align: right;\">\n",
       "      <th></th>\n",
       "      <th>Id_shop</th>\n",
       "      <th>Sex</th>\n",
       "      <th>Marital_status</th>\n",
       "      <th>Age</th>\n",
       "      <th>Flag_residencial_phone</th>\n",
       "      <th>Area_code</th>\n",
       "      <th>Payment_day</th>\n",
       "      <th>Residence_type</th>\n",
       "      <th>Months_in_residence</th>\n",
       "      <th>Working_town</th>\n",
       "      <th>Months_in_the_job</th>\n",
       "      <th>Profession_code</th>\n",
       "      <th>Personal_net_income</th>\n",
       "      <th>Additional_cards</th>\n",
       "      <th>Label_bad</th>\n",
       "    </tr>\n",
       "  </thead>\n",
       "  <tbody>\n",
       "    <tr>\n",
       "      <td>0</td>\n",
       "      <td>Other_shop</td>\n",
       "      <td>F</td>\n",
       "      <td>S</td>\n",
       "      <td>18</td>\n",
       "      <td>Y</td>\n",
       "      <td>31</td>\n",
       "      <td>(10, 20]</td>\n",
       "      <td>P</td>\n",
       "      <td>216</td>\n",
       "      <td>Y</td>\n",
       "      <td>12</td>\n",
       "      <td>Other_profession</td>\n",
       "      <td>300.0</td>\n",
       "      <td>0</td>\n",
       "      <td>0</td>\n",
       "    </tr>\n",
       "    <tr>\n",
       "      <td>1</td>\n",
       "      <td>Other_shop</td>\n",
       "      <td>F</td>\n",
       "      <td>C</td>\n",
       "      <td>47</td>\n",
       "      <td>N</td>\n",
       "      <td>31</td>\n",
       "      <td>(20, 31]</td>\n",
       "      <td>P</td>\n",
       "      <td>180</td>\n",
       "      <td>N</td>\n",
       "      <td>24</td>\n",
       "      <td>Other_profession</td>\n",
       "      <td>304.0</td>\n",
       "      <td>0</td>\n",
       "      <td>0</td>\n",
       "    </tr>\n",
       "    <tr>\n",
       "      <td>2</td>\n",
       "      <td>Other_shop</td>\n",
       "      <td>F</td>\n",
       "      <td>S</td>\n",
       "      <td>28</td>\n",
       "      <td>Y</td>\n",
       "      <td>31</td>\n",
       "      <td>(20, 31]</td>\n",
       "      <td>O</td>\n",
       "      <td>12</td>\n",
       "      <td>Y</td>\n",
       "      <td>12</td>\n",
       "      <td>Other_profession</td>\n",
       "      <td>250.0</td>\n",
       "      <td>0</td>\n",
       "      <td>0</td>\n",
       "    </tr>\n",
       "    <tr>\n",
       "      <td>3</td>\n",
       "      <td>24</td>\n",
       "      <td>M</td>\n",
       "      <td>S</td>\n",
       "      <td>26</td>\n",
       "      <td>N</td>\n",
       "      <td>31</td>\n",
       "      <td>(20, 31]</td>\n",
       "      <td>P</td>\n",
       "      <td>180</td>\n",
       "      <td>N</td>\n",
       "      <td>0</td>\n",
       "      <td>999</td>\n",
       "      <td>800.0</td>\n",
       "      <td>0</td>\n",
       "      <td>0</td>\n",
       "    </tr>\n",
       "    <tr>\n",
       "      <td>4</td>\n",
       "      <td>55</td>\n",
       "      <td>F</td>\n",
       "      <td>S</td>\n",
       "      <td>22</td>\n",
       "      <td>Y</td>\n",
       "      <td>31</td>\n",
       "      <td>(10, 20]</td>\n",
       "      <td>A</td>\n",
       "      <td>0</td>\n",
       "      <td>Y</td>\n",
       "      <td>48</td>\n",
       "      <td>999</td>\n",
       "      <td>410.0</td>\n",
       "      <td>0</td>\n",
       "      <td>0</td>\n",
       "    </tr>\n",
       "  </tbody>\n",
       "</table>\n",
       "</div>"
      ],
      "text/plain": [
       "      Id_shop Sex Marital_status  Age Flag_residencial_phone Area_code  \\\n",
       "0  Other_shop   F              S   18                      Y        31   \n",
       "1  Other_shop   F              C   47                      N        31   \n",
       "2  Other_shop   F              S   28                      Y        31   \n",
       "3          24   M              S   26                      N        31   \n",
       "4          55   F              S   22                      Y        31   \n",
       "\n",
       "  Payment_day Residence_type  Months_in_residence Working_town  \\\n",
       "0    (10, 20]              P                  216            Y   \n",
       "1    (20, 31]              P                  180            N   \n",
       "2    (20, 31]              O                   12            Y   \n",
       "3    (20, 31]              P                  180            N   \n",
       "4    (10, 20]              A                    0            Y   \n",
       "\n",
       "   Months_in_the_job   Profession_code  Personal_net_income Additional_cards  \\\n",
       "0                 12  Other_profession                300.0                0   \n",
       "1                 24  Other_profession                304.0                0   \n",
       "2                 12  Other_profession                250.0                0   \n",
       "3                  0               999                800.0                0   \n",
       "4                 48               999                410.0                0   \n",
       "\n",
       "   Label_bad  \n",
       "0          0  \n",
       "1          0  \n",
       "2          0  \n",
       "3          0  \n",
       "4          0  "
      ]
     },
     "execution_count": 264,
     "metadata": {},
     "output_type": "execute_result"
    }
   ],
   "source": [
    "data.head()"
   ]
  },
  {
   "cell_type": "markdown",
   "metadata": {},
   "source": [
    "## Exploratory Data Analysis"
   ]
  },
  {
   "cell_type": "code",
   "execution_count": 265,
   "metadata": {},
   "outputs": [
    {
     "data": {
      "text/plain": [
       "<matplotlib.axes._subplots.AxesSubplot at 0x184ae439a48>"
      ]
     },
     "execution_count": 265,
     "metadata": {},
     "output_type": "execute_result"
    },
    {
     "data": {
      "image/png": "[encoded data removed]",
      "text/plain": [
       "<Figure size 1440x864 with 8 Axes>"
      ]
     },
     "metadata": {
      "needs_background": "light"
     },
     "output_type": "display_data"
    }
   ],
   "source": [
    "fig, axarr = plt.subplots(4, 2, figsize=(20, 12))\n",
    "sns.countplot(x='Sex', hue = 'Label_bad',data = data, ax=axarr[0][0])\n",
    "sns.countplot(x='Marital_status', hue = 'Label_bad',data = data, ax=axarr[0][1])\n",
    "sns.countplot(x='Flag_residencial_phone', hue = 'Label_bad',data = data, ax=axarr[1][0])\n",
    "sns.countplot(x='Residence_type', hue = 'Label_bad',data = data, ax=axarr[1][1])\n",
    "sns.countplot(x='Area_code', hue = 'Label_bad',data = data, ax=axarr[2][0])\n",
    "sns.countplot(x='Working_town', hue = 'Label_bad',data = data, ax=axarr[2][1])\n",
    "sns.countplot(x='Payment_day', hue = 'Label_bad',data = data, ax=axarr[3][0])\n",
    "sns.countplot(x='Additional_cards', hue = 'Label_bad',data = data, ax=axarr[3][1])"
   ]
  },
  {
   "cell_type": "code",
   "execution_count": 266,
   "metadata": {},
   "outputs": [
    {
     "data": {
      "text/plain": [
       "<matplotlib.axes._subplots.AxesSubplot at 0x184ae5fa388>"
      ]
     },
     "execution_count": 266,
     "metadata": {},
     "output_type": "execute_result"
    },
    {
     "data": {
      "image/png": "[encoded data removed]",
      "text/plain": [
       "<Figure size 1440x864 with 4 Axes>"
      ]
     },
     "metadata": {
      "needs_background": "light"
     },
     "output_type": "display_data"
    }
   ],
   "source": [
    "fig, axarr = plt.subplots(2, 2, figsize=(20, 12))\n",
    "sns.boxplot(y='Age',x ='Label_bad', hue ='Label_bad',data = data, ax=axarr[0][0])\n",
    "sns.boxplot(y='Months_in_the_job',x ='Label_bad', hue ='Label_bad',data = data , ax=axarr[0][1])\n",
    "sns.boxplot(y='Months_in_residence',x ='Label_bad', hue ='Label_bad',data = data, ax=axarr[1][0])\n",
    "sns.boxplot(y='Personal_net_income',x ='Label_bad', hue ='Label_bad',data = data, ax=axarr[1][1])"
   ]
  },
  {
   "cell_type": "markdown",
   "metadata": {},
   "source": [
    "### It seems like age is a significant predictor of the credit risk. Younger applicants have higher risk of default.\n",
    "### Gender of the applicant also plays a role"
   ]
  },
  {
   "cell_type": "code",
   "execution_count": 267,
   "metadata": {},
   "outputs": [],
   "source": [
    "# Dummy encoding of the categorical features\n",
    "data = pd.get_dummies(data, columns = [\"Id_shop\", \"Sex\", \"Marital_status\", \"Flag_residencial_phone\", \"Area_code\", \"Payment_day\", \"Residence_type\", \"Working_town\", \"Profession_code\" ], drop_first=True, dtype=\"int64\")"
   ]
  },
  {
   "cell_type": "code",
   "execution_count": 268,
   "metadata": {},
   "outputs": [
    {
     "data": {
      "text/plain": [
       "0    34777\n",
       "1     4487\n",
       "2      730\n",
       "3        3\n",
       "Name: Additional_cards, dtype: int64"
      ]
     },
     "execution_count": 268,
     "metadata": {},
     "output_type": "execute_result"
    }
   ],
   "source": [
    "data.Additional_cards.value_counts()"
   ]
  },
  {
   "cell_type": "code",
   "execution_count": 269,
   "metadata": {},
   "outputs": [],
   "source": [
    "from sklearn.preprocessing import LabelEncoder\n",
    "data.Additional_cards = LabelEncoder().fit_transform(data.Additional_cards)\n"
   ]
  },
  {
   "cell_type": "code",
   "execution_count": 270,
   "metadata": {},
   "outputs": [
    {
     "data": {
      "text/plain": [
       "0    32098\n",
       "1     7899\n",
       "Name: Label_bad, dtype: int64"
      ]
     },
     "execution_count": 270,
     "metadata": {},
     "output_type": "execute_result"
    }
   ],
   "source": [
    "data.Label_bad.value_counts()"
   ]
  },
  {
   "cell_type": "markdown",
   "metadata": {},
   "source": [
    "## Our target variable is not distributed properly. There is an imbalance. We need to undersample the dataset"
   ]
  },
  {
   "cell_type": "code",
   "execution_count": 271,
   "metadata": {},
   "outputs": [],
   "source": [
    "bad  = data[data['Label_bad'] == 1]\n",
    "good  = data[data['Label_bad'] == 0]"
   ]
  },
  {
   "cell_type": "code",
   "execution_count": 272,
   "metadata": {},
   "outputs": [
    {
     "name": "stdout",
     "output_type": "stream",
     "text": [
      "Requirement already satisfied: imblearn in c:\\users\\azerk\\anaconda3\\lib\\site-packages (0.0)\n",
      "Requirement already satisfied: imbalanced-learn in c:\\users\\azerk\\anaconda3\\lib\\site-packages (from imblearn) (0.6.2)\n",
      "Requirement already satisfied: numpy>=1.11 in c:\\users\\azerk\\anaconda3\\lib\\site-packages (from imbalanced-learn->imblearn) (1.16.5)\n",
      "Requirement already satisfied: joblib>=0.11 in c:\\users\\azerk\\anaconda3\\lib\\site-packages (from imbalanced-learn->imblearn) (0.13.2)\n",
      "Requirement already satisfied: scikit-learn>=0.22 in c:\\users\\azerk\\anaconda3\\lib\\site-packages (from imbalanced-learn->imblearn) (0.22.1)\n",
      "Requirement already satisfied: scipy>=0.17 in c:\\users\\azerk\\anaconda3\\lib\\site-packages (from imbalanced-learn->imblearn) (1.3.1)\n"
     ]
    }
   ],
   "source": [
    "!pip install imblearn"
   ]
  },
  {
   "cell_type": "code",
   "execution_count": 273,
   "metadata": {},
   "outputs": [],
   "source": [
    "from imblearn.under_sampling import NearMiss"
   ]
  },
  {
   "cell_type": "code",
   "execution_count": 274,
   "metadata": {},
   "outputs": [],
   "source": [
    "X = data.drop('Label_bad', axis=1)\n",
    "y = data.Label_bad\n",
    "nm = NearMiss()\n",
    "X_res, y_res = nm.fit_sample(X,y)"
   ]
  },
  {
   "cell_type": "markdown",
   "metadata": {},
   "source": [
    "## Now our dataset is well-balanced"
   ]
  },
  {
   "cell_type": "code",
   "execution_count": 275,
   "metadata": {},
   "outputs": [
    {
     "data": {
      "text/plain": [
       "((15798, 36), (15798,))"
      ]
     },
     "execution_count": 275,
     "metadata": {},
     "output_type": "execute_result"
    }
   ],
   "source": [
    "X_res.shape, y_res.shape # res means resampled"
   ]
  },
  {
   "cell_type": "markdown",
   "metadata": {},
   "source": [
    "# Modeling"
   ]
  },
  {
   "cell_type": "code",
   "execution_count": 276,
   "metadata": {},
   "outputs": [],
   "source": [
    "from sklearn.model_selection import train_test_split\n",
    "X_train, X_test, y_train, y_test = train_test_split(X_res, y_res, test_size=0.25, random_state=2)"
   ]
  },
  {
   "cell_type": "code",
   "execution_count": 277,
   "metadata": {},
   "outputs": [],
   "source": [
    "# I decided to standardize the coefficients\n",
    "\n",
    "from sklearn.preprocessing import StandardScaler\n",
    "\n",
    "y_train = y_train.values.reshape(-1,1)\n",
    "y_test = y_test.values.reshape(-1,1)\n",
    "\n",
    "scaler = StandardScaler() \n",
    "\n",
    "X_train = scaler.fit_transform(X_train)\n",
    "X_test = scaler.fit_transform(X_test)"
   ]
  },
  {
   "cell_type": "code",
   "execution_count": 278,
   "metadata": {},
   "outputs": [
    {
     "name": "stdout",
     "output_type": "stream",
     "text": [
      "DecisionTreeClassifier`s accuracy score is 0.67063\n"
     ]
    }
   ],
   "source": [
    "from sklearn.tree import DecisionTreeClassifier\n",
    "dt = DecisionTreeClassifier()\n",
    "dt.fit(X_train,y_train)\n",
    "print('DecisionTreeClassifier`s accuracy score is',round(metrics.accuracy_score(y_test, y_pred),5))"
   ]
  },
  {
   "cell_type": "code",
   "execution_count": 279,
   "metadata": {},
   "outputs": [
    {
     "name": "stdout",
     "output_type": "stream",
     "text": [
      "Logistic regression`s accuracy score is 0.68911\n"
     ]
    },
    {
     "name": "stderr",
     "output_type": "stream",
     "text": [
      "C:\\Users\\azerk\\Anaconda3\\lib\\site-packages\\sklearn\\utils\\validation.py:760: DataConversionWarning: A column-vector y was passed when a 1d array was expected. Please change the shape of y to (n_samples, ), for example using ravel().\n",
      "  y = column_or_1d(y, warn=True)\n"
     ]
    }
   ],
   "source": [
    "from sklearn.linear_model import LogisticRegression\n",
    "from sklearn import metrics\n",
    "logreg = LogisticRegression()\n",
    "logreg.fit(X_train, y_train)\n",
    "y_pred = logreg.predict(X_test)\n",
    "print('Logistic regression`s accuracy score is',round(metrics.accuracy_score(y_test, y_pred),5))"
   ]
  },
  {
   "cell_type": "code",
   "execution_count": 280,
   "metadata": {},
   "outputs": [
    {
     "data": {
      "text/plain": [
       "0.6768230925050641"
      ]
     },
     "execution_count": 280,
     "metadata": {},
     "output_type": "execute_result"
    }
   ],
   "source": [
    "logreg.score(X_train,y_train)  # Checking the overfitting"
   ]
  },
  {
   "cell_type": "code",
   "execution_count": 281,
   "metadata": {},
   "outputs": [
    {
     "name": "stdout",
     "output_type": "stream",
     "text": [
      "False Positive: 875\n",
      "False Negative: 353\n",
      "True Positive: 1576\n",
      "True Negative: 1146\n",
      "------------------\n",
      "PPV is 0.643\n",
      "NPV is 0.765\n",
      "Sensitivity is 0.817\n",
      "Specificity is 0.567\n"
     ]
    }
   ],
   "source": [
    "conf = (metrics.confusion_matrix(y_test, y_pred))\n",
    "FP = conf[1][0]\n",
    "FN = conf[0][1]\n",
    "TP = conf[0][0]\n",
    "TN = conf[1][1]\n",
    "print('False Positive:',FP)\n",
    "print('False Negative:',FN)\n",
    "print('True Positive:',TP)\n",
    "print('True Negative:',TN)\n",
    "print('------------------')\n",
    "print('PPV is', round(TP/(TP+FP),3))\n",
    "print('NPV is', round(TN/(TN+FN),3))\n",
    "print('Sensitivity is', round(TP/(TP+FN),3))\n",
    "print('Specificity is', round(TN/(TN+FP),3))\n"
   ]
  },
  {
   "cell_type": "markdown",
   "metadata": {},
   "source": [
    "#### Before resampling the dataset, the accuracy was higher, however the model had a huge bias: the number of false negatives was very high. I am satisfied with these results, despite lower accuracy"
   ]
  },
  {
   "cell_type": "code",
   "execution_count": 282,
   "metadata": {},
   "outputs": [
    {
     "name": "stderr",
     "output_type": "stream",
     "text": [
      "C:\\Users\\azerk\\Anaconda3\\lib\\site-packages\\ipykernel_launcher.py:3: DataConversionWarning: A column-vector y was passed when a 1d array was expected. Please change the shape of y to (n_samples,), for example using ravel().\n",
      "  This is separate from the ipykernel package so we can avoid doing imports until\n"
     ]
    },
    {
     "name": "stdout",
     "output_type": "stream",
     "text": [
      "Accuracy score of the Random forest Classifier: 0.68481\n"
     ]
    }
   ],
   "source": [
    "from sklearn.ensemble import RandomForestClassifier\n",
    "rfc = RandomForestClassifier(n_estimators=120, criterion='entropy')\n",
    "rfc.fit(X_train, y_train)\n",
    "rfc_pred_test = rfc.predict(X_test)\n",
    "print('Accuracy score of the Random forest Classifier:',round(metrics.accuracy_score(y_test, rfc_pred_test),5))"
   ]
  },
  {
   "cell_type": "code",
   "execution_count": 283,
   "metadata": {
    "scrolled": true
   },
   "outputs": [
    {
     "name": "stdout",
     "output_type": "stream",
     "text": [
      "Accuracy of each partition:\n",
      " [0.65063291 0.74556962 0.73924051 0.7443038  0.75696203 0.72911392\n",
      " 0.74683544 0.74556962 0.74303797 0.72025316 0.7164557  0.66708861\n",
      " 0.66075949 0.69367089 0.64556962 0.67468354 0.60886076 0.63037975\n",
      " 0.63751584 0.5982256 ]\n",
      "Mean score is 0.69274\n"
     ]
    }
   ],
   "source": [
    "rfc_scores = cross_val_score(rfc, X_res, y_res, cv=20, scoring='accuracy')\n",
    "print('Accuracy of each partition:\\n',rfc_scores)\n",
    "print('Mean score is',round(rfc_scores.mean(),5)) "
   ]
  },
  {
   "cell_type": "code",
   "execution_count": 284,
   "metadata": {},
   "outputs": [
    {
     "name": "stdout",
     "output_type": "stream",
     "text": [
      "False Positive: 628\n",
      "False Negative: 617\n",
      "True Positive: 1312\n",
      "True Negative: 1393\n",
      "------------------\n",
      "PPV is 0.676\n",
      "NPV is 0.693\n",
      "Sensitivity is 0.68\n",
      "Specificity is 0.689\n"
     ]
    }
   ],
   "source": [
    "conf = (metrics.confusion_matrix(y_test, rfc_pred_test))\n",
    "FP = conf[1][0]\n",
    "FN = conf[0][1]\n",
    "TP = conf[0][0]\n",
    "TN = conf[1][1]\n",
    "print('False Positive:',FP)\n",
    "print('False Negative:',FN)\n",
    "print('True Positive:',TP)\n",
    "print('True Negative:',TN)\n",
    "print('------------------')\n",
    "print('PPV is', round(TP/(TP+FP),3))\n",
    "print('NPV is', round(TN/(TN+FN),3))\n",
    "print('Sensitivity is', round(TP/(TP+FN),3))\n",
    "print('Specificity is', round(TN/(TN+FP),3))"
   ]
  },
  {
   "cell_type": "markdown",
   "metadata": {},
   "source": [
    "## I decided to check the accuracy of the ensemble models too"
   ]
  },
  {
   "cell_type": "code",
   "execution_count": 285,
   "metadata": {},
   "outputs": [],
   "source": [
    "from sklearn.ensemble import RandomForestClassifier, VotingClassifier, BaggingClassifier, AdaBoostClassifier, GradientBoostingClassifier\n",
    "from sklearn.svm import SVC\n",
    "from sklearn.neighbors import KNeighborsClassifier\n",
    "from sklearn.naive_bayes import GaussianNB"
   ]
  },
  {
   "cell_type": "code",
   "execution_count": 286,
   "metadata": {},
   "outputs": [],
   "source": [
    "lr = LogisticRegression()\n",
    "dt = DecisionTreeClassifier()\n",
    "svm = SVC(kernel='poly', degree=2)\n",
    "knn = KNeighborsClassifier(n_neighbors = 3)\n",
    "gnb = GaussianNB()"
   ]
  },
  {
   "cell_type": "code",
   "execution_count": 287,
   "metadata": {},
   "outputs": [
    {
     "name": "stderr",
     "output_type": "stream",
     "text": [
      "C:\\Users\\azerk\\Anaconda3\\lib\\site-packages\\ipykernel_launcher.py:1: DataConversionWarning: A column-vector y was passed when a 1d array was expected. Please change the shape of y to (n_samples, ), for example using ravel().\n",
      "  \"\"\"Entry point for launching an IPython kernel.\n"
     ]
    },
    {
     "name": "stdout",
     "output_type": "stream",
     "text": [
      "KNN score`s accuracy is 0.58329\n"
     ]
    }
   ],
   "source": [
    "knn.fit(X_train,y_train)\n",
    "y_pred = knn.predict(X_test)\n",
    "print('KNN score`s accuracy is',round(metrics.accuracy_score(y_test, y_pred),5))"
   ]
  },
  {
   "cell_type": "code",
   "execution_count": 288,
   "metadata": {},
   "outputs": [
    {
     "name": "stdout",
     "output_type": "stream",
     "text": [
      "Accuracy of each partition:\n",
      " [0.36772152 0.55       0.57468354 0.56392405 0.57468354 0.6056962\n",
      " 0.60822785 0.61202532 0.59784674 0.56934769]\n",
      "Mean score is 0.56242\n"
     ]
    }
   ],
   "source": [
    "knn_scores = cross_val_score(knn, X_res, y_res, cv=10, scoring='accuracy')\n",
    "print('Accuracy of each partition:\\n',knn_scores)\n",
    "print('Mean score is',round(knn_scores.mean(),5)) "
   ]
  },
  {
   "cell_type": "code",
   "execution_count": 289,
   "metadata": {},
   "outputs": [],
   "source": [
    "bag = BaggingClassifier(knn, max_samples=5,max_features=2,n_jobs=2,oob_score=True)"
   ]
  },
  {
   "cell_type": "code",
   "execution_count": 290,
   "metadata": {},
   "outputs": [
    {
     "name": "stderr",
     "output_type": "stream",
     "text": [
      "C:\\Users\\azerk\\Anaconda3\\lib\\site-packages\\sklearn\\ensemble\\_bagging.py:645: DataConversionWarning: A column-vector y was passed when a 1d array was expected. Please change the shape of y to (n_samples, ), for example using ravel().\n",
      "  y = column_or_1d(y, warn=True)\n"
     ]
    },
    {
     "data": {
      "text/plain": [
       "BaggingClassifier(base_estimator=KNeighborsClassifier(algorithm='auto',\n",
       "                                                      leaf_size=30,\n",
       "                                                      metric='minkowski',\n",
       "                                                      metric_params=None,\n",
       "                                                      n_jobs=None,\n",
       "                                                      n_neighbors=3, p=2,\n",
       "                                                      weights='uniform'),\n",
       "                  bootstrap=True, bootstrap_features=False, max_features=2,\n",
       "                  max_samples=5, n_estimators=10, n_jobs=2, oob_score=True,\n",
       "                  random_state=None, verbose=0, warm_start=False)"
      ]
     },
     "execution_count": 290,
     "metadata": {},
     "output_type": "execute_result"
    }
   ],
   "source": [
    "bag.fit(X_train,y_train)"
   ]
  },
  {
   "cell_type": "code",
   "execution_count": 291,
   "metadata": {},
   "outputs": [
    {
     "data": {
      "text/plain": [
       "0.5944463200540175"
      ]
     },
     "execution_count": 291,
     "metadata": {},
     "output_type": "execute_result"
    }
   ],
   "source": [
    "bag.oob_score_"
   ]
  },
  {
   "cell_type": "code",
   "execution_count": 292,
   "metadata": {},
   "outputs": [
    {
     "name": "stdout",
     "output_type": "stream",
     "text": [
      "Bagging accuracy score is 0.49468\n"
     ]
    }
   ],
   "source": [
    "y_pred = bag.predict(X_test)\n",
    "print('Bagging accuracy score is',round(metrics.accuracy_score(y_test, y_pred),5))"
   ]
  },
  {
   "cell_type": "code",
   "execution_count": 293,
   "metadata": {},
   "outputs": [
    {
     "name": "stderr",
     "output_type": "stream",
     "text": [
      "C:\\Users\\azerk\\Anaconda3\\lib\\site-packages\\sklearn\\utils\\validation.py:760: DataConversionWarning: A column-vector y was passed when a 1d array was expected. Please change the shape of y to (n_samples, ), for example using ravel().\n",
      "  y = column_or_1d(y, warn=True)\n"
     ]
    },
    {
     "name": "stdout",
     "output_type": "stream",
     "text": [
      "AdaBoost`s accuracy score is 0.6843\n"
     ]
    }
   ],
   "source": [
    "ada = AdaBoostClassifier(base_estimator=None, n_estimators=100)\n",
    "ada.fit(X_train, y_train)\n",
    "y_pred = ada.predict(X_test)\n",
    "print('AdaBoost`s accuracy score is',round(metrics.accuracy_score(y_test, y_pred),5))"
   ]
  },
  {
   "cell_type": "code",
   "execution_count": 294,
   "metadata": {},
   "outputs": [
    {
     "name": "stderr",
     "output_type": "stream",
     "text": [
      "C:\\Users\\azerk\\Anaconda3\\lib\\site-packages\\sklearn\\ensemble\\_gb.py:1454: DataConversionWarning: A column-vector y was passed when a 1d array was expected. Please change the shape of y to (n_samples, ), for example using ravel().\n",
      "  y = column_or_1d(y, warn=True)\n"
     ]
    },
    {
     "name": "stdout",
     "output_type": "stream",
     "text": [
      "GradientTreeBoosting`s accuracy score is 0.68101\n"
     ]
    }
   ],
   "source": [
    "gtb = GradientBoostingClassifier(n_estimators=10)\n",
    "gtb.fit(X_train,y_train)\n",
    "y_pred = gtb.predict(X_test)\n",
    "print('GradientTreeBoosting`s accuracy score is',round(metrics.accuracy_score(y_test, y_pred),5))"
   ]
  },
  {
   "cell_type": "code",
   "execution_count": 295,
   "metadata": {},
   "outputs": [
    {
     "name": "stderr",
     "output_type": "stream",
     "text": [
      "C:\\Users\\azerk\\Anaconda3\\lib\\site-packages\\sklearn\\preprocessing\\_label.py:235: DataConversionWarning: A column-vector y was passed when a 1d array was expected. Please change the shape of y to (n_samples, ), for example using ravel().\n",
      "  y = column_or_1d(y, warn=True)\n",
      "C:\\Users\\azerk\\Anaconda3\\lib\\site-packages\\sklearn\\preprocessing\\_label.py:268: DataConversionWarning: A column-vector y was passed when a 1d array was expected. Please change the shape of y to (n_samples, ), for example using ravel().\n",
      "  y = column_or_1d(y, warn=True)\n"
     ]
    },
    {
     "name": "stdout",
     "output_type": "stream",
     "text": [
      "VotingClassifier`s accuracy score = 0.67165\n"
     ]
    }
   ],
   "source": [
    "evc = VotingClassifier(estimators= [('lr', lr), ('gnb', gnb), ('rfc', rfc)], voting='hard')\n",
    "evc.fit(X_train,y_train)\n",
    "y_pred = evc.predict(X_test)\n",
    "print('VotingClassifier`s accuracy score =',round(metrics.accuracy_score(y_test, y_pred),5))"
   ]
  },
  {
   "cell_type": "markdown",
   "metadata": {},
   "source": [
    "## After comparing the accuracy of different algorithms, we can conclude that in the best case scenario our model can correctly predict the credit score of 7 applicants out of 10. I believe that there is a large room for improvement"
   ]
  },
  {
   "cell_type": "code",
   "execution_count": null,
   "metadata": {},
   "outputs": [],
   "source": []
  }
 ],
 "metadata": {
  "kernelspec": {
   "display_name": "Python 3",
   "language": "python",
   "name": "python3"
  },
  "language_info": {
   "codemirror_mode": {
    "name": "ipython",
    "version": 3
   },
   "file_extension": ".py",
   "mimetype": "text/x-python",
   "name": "python",
   "nbconvert_exporter": "python",
   "pygments_lexer": "ipython3",
   "version": "3.7.4"
  }
 },
 "nbformat": 4,
 "nbformat_minor": 2
}
