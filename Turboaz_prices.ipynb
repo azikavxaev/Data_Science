{
 "cells": [
  {
   "cell_type": "markdown",
   "metadata": {},
   "source": [
    "# Predicting car prices using Turboaz data"
   ]
  },
  {
   "cell_type": "markdown",
   "metadata": {},
   "source": [
    "## In this notebook I will try to compare the efficiency of selected machine learning algorithms in predicting car prices."
   ]
  },
  {
   "cell_type": "code",
   "execution_count": 967,
   "metadata": {},
   "outputs": [],
   "source": [
    "# importing libraries\n",
    "\n",
    "import pandas as pd\n",
    "import numpy as np\n",
    "import matplotlib.pyplot as plt\n",
    "import seaborn as sns"
   ]
  },
  {
   "cell_type": "code",
   "execution_count": 968,
   "metadata": {},
   "outputs": [
    {
     "data": {
      "text/html": [
       "<div>\n",
       "<style scoped>\n",
       "    .dataframe tbody tr th:only-of-type {\n",
       "        vertical-align: middle;\n",
       "    }\n",
       "\n",
       "    .dataframe tbody tr th {\n",
       "        vertical-align: top;\n",
       "    }\n",
       "\n",
       "    .dataframe thead th {\n",
       "        text-align: right;\n",
       "    }\n",
       "</style>\n",
       "<table border=\"1\" class=\"dataframe\">\n",
       "  <thead>\n",
       "    <tr style=\"text-align: right;\">\n",
       "      <th></th>\n",
       "      <th>Sheher</th>\n",
       "      <th>Marka</th>\n",
       "      <th>Model</th>\n",
       "      <th>Buraxilish ili</th>\n",
       "      <th>Ban novu</th>\n",
       "      <th>Reng</th>\n",
       "      <th>Muherrikin hecmi</th>\n",
       "      <th>Muherrikin gucu</th>\n",
       "      <th>Yanacaq novu</th>\n",
       "      <th>Yurush</th>\n",
       "      <th>Suretler qutusu</th>\n",
       "      <th>Oturucu</th>\n",
       "      <th>Yeni</th>\n",
       "      <th>Qiymet</th>\n",
       "      <th>Extra Info</th>\n",
       "      <th>Seller comment</th>\n",
       "    </tr>\n",
       "  </thead>\n",
       "  <tbody>\n",
       "    <tr>\n",
       "      <td>0</td>\n",
       "      <td>Sumqayıt</td>\n",
       "      <td>Mercedes</td>\n",
       "      <td>C 200</td>\n",
       "      <td>1999</td>\n",
       "      <td>Sedan</td>\n",
       "      <td>Qara</td>\n",
       "      <td>2.0 L</td>\n",
       "      <td>175 a.g.</td>\n",
       "      <td>Benzin</td>\n",
       "      <td>366 000 km</td>\n",
       "      <td>Avtomat</td>\n",
       "      <td>Arxa</td>\n",
       "      <td>Xeyr</td>\n",
       "      <td>12500 AZN</td>\n",
       "      <td>Kreditdədir</td>\n",
       "      <td>Barter mümkündür</td>\n",
       "    </tr>\n",
       "    <tr>\n",
       "      <td>1</td>\n",
       "      <td>Bakı</td>\n",
       "      <td>Mercedes</td>\n",
       "      <td>C 180</td>\n",
       "      <td>2014</td>\n",
       "      <td>Sedan</td>\n",
       "      <td>Qara</td>\n",
       "      <td>1.6 L</td>\n",
       "      <td>167 a.g.</td>\n",
       "      <td>Benzin</td>\n",
       "      <td>102 000 km</td>\n",
       "      <td>Avtomat</td>\n",
       "      <td>Arxa</td>\n",
       "      <td>Xeyr</td>\n",
       "      <td>31500 $</td>\n",
       "      <td>Barter mümkündür</td>\n",
       "      <td>Yüngül lehimli disklər,ABS,Yağış sensoru,Mərkə...</td>\n",
       "    </tr>\n",
       "    <tr>\n",
       "      <td>2</td>\n",
       "      <td>Sumqayıt</td>\n",
       "      <td>Mercedes</td>\n",
       "      <td>C 240</td>\n",
       "      <td>2002</td>\n",
       "      <td>Sedan</td>\n",
       "      <td>Qara</td>\n",
       "      <td>2.6 L</td>\n",
       "      <td>177 a.g.</td>\n",
       "      <td>Benzin</td>\n",
       "      <td>469 700 km</td>\n",
       "      <td>Avtomat</td>\n",
       "      <td>Arxa</td>\n",
       "      <td>Xeyr</td>\n",
       "      <td>11700 AZN</td>\n",
       "      <td>Kreditdədir</td>\n",
       "      <td>Barter mümkündür</td>\n",
       "    </tr>\n",
       "    <tr>\n",
       "      <td>3</td>\n",
       "      <td>Şirvan</td>\n",
       "      <td>Mercedes</td>\n",
       "      <td>C 180</td>\n",
       "      <td>1998</td>\n",
       "      <td>Sedan</td>\n",
       "      <td>Göy</td>\n",
       "      <td>1.8 L</td>\n",
       "      <td>125 a.g.</td>\n",
       "      <td>Benzin</td>\n",
       "      <td>556 680 km</td>\n",
       "      <td>Avtomat</td>\n",
       "      <td>Arxa</td>\n",
       "      <td>Xeyr</td>\n",
       "      <td>9700 AZN</td>\n",
       "      <td>Yüngül lehimli disklər,ABS,Mərkəzi qapanma,Kon...</td>\n",
       "      <td>Mawin BAKIDADI. Tecili satilir yaxwi veziyetde...</td>\n",
       "    </tr>\n",
       "    <tr>\n",
       "      <td>4</td>\n",
       "      <td>Sumqayıt</td>\n",
       "      <td>Mercedes</td>\n",
       "      <td>C 220</td>\n",
       "      <td>2000</td>\n",
       "      <td>Sedan</td>\n",
       "      <td>Gümüşü</td>\n",
       "      <td>2.2 L</td>\n",
       "      <td>150 a.g.</td>\n",
       "      <td>Dizel</td>\n",
       "      <td>300 000 km</td>\n",
       "      <td>Avtomat</td>\n",
       "      <td>Arxa</td>\n",
       "      <td>Xeyr</td>\n",
       "      <td>12700 AZN</td>\n",
       "      <td>Yüngül lehimli disklər,ABS,Mərkəzi qapanma,Par...</td>\n",
       "      <td>Vurugu udari deyisen detali curuyu qetiyyen yo...</td>\n",
       "    </tr>\n",
       "  </tbody>\n",
       "</table>\n",
       "</div>"
      ],
      "text/plain": [
       "     Sheher     Marka  Model  Buraxilish ili Ban novu    Reng  \\\n",
       "0  Sumqayıt  Mercedes  C 200            1999    Sedan    Qara   \n",
       "1      Bakı  Mercedes  C 180            2014    Sedan    Qara   \n",
       "2  Sumqayıt  Mercedes  C 240            2002    Sedan    Qara   \n",
       "3    Şirvan  Mercedes  C 180            1998    Sedan     Göy   \n",
       "4  Sumqayıt  Mercedes  C 220            2000    Sedan  Gümüşü   \n",
       "\n",
       "  Muherrikin hecmi Muherrikin gucu Yanacaq novu      Yurush Suretler qutusu  \\\n",
       "0            2.0 L        175 a.g.       Benzin  366 000 km         Avtomat   \n",
       "1            1.6 L        167 a.g.       Benzin  102 000 km         Avtomat   \n",
       "2            2.6 L        177 a.g.       Benzin  469 700 km         Avtomat   \n",
       "3            1.8 L        125 a.g.       Benzin  556 680 km         Avtomat   \n",
       "4            2.2 L        150 a.g.        Dizel  300 000 km         Avtomat   \n",
       "\n",
       "  Oturucu  Yeni     Qiymet                                         Extra Info  \\\n",
       "0    Arxa  Xeyr  12500 AZN                                        Kreditdədir   \n",
       "1    Arxa  Xeyr    31500 $                                   Barter mümkündür   \n",
       "2    Arxa  Xeyr  11700 AZN                                        Kreditdədir   \n",
       "3    Arxa  Xeyr   9700 AZN  Yüngül lehimli disklər,ABS,Mərkəzi qapanma,Kon...   \n",
       "4    Arxa  Xeyr  12700 AZN  Yüngül lehimli disklər,ABS,Mərkəzi qapanma,Par...   \n",
       "\n",
       "                                      Seller comment  \n",
       "0                                   Barter mümkündür  \n",
       "1  Yüngül lehimli disklər,ABS,Yağış sensoru,Mərkə...  \n",
       "2                                   Barter mümkündür  \n",
       "3  Mawin BAKIDADI. Tecili satilir yaxwi veziyetde...  \n",
       "4  Vurugu udari deyisen detali curuyu qetiyyen yo...  "
      ]
     },
     "execution_count": 968,
     "metadata": {},
     "output_type": "execute_result"
    }
   ],
   "source": [
    "turboaz = pd.read_csv(r\"C:\\Users\\azerk\\Desktop\\Data\\turboaz.csv\")\n",
    "turboaz.head()"
   ]
  },
  {
   "cell_type": "code",
   "execution_count": 969,
   "metadata": {},
   "outputs": [
    {
     "name": "stdout",
     "output_type": "stream",
     "text": [
      "<class 'pandas.core.frame.DataFrame'>\n",
      "RangeIndex: 1027 entries, 0 to 1026\n",
      "Data columns (total 16 columns):\n",
      "Sheher              1027 non-null object\n",
      "Marka               1027 non-null object\n",
      "Model               1027 non-null object\n",
      "Buraxilish ili      1027 non-null int64\n",
      "Ban novu            1027 non-null object\n",
      "Reng                1027 non-null object\n",
      "Muherrikin hecmi    1027 non-null object\n",
      "Muherrikin gucu     1027 non-null object\n",
      "Yanacaq novu        1027 non-null object\n",
      "Yurush              1027 non-null object\n",
      "Suretler qutusu     1027 non-null object\n",
      "Oturucu             1027 non-null object\n",
      "Yeni                1027 non-null object\n",
      "Qiymet              1027 non-null object\n",
      "Extra Info          1021 non-null object\n",
      "Seller comment      1026 non-null object\n",
      "dtypes: int64(1), object(15)\n",
      "memory usage: 128.5+ KB\n"
     ]
    }
   ],
   "source": [
    "# Dropping the duplicate values\n",
    "\n",
    "turboaz.drop_duplicates(inplace=True)\n",
    "turboaz.reset_index(drop=True, inplace=True)\n",
    "turboaz.info()"
   ]
  },
  {
   "cell_type": "markdown",
   "metadata": {},
   "source": [
    "###  We have 6 null values in \"Extra Info\" column and 1 null value in \"Seller comment\" column. We need to drop them, since fillna may be problematic in the case of these 2 columns"
   ]
  },
  {
   "cell_type": "code",
   "execution_count": 970,
   "metadata": {},
   "outputs": [],
   "source": [
    "turboaz.dropna(inplace=True)\n",
    "turboaz.reset_index(drop=True, inplace=True)"
   ]
  },
  {
   "cell_type": "code",
   "execution_count": 971,
   "metadata": {},
   "outputs": [],
   "source": [
    "# Let`s transform the year of manufacture column into the years of usage column\n",
    "\n",
    "turboaz[\"Buraxilish iliaxilish ili\"] = 2020 - turboaz[\"Buraxilish ili\"]\n",
    "turboaz.rename(columns={\"Buraxilish ili\": \"Istifade muddeti\"}, inplace=True)"
   ]
  },
  {
   "cell_type": "markdown",
   "metadata": {},
   "source": [
    "### Now, we need to improve the shape of the dataset. Some columns include both numbers and letters, which is not acceptable"
   ]
  },
  {
   "cell_type": "code",
   "execution_count": 972,
   "metadata": {},
   "outputs": [],
   "source": [
    "qiymetsplitted = turboaz[\"Qiymet\"].str.split()\n",
    "hecmsplitted = turboaz[\"Muherrikin hecmi\"].str.split()\n",
    "gucsplitted = turboaz[\"Muherrikin gucu\"].str.split()\n",
    "yurushsplitted = turboaz[\"Yurush\"].str.split()\n",
    "\n",
    "# removing the L letter from the data in the \"muherrikin hecmi\" column\n",
    "for index, row in turboaz.iterrows():\n",
    "     turboaz.at[index, 'Muherrikin hecmi'] = hecmsplitted[index][0] "
   ]
  },
  {
   "cell_type": "code",
   "execution_count": 973,
   "metadata": {},
   "outputs": [],
   "source": [
    "# removing a.g. from the data in the \"muherrikin gucu\" column\n",
    "for index, row in turboaz.iterrows():\n",
    "     turboaz.at[index, 'Muherrikin gucu'] = gucsplitted[index][0]"
   ]
  },
  {
   "cell_type": "code",
   "execution_count": 974,
   "metadata": {},
   "outputs": [],
   "source": [
    "# removing km from the data in the \"Yurush column\"\n",
    "for index, row in turboaz.iterrows():\n",
    "    if yurushsplitted[index][1]==\"km\":\n",
    "        turboaz.at[index, 'Yurush'] = yurushsplitted[index][0]\n",
    "    else:\n",
    "        turboaz.at[index, 'Yurush'] = yurushsplitted[index][0]+yurushsplitted[index][1]"
   ]
  },
  {
   "cell_type": "code",
   "execution_count": 975,
   "metadata": {},
   "outputs": [
    {
     "data": {
      "text/plain": [
       "AZN    980\n",
       "$       40\n",
       "Name: Mezenne, dtype: int64"
      ]
     },
     "execution_count": 975,
     "metadata": {},
     "output_type": "execute_result"
    }
   ],
   "source": [
    "# We need to removing the currency label from the \"qiymet\" column, but we also need to tranform the entries in usd into azn.\n",
    "# First, let`s make sure that there are entries only in 2 currencies:\n",
    "\n",
    "for index, row in turboaz.iterrows():\n",
    "     turboaz.at[index, 'Mezenne'] = qiymetsplitted[index][1]\n",
    "        \n",
    "turboaz[\"Mezenne\"].value_counts()"
   ]
  },
  {
   "cell_type": "code",
   "execution_count": 976,
   "metadata": {},
   "outputs": [],
   "source": [
    "# now we can drop the temporarily created \"mezenne\" column\n",
    "turboaz.drop(columns=[\"Mezenne\"], inplace=True)"
   ]
  },
  {
   "cell_type": "code",
   "execution_count": 977,
   "metadata": {},
   "outputs": [],
   "source": [
    "# Converting the usd to azn\n",
    "\n",
    "for index, row in turboaz.iterrows():\n",
    "    if qiymetsplitted[index][1] == \"AZN\":\n",
    "        turboaz.at[index, 'Qiymet'] = int(qiymetsplitted[index][0])\n",
    "    elif qiymetsplitted[index][1] == \"$\":\n",
    "        turboaz.at[index, 'Qiymet'] = int(qiymetsplitted[index][0])*1.7\n",
    "        \n",
    "turboaz[\"Qiymet\"] = pd.to_numeric(turboaz.Qiymet)"
   ]
  },
  {
   "cell_type": "markdown",
   "metadata": {},
   "source": [
    "## Let\\`s start analyzing the categorical features. Some of them may contain less information than we desire to collect"
   ]
  },
  {
   "cell_type": "code",
   "execution_count": 978,
   "metadata": {},
   "outputs": [
    {
     "data": {
      "text/plain": [
       "Xeyr    0.996078\n",
       "Bəli    0.003922\n",
       "Name: Yeni, dtype: float64"
      ]
     },
     "execution_count": 978,
     "metadata": {},
     "output_type": "execute_result"
    }
   ],
   "source": [
    "turboaz[\"Yeni\"].value_counts(normalize=True)"
   ]
  },
  {
   "cell_type": "code",
   "execution_count": 979,
   "metadata": {},
   "outputs": [],
   "source": [
    "# 99.6% of the cars are used, so I decided to drop this column, since the variance is too low. \n",
    "turboaz.drop(columns=[\"Yeni\"], inplace=True)"
   ]
  },
  {
   "cell_type": "code",
   "execution_count": 980,
   "metadata": {},
   "outputs": [
    {
     "data": {
      "text/plain": [
       "Mercedes    1020\n",
       "Name: Marka, dtype: int64"
      ]
     },
     "execution_count": 980,
     "metadata": {},
     "output_type": "execute_result"
    }
   ],
   "source": [
    "turboaz[\"Marka\"].value_counts()"
   ]
  },
  {
   "cell_type": "code",
   "execution_count": 981,
   "metadata": {},
   "outputs": [],
   "source": [
    "turboaz.drop(columns=[\"Marka\"], inplace=True)"
   ]
  },
  {
   "cell_type": "code",
   "execution_count": 982,
   "metadata": {},
   "outputs": [
    {
     "data": {
      "text/plain": [
       "Arxa    977\n",
       "Tam      26\n",
       "Ön       17\n",
       "Name: Oturucu, dtype: int64"
      ]
     },
     "execution_count": 982,
     "metadata": {},
     "output_type": "execute_result"
    }
   ],
   "source": [
    "turboaz[\"Oturucu\"].value_counts()"
   ]
  },
  {
   "cell_type": "code",
   "execution_count": 983,
   "metadata": {},
   "outputs": [],
   "source": [
    "turboaz.drop(columns=[\"Oturucu\"], inplace=True)"
   ]
  },
  {
   "cell_type": "code",
   "execution_count": 984,
   "metadata": {},
   "outputs": [],
   "source": [
    "turboaz[\"Muherrikin gucu\"] = pd.to_numeric(turboaz[\"Muherrikin gucu\"])\n",
    "turboaz[\"Muherrikin hecmi\"] = pd.to_numeric(turboaz[\"Muherrikin hecmi\"])\n",
    "turboaz[\"Yurush\"] = pd.to_numeric(turboaz[\"Yurush\"])"
   ]
  },
  {
   "cell_type": "code",
   "execution_count": 985,
   "metadata": {},
   "outputs": [
    {
     "name": "stdout",
     "output_type": "stream",
     "text": [
      "<class 'pandas.core.frame.DataFrame'>\n",
      "RangeIndex: 1020 entries, 0 to 1019\n",
      "Data columns (total 14 columns):\n",
      "Sheher                       1020 non-null object\n",
      "Model                        1020 non-null object\n",
      "Istifade muddeti             1020 non-null int64\n",
      "Ban novu                     1020 non-null object\n",
      "Reng                         1020 non-null object\n",
      "Muherrikin hecmi             1020 non-null float64\n",
      "Muherrikin gucu              1020 non-null int64\n",
      "Yanacaq novu                 1020 non-null object\n",
      "Yurush                       1020 non-null int64\n",
      "Suretler qutusu              1020 non-null object\n",
      "Qiymet                       1020 non-null float64\n",
      "Extra Info                   1020 non-null object\n",
      "Seller comment               1020 non-null object\n",
      "Buraxilish iliaxilish ili    1020 non-null int64\n",
      "dtypes: float64(2), int64(4), object(8)\n",
      "memory usage: 111.7+ KB\n"
     ]
    }
   ],
   "source": [
    "turboaz.info()"
   ]
  },
  {
   "cell_type": "markdown",
   "metadata": {},
   "source": [
    "### The dataset now looks a little bit cleaner, but still lots of work to do"
   ]
  },
  {
   "cell_type": "code",
   "execution_count": 986,
   "metadata": {},
   "outputs": [
    {
     "data": {
      "text/html": [
       "<div>\n",
       "<style scoped>\n",
       "    .dataframe tbody tr th:only-of-type {\n",
       "        vertical-align: middle;\n",
       "    }\n",
       "\n",
       "    .dataframe tbody tr th {\n",
       "        vertical-align: top;\n",
       "    }\n",
       "\n",
       "    .dataframe thead th {\n",
       "        text-align: right;\n",
       "    }\n",
       "</style>\n",
       "<table border=\"1\" class=\"dataframe\">\n",
       "  <thead>\n",
       "    <tr style=\"text-align: right;\">\n",
       "      <th></th>\n",
       "      <th>Sheher</th>\n",
       "      <th>Model</th>\n",
       "      <th>Istifade muddeti</th>\n",
       "      <th>Ban novu</th>\n",
       "      <th>Reng</th>\n",
       "      <th>Muherrikin hecmi</th>\n",
       "      <th>Muherrikin gucu</th>\n",
       "      <th>Yanacaq novu</th>\n",
       "      <th>Yurush</th>\n",
       "      <th>Suretler qutusu</th>\n",
       "      <th>Qiymet</th>\n",
       "      <th>Extra Info</th>\n",
       "      <th>Seller comment</th>\n",
       "      <th>Buraxilish iliaxilish ili</th>\n",
       "    </tr>\n",
       "  </thead>\n",
       "  <tbody>\n",
       "    <tr>\n",
       "      <td>0</td>\n",
       "      <td>Sumqayıt</td>\n",
       "      <td>C 200</td>\n",
       "      <td>1999</td>\n",
       "      <td>Sedan</td>\n",
       "      <td>Qara</td>\n",
       "      <td>2.0</td>\n",
       "      <td>175</td>\n",
       "      <td>Benzin</td>\n",
       "      <td>366000</td>\n",
       "      <td>Avtomat</td>\n",
       "      <td>12500.0</td>\n",
       "      <td>Kreditdədir</td>\n",
       "      <td>Barter mümkündür</td>\n",
       "      <td>21</td>\n",
       "    </tr>\n",
       "    <tr>\n",
       "      <td>1</td>\n",
       "      <td>Bakı</td>\n",
       "      <td>C 180</td>\n",
       "      <td>2014</td>\n",
       "      <td>Sedan</td>\n",
       "      <td>Qara</td>\n",
       "      <td>1.6</td>\n",
       "      <td>167</td>\n",
       "      <td>Benzin</td>\n",
       "      <td>102000</td>\n",
       "      <td>Avtomat</td>\n",
       "      <td>53550.0</td>\n",
       "      <td>Barter mümkündür</td>\n",
       "      <td>Yüngül lehimli disklər,ABS,Yağış sensoru,Mərkə...</td>\n",
       "      <td>6</td>\n",
       "    </tr>\n",
       "    <tr>\n",
       "      <td>2</td>\n",
       "      <td>Sumqayıt</td>\n",
       "      <td>C 240</td>\n",
       "      <td>2002</td>\n",
       "      <td>Sedan</td>\n",
       "      <td>Qara</td>\n",
       "      <td>2.6</td>\n",
       "      <td>177</td>\n",
       "      <td>Benzin</td>\n",
       "      <td>469700</td>\n",
       "      <td>Avtomat</td>\n",
       "      <td>11700.0</td>\n",
       "      <td>Kreditdədir</td>\n",
       "      <td>Barter mümkündür</td>\n",
       "      <td>18</td>\n",
       "    </tr>\n",
       "    <tr>\n",
       "      <td>3</td>\n",
       "      <td>Şirvan</td>\n",
       "      <td>C 180</td>\n",
       "      <td>1998</td>\n",
       "      <td>Sedan</td>\n",
       "      <td>Göy</td>\n",
       "      <td>1.8</td>\n",
       "      <td>125</td>\n",
       "      <td>Benzin</td>\n",
       "      <td>556680</td>\n",
       "      <td>Avtomat</td>\n",
       "      <td>9700.0</td>\n",
       "      <td>Yüngül lehimli disklər,ABS,Mərkəzi qapanma,Kon...</td>\n",
       "      <td>Mawin BAKIDADI. Tecili satilir yaxwi veziyetde...</td>\n",
       "      <td>22</td>\n",
       "    </tr>\n",
       "    <tr>\n",
       "      <td>4</td>\n",
       "      <td>Sumqayıt</td>\n",
       "      <td>C 220</td>\n",
       "      <td>2000</td>\n",
       "      <td>Sedan</td>\n",
       "      <td>Gümüşü</td>\n",
       "      <td>2.2</td>\n",
       "      <td>150</td>\n",
       "      <td>Dizel</td>\n",
       "      <td>300000</td>\n",
       "      <td>Avtomat</td>\n",
       "      <td>12700.0</td>\n",
       "      <td>Yüngül lehimli disklər,ABS,Mərkəzi qapanma,Par...</td>\n",
       "      <td>Vurugu udari deyisen detali curuyu qetiyyen yo...</td>\n",
       "      <td>20</td>\n",
       "    </tr>\n",
       "    <tr>\n",
       "      <td>5</td>\n",
       "      <td>Bakı</td>\n",
       "      <td>C 230</td>\n",
       "      <td>1999</td>\n",
       "      <td>Sedan</td>\n",
       "      <td>Gümüşü</td>\n",
       "      <td>2.3</td>\n",
       "      <td>150</td>\n",
       "      <td>Benzin</td>\n",
       "      <td>200000</td>\n",
       "      <td>Avtomat</td>\n",
       "      <td>11200.0</td>\n",
       "      <td>Yüngül lehimli disklər,ABS,Lyuk,Mərkəzi qapanm...</td>\n",
       "      <td>Maşın Təcili satılır. əla vəziyyətdədir.heç bi...</td>\n",
       "      <td>21</td>\n",
       "    </tr>\n",
       "    <tr>\n",
       "      <td>6</td>\n",
       "      <td>Bakı</td>\n",
       "      <td>C 240</td>\n",
       "      <td>1998</td>\n",
       "      <td>Sedan</td>\n",
       "      <td>Qara</td>\n",
       "      <td>2.4</td>\n",
       "      <td>170</td>\n",
       "      <td>Benzin</td>\n",
       "      <td>187000</td>\n",
       "      <td>Avtomat</td>\n",
       "      <td>13800.0</td>\n",
       "      <td>Barter mümkündür</td>\n",
       "      <td>Yüngül lehimli disklər,ABS,Mərkəzi qapanma,Kon...</td>\n",
       "      <td>22</td>\n",
       "    </tr>\n",
       "    <tr>\n",
       "      <td>7</td>\n",
       "      <td>Bakı</td>\n",
       "      <td>C 230</td>\n",
       "      <td>1998</td>\n",
       "      <td>Sedan</td>\n",
       "      <td>Qara</td>\n",
       "      <td>2.3</td>\n",
       "      <td>150</td>\n",
       "      <td>Qaz</td>\n",
       "      <td>309200</td>\n",
       "      <td>Avtomat</td>\n",
       "      <td>11400.0</td>\n",
       "      <td>Yüngül lehimli disklər,ABS,Lyuk,Kondisioner,Də...</td>\n",
       "      <td>salam  mercedes c230 kompressor avtomobili sat...</td>\n",
       "      <td>22</td>\n",
       "    </tr>\n",
       "    <tr>\n",
       "      <td>8</td>\n",
       "      <td>Lənkəran</td>\n",
       "      <td>C 200</td>\n",
       "      <td>1994</td>\n",
       "      <td>Sedan</td>\n",
       "      <td>Gümüşü</td>\n",
       "      <td>2.0</td>\n",
       "      <td>111</td>\n",
       "      <td>Benzin</td>\n",
       "      <td>426872</td>\n",
       "      <td>Avtomat</td>\n",
       "      <td>8500.0</td>\n",
       "      <td>Yüngül lehimli disklər,ABS,Mərkəzi qapanma,Kon...</td>\n",
       "      <td>Masin saz veziyetdedi hec bir xerc teleb edmir...</td>\n",
       "      <td>26</td>\n",
       "    </tr>\n",
       "    <tr>\n",
       "      <td>9</td>\n",
       "      <td>Bakı</td>\n",
       "      <td>C 200</td>\n",
       "      <td>1999</td>\n",
       "      <td>Sedan</td>\n",
       "      <td>Qırmızı</td>\n",
       "      <td>2.0</td>\n",
       "      <td>136</td>\n",
       "      <td>Benzin</td>\n",
       "      <td>240000</td>\n",
       "      <td>Avtomat</td>\n",
       "      <td>6800.0</td>\n",
       "      <td>Kreditdədir</td>\n",
       "      <td>Barter mümkündür</td>\n",
       "      <td>21</td>\n",
       "    </tr>\n",
       "    <tr>\n",
       "      <td>10</td>\n",
       "      <td>Bakı</td>\n",
       "      <td>C 230</td>\n",
       "      <td>2000</td>\n",
       "      <td>Sedan</td>\n",
       "      <td>Gümüşü</td>\n",
       "      <td>2.3</td>\n",
       "      <td>150</td>\n",
       "      <td>Benzin</td>\n",
       "      <td>234000</td>\n",
       "      <td>Avtomat</td>\n",
       "      <td>11300.0</td>\n",
       "      <td>Barter mümkündür</td>\n",
       "      <td>Yüngül lehimli disklər,ABS,Lyuk,Mərkəzi qapanm...</td>\n",
       "      <td>20</td>\n",
       "    </tr>\n",
       "    <tr>\n",
       "      <td>11</td>\n",
       "      <td>Şirvan</td>\n",
       "      <td>C 220</td>\n",
       "      <td>1996</td>\n",
       "      <td>Sedan</td>\n",
       "      <td>Göy</td>\n",
       "      <td>2.2</td>\n",
       "      <td>146</td>\n",
       "      <td>Benzin</td>\n",
       "      <td>318000</td>\n",
       "      <td>Avtomat</td>\n",
       "      <td>9300.0</td>\n",
       "      <td>Yüngül lehimli disklər,ABS,Lyuk,Mərkəzi qapanm...</td>\n",
       "      <td>Her gun ozum ucun surulen mawindi.Pul lazim ol...</td>\n",
       "      <td>24</td>\n",
       "    </tr>\n",
       "    <tr>\n",
       "      <td>12</td>\n",
       "      <td>Gəncə</td>\n",
       "      <td>C 180</td>\n",
       "      <td>1998</td>\n",
       "      <td>Sedan</td>\n",
       "      <td>Yaş Asfalt</td>\n",
       "      <td>1.8</td>\n",
       "      <td>122</td>\n",
       "      <td>Benzin</td>\n",
       "      <td>244680</td>\n",
       "      <td>Avtomat</td>\n",
       "      <td>12800.0</td>\n",
       "      <td>Yüngül lehimli disklər,ABS,Yağış sensoru,Mərkə...</td>\n",
       "      <td>Salam.mawin ços saliqali va baximli mawindI.vu...</td>\n",
       "      <td>22</td>\n",
       "    </tr>\n",
       "    <tr>\n",
       "      <td>13</td>\n",
       "      <td>Bakı</td>\n",
       "      <td>C 220</td>\n",
       "      <td>1995</td>\n",
       "      <td>Sedan</td>\n",
       "      <td>Yaşıl</td>\n",
       "      <td>2.2</td>\n",
       "      <td>146</td>\n",
       "      <td>Benzin</td>\n",
       "      <td>284567</td>\n",
       "      <td>Mexaniki</td>\n",
       "      <td>7300.0</td>\n",
       "      <td>Barter mümkündür</td>\n",
       "      <td>Yüngül lehimli disklər,ABS,Lyuk,Mərkəzi qapanm...</td>\n",
       "      <td>25</td>\n",
       "    </tr>\n",
       "    <tr>\n",
       "      <td>14</td>\n",
       "      <td>Bakı</td>\n",
       "      <td>C 240</td>\n",
       "      <td>2000</td>\n",
       "      <td>Sedan</td>\n",
       "      <td>Gümüşü</td>\n",
       "      <td>2.4</td>\n",
       "      <td>177</td>\n",
       "      <td>Benzin</td>\n",
       "      <td>295000</td>\n",
       "      <td>Avtomat</td>\n",
       "      <td>12400.0</td>\n",
       "      <td>Kreditdədir</td>\n",
       "      <td>Yüngül lehimli disklər,ABS,Lyuk,Yağış sensoru,...</td>\n",
       "      <td>20</td>\n",
       "    </tr>\n",
       "    <tr>\n",
       "      <td>15</td>\n",
       "      <td>Gəncə</td>\n",
       "      <td>C 180</td>\n",
       "      <td>1994</td>\n",
       "      <td>Sedan</td>\n",
       "      <td>Qəhvəyi</td>\n",
       "      <td>1.8</td>\n",
       "      <td>122</td>\n",
       "      <td>Benzin</td>\n",
       "      <td>300000</td>\n",
       "      <td>Mexaniki</td>\n",
       "      <td>7350.0</td>\n",
       "      <td>Yüngül lehimli disklər,ABS,Lyuk,Mərkəzi qapanma</td>\n",
       "      <td>Salam maslnln hec bir problemi yoxdu vuruqu ud...</td>\n",
       "      <td>26</td>\n",
       "    </tr>\n",
       "    <tr>\n",
       "      <td>16</td>\n",
       "      <td>Bakı</td>\n",
       "      <td>C 200</td>\n",
       "      <td>1998</td>\n",
       "      <td>Universal</td>\n",
       "      <td>Göy</td>\n",
       "      <td>2.0</td>\n",
       "      <td>136</td>\n",
       "      <td>Benzin</td>\n",
       "      <td>248000</td>\n",
       "      <td>Avtomat</td>\n",
       "      <td>10500.0</td>\n",
       "      <td>Yüngül lehimli disklər,ABS,Lyuk,Mərkəzi qapanm...</td>\n",
       "      <td>Maşın ideal veziyyetde .udarı vuruğu yoxdur.qa...</td>\n",
       "      <td>22</td>\n",
       "    </tr>\n",
       "    <tr>\n",
       "      <td>17</td>\n",
       "      <td>Bakı</td>\n",
       "      <td>C 230</td>\n",
       "      <td>1999</td>\n",
       "      <td>Sedan</td>\n",
       "      <td>Gümüşü</td>\n",
       "      <td>2.3</td>\n",
       "      <td>150</td>\n",
       "      <td>Benzin</td>\n",
       "      <td>155000</td>\n",
       "      <td>Avtomat</td>\n",
       "      <td>12300.0</td>\n",
       "      <td>Yüngül lehimli disklər,ABS,Lyuk,Mərkəzi qapanm...</td>\n",
       "      <td>Super veziyyetdedir.Her bir detalina vaxtinda ...</td>\n",
       "      <td>21</td>\n",
       "    </tr>\n",
       "    <tr>\n",
       "      <td>18</td>\n",
       "      <td>Qax</td>\n",
       "      <td>C 180</td>\n",
       "      <td>1999</td>\n",
       "      <td>Sedan</td>\n",
       "      <td>Yaşıl</td>\n",
       "      <td>1.8</td>\n",
       "      <td>122</td>\n",
       "      <td>Benzin</td>\n",
       "      <td>201000</td>\n",
       "      <td>Mexaniki</td>\n",
       "      <td>10900.0</td>\n",
       "      <td>Yüngül lehimli disklər,ABS,Yağış sensoru,Kondi...</td>\n",
       "      <td>Masin idyal veziyetdedi hec bir xerci yoxdur</td>\n",
       "      <td>21</td>\n",
       "    </tr>\n",
       "    <tr>\n",
       "      <td>19</td>\n",
       "      <td>Bakı</td>\n",
       "      <td>C 220</td>\n",
       "      <td>1999</td>\n",
       "      <td>Universal</td>\n",
       "      <td>Gümüşü</td>\n",
       "      <td>2.2</td>\n",
       "      <td>146</td>\n",
       "      <td>Dizel</td>\n",
       "      <td>190000</td>\n",
       "      <td>Avtomat</td>\n",
       "      <td>14000.0</td>\n",
       "      <td>Yüngül lehimli disklər,ABS,Yağış sensoru,Mərkə...</td>\n",
       "      <td>Masinda mator karopka most super vezyetdedi xo...</td>\n",
       "      <td>21</td>\n",
       "    </tr>\n",
       "    <tr>\n",
       "      <td>20</td>\n",
       "      <td>Zaqatala</td>\n",
       "      <td>C 230</td>\n",
       "      <td>1999</td>\n",
       "      <td>Sedan</td>\n",
       "      <td>Qızılı</td>\n",
       "      <td>2.3</td>\n",
       "      <td>150</td>\n",
       "      <td>Benzin</td>\n",
       "      <td>167000</td>\n",
       "      <td>Avtomat</td>\n",
       "      <td>12300.0</td>\n",
       "      <td>Barter mümkündür</td>\n",
       "      <td>Yüngül lehimli disklər,ABS,Lyuk,Mərkəzi qapanm...</td>\n",
       "      <td>21</td>\n",
       "    </tr>\n",
       "    <tr>\n",
       "      <td>21</td>\n",
       "      <td>Bakı</td>\n",
       "      <td>C 220</td>\n",
       "      <td>1998</td>\n",
       "      <td>Sedan</td>\n",
       "      <td>Tünd qırmızı</td>\n",
       "      <td>2.2</td>\n",
       "      <td>143</td>\n",
       "      <td>Dizel</td>\n",
       "      <td>475630</td>\n",
       "      <td>Avtomat</td>\n",
       "      <td>10700.0</td>\n",
       "      <td>Yüngül lehimli disklər,ABS,Mərkəzi qapanma,Kon...</td>\n",
       "      <td>Salam.mawin 2:::2sade dizeldi .sidyay deyil he...</td>\n",
       "      <td>22</td>\n",
       "    </tr>\n",
       "    <tr>\n",
       "      <td>22</td>\n",
       "      <td>Bakı</td>\n",
       "      <td>C 320</td>\n",
       "      <td>2000</td>\n",
       "      <td>Sedan</td>\n",
       "      <td>Qara</td>\n",
       "      <td>3.2</td>\n",
       "      <td>224</td>\n",
       "      <td>Benzin</td>\n",
       "      <td>248000</td>\n",
       "      <td>Avtomat</td>\n",
       "      <td>7500.0</td>\n",
       "      <td>Yüngül lehimli disklər,ABS,Lyuk,Yağış sensoru,...</td>\n",
       "      <td>Çox təcili satılır.Polnu ful variyantdır.Mator...</td>\n",
       "      <td>20</td>\n",
       "    </tr>\n",
       "    <tr>\n",
       "      <td>23</td>\n",
       "      <td>Bakı</td>\n",
       "      <td>C 180</td>\n",
       "      <td>1994</td>\n",
       "      <td>Sedan</td>\n",
       "      <td>Gümüşü</td>\n",
       "      <td>1.8</td>\n",
       "      <td>136</td>\n",
       "      <td>Benzin</td>\n",
       "      <td>362000</td>\n",
       "      <td>Avtomat</td>\n",
       "      <td>8300.0</td>\n",
       "      <td>Kreditdədir</td>\n",
       "      <td>Yüngül lehimli disklər,ABS,Lyuk,Mərkəzi qapanm...</td>\n",
       "      <td>26</td>\n",
       "    </tr>\n",
       "    <tr>\n",
       "      <td>24</td>\n",
       "      <td>Bakı</td>\n",
       "      <td>C 220</td>\n",
       "      <td>1995</td>\n",
       "      <td>Sedan</td>\n",
       "      <td>Gümüşü</td>\n",
       "      <td>2.2</td>\n",
       "      <td>150</td>\n",
       "      <td>Benzin</td>\n",
       "      <td>362000</td>\n",
       "      <td>Mexaniki</td>\n",
       "      <td>8600.0</td>\n",
       "      <td>Kreditdədir</td>\n",
       "      <td>Yüngül lehimli disklər,ABS,Lyuk,Mərkəzi qapanm...</td>\n",
       "      <td>25</td>\n",
       "    </tr>\n",
       "    <tr>\n",
       "      <td>25</td>\n",
       "      <td>Bakı</td>\n",
       "      <td>C 200</td>\n",
       "      <td>2002</td>\n",
       "      <td>Sedan</td>\n",
       "      <td>Yaşıl</td>\n",
       "      <td>2.0</td>\n",
       "      <td>150</td>\n",
       "      <td>Benzin</td>\n",
       "      <td>291100</td>\n",
       "      <td>Avtomat</td>\n",
       "      <td>11200.0</td>\n",
       "      <td>Yüngül lehimli disklər,ABS,Lyuk,Yağış sensoru,...</td>\n",
       "      <td>Salam ilk Novbede Alanada Satanada ALLAH xeyir...</td>\n",
       "      <td>18</td>\n",
       "    </tr>\n",
       "    <tr>\n",
       "      <td>26</td>\n",
       "      <td>Bakı</td>\n",
       "      <td>C 230</td>\n",
       "      <td>1999</td>\n",
       "      <td>Sedan</td>\n",
       "      <td>Ağ</td>\n",
       "      <td>2.3</td>\n",
       "      <td>150</td>\n",
       "      <td>Benzin</td>\n",
       "      <td>194000</td>\n",
       "      <td>Avtomat</td>\n",
       "      <td>12650.0</td>\n",
       "      <td>Kreditdədir</td>\n",
       "      <td>Yüngül lehimli disklər,ABS,Lyuk,Yağış sensoru,...</td>\n",
       "      <td>21</td>\n",
       "    </tr>\n",
       "    <tr>\n",
       "      <td>27</td>\n",
       "      <td>Bakı</td>\n",
       "      <td>C 220</td>\n",
       "      <td>2001</td>\n",
       "      <td>Universal</td>\n",
       "      <td>Gümüşü</td>\n",
       "      <td>2.2</td>\n",
       "      <td>143</td>\n",
       "      <td>Dizel</td>\n",
       "      <td>268611</td>\n",
       "      <td>Avtomat</td>\n",
       "      <td>11800.0</td>\n",
       "      <td>Yüngül lehimli disklər,ABS,Lyuk,Yağış sensoru,...</td>\n",
       "      <td>Avtomobil temiz nemkadir udari, curuyu, pasi y...</td>\n",
       "      <td>19</td>\n",
       "    </tr>\n",
       "    <tr>\n",
       "      <td>28</td>\n",
       "      <td>Bakı</td>\n",
       "      <td>C 230</td>\n",
       "      <td>1999</td>\n",
       "      <td>Sedan</td>\n",
       "      <td>Qara</td>\n",
       "      <td>2.3</td>\n",
       "      <td>150</td>\n",
       "      <td>Benzin</td>\n",
       "      <td>280000</td>\n",
       "      <td>Avtomat</td>\n",
       "      <td>11900.0</td>\n",
       "      <td>Barter mümkündür</td>\n",
       "      <td>Yüngül lehimli disklər,ABS,Lyuk,Mərkəzi qapanm...</td>\n",
       "      <td>21</td>\n",
       "    </tr>\n",
       "    <tr>\n",
       "      <td>29</td>\n",
       "      <td>Bakı</td>\n",
       "      <td>C 240</td>\n",
       "      <td>1999</td>\n",
       "      <td>Sedan</td>\n",
       "      <td>Gümüşü</td>\n",
       "      <td>2.4</td>\n",
       "      <td>170</td>\n",
       "      <td>Benzin</td>\n",
       "      <td>280000</td>\n",
       "      <td>Avtomat</td>\n",
       "      <td>10900.0</td>\n",
       "      <td>Barter mümkündür</td>\n",
       "      <td>Yüngül lehimli disklər,ABS,Lyuk,Yağış sensoru,...</td>\n",
       "      <td>21</td>\n",
       "    </tr>\n",
       "  </tbody>\n",
       "</table>\n",
       "</div>"
      ],
      "text/plain": [
       "      Sheher  Model  Istifade muddeti   Ban novu          Reng  \\\n",
       "0   Sumqayıt  C 200              1999      Sedan          Qara   \n",
       "1       Bakı  C 180              2014      Sedan          Qara   \n",
       "2   Sumqayıt  C 240              2002      Sedan          Qara   \n",
       "3     Şirvan  C 180              1998      Sedan           Göy   \n",
       "4   Sumqayıt  C 220              2000      Sedan        Gümüşü   \n",
       "5       Bakı  C 230              1999      Sedan        Gümüşü   \n",
       "6       Bakı  C 240              1998      Sedan          Qara   \n",
       "7       Bakı  C 230              1998      Sedan          Qara   \n",
       "8   Lənkəran  C 200              1994      Sedan        Gümüşü   \n",
       "9       Bakı  C 200              1999      Sedan       Qırmızı   \n",
       "10      Bakı  C 230              2000      Sedan        Gümüşü   \n",
       "11    Şirvan  C 220              1996      Sedan           Göy   \n",
       "12     Gəncə  C 180              1998      Sedan    Yaş Asfalt   \n",
       "13      Bakı  C 220              1995      Sedan         Yaşıl   \n",
       "14      Bakı  C 240              2000      Sedan        Gümüşü   \n",
       "15     Gəncə  C 180              1994      Sedan       Qəhvəyi   \n",
       "16      Bakı  C 200              1998  Universal           Göy   \n",
       "17      Bakı  C 230              1999      Sedan        Gümüşü   \n",
       "18       Qax  C 180              1999      Sedan         Yaşıl   \n",
       "19      Bakı  C 220              1999  Universal        Gümüşü   \n",
       "20  Zaqatala  C 230              1999      Sedan        Qızılı   \n",
       "21      Bakı  C 220              1998      Sedan  Tünd qırmızı   \n",
       "22      Bakı  C 320              2000      Sedan          Qara   \n",
       "23      Bakı  C 180              1994      Sedan        Gümüşü   \n",
       "24      Bakı  C 220              1995      Sedan        Gümüşü   \n",
       "25      Bakı  C 200              2002      Sedan         Yaşıl   \n",
       "26      Bakı  C 230              1999      Sedan            Ağ   \n",
       "27      Bakı  C 220              2001  Universal        Gümüşü   \n",
       "28      Bakı  C 230              1999      Sedan          Qara   \n",
       "29      Bakı  C 240              1999      Sedan        Gümüşü   \n",
       "\n",
       "    Muherrikin hecmi  Muherrikin gucu Yanacaq novu  Yurush Suretler qutusu  \\\n",
       "0                2.0              175       Benzin  366000         Avtomat   \n",
       "1                1.6              167       Benzin  102000         Avtomat   \n",
       "2                2.6              177       Benzin  469700         Avtomat   \n",
       "3                1.8              125       Benzin  556680         Avtomat   \n",
       "4                2.2              150        Dizel  300000         Avtomat   \n",
       "5                2.3              150       Benzin  200000         Avtomat   \n",
       "6                2.4              170       Benzin  187000         Avtomat   \n",
       "7                2.3              150          Qaz  309200         Avtomat   \n",
       "8                2.0              111       Benzin  426872         Avtomat   \n",
       "9                2.0              136       Benzin  240000         Avtomat   \n",
       "10               2.3              150       Benzin  234000         Avtomat   \n",
       "11               2.2              146       Benzin  318000         Avtomat   \n",
       "12               1.8              122       Benzin  244680         Avtomat   \n",
       "13               2.2              146       Benzin  284567        Mexaniki   \n",
       "14               2.4              177       Benzin  295000         Avtomat   \n",
       "15               1.8              122       Benzin  300000        Mexaniki   \n",
       "16               2.0              136       Benzin  248000         Avtomat   \n",
       "17               2.3              150       Benzin  155000         Avtomat   \n",
       "18               1.8              122       Benzin  201000        Mexaniki   \n",
       "19               2.2              146        Dizel  190000         Avtomat   \n",
       "20               2.3              150       Benzin  167000         Avtomat   \n",
       "21               2.2              143        Dizel  475630         Avtomat   \n",
       "22               3.2              224       Benzin  248000         Avtomat   \n",
       "23               1.8              136       Benzin  362000         Avtomat   \n",
       "24               2.2              150       Benzin  362000        Mexaniki   \n",
       "25               2.0              150       Benzin  291100         Avtomat   \n",
       "26               2.3              150       Benzin  194000         Avtomat   \n",
       "27               2.2              143        Dizel  268611         Avtomat   \n",
       "28               2.3              150       Benzin  280000         Avtomat   \n",
       "29               2.4              170       Benzin  280000         Avtomat   \n",
       "\n",
       "     Qiymet                                         Extra Info  \\\n",
       "0   12500.0                                        Kreditdədir   \n",
       "1   53550.0                                   Barter mümkündür   \n",
       "2   11700.0                                        Kreditdədir   \n",
       "3    9700.0  Yüngül lehimli disklər,ABS,Mərkəzi qapanma,Kon...   \n",
       "4   12700.0  Yüngül lehimli disklər,ABS,Mərkəzi qapanma,Par...   \n",
       "5   11200.0  Yüngül lehimli disklər,ABS,Lyuk,Mərkəzi qapanm...   \n",
       "6   13800.0                                   Barter mümkündür   \n",
       "7   11400.0  Yüngül lehimli disklər,ABS,Lyuk,Kondisioner,Də...   \n",
       "8    8500.0  Yüngül lehimli disklər,ABS,Mərkəzi qapanma,Kon...   \n",
       "9    6800.0                                        Kreditdədir   \n",
       "10  11300.0                                   Barter mümkündür   \n",
       "11   9300.0  Yüngül lehimli disklər,ABS,Lyuk,Mərkəzi qapanm...   \n",
       "12  12800.0  Yüngül lehimli disklər,ABS,Yağış sensoru,Mərkə...   \n",
       "13   7300.0                                   Barter mümkündür   \n",
       "14  12400.0                                        Kreditdədir   \n",
       "15   7350.0    Yüngül lehimli disklər,ABS,Lyuk,Mərkəzi qapanma   \n",
       "16  10500.0  Yüngül lehimli disklər,ABS,Lyuk,Mərkəzi qapanm...   \n",
       "17  12300.0  Yüngül lehimli disklər,ABS,Lyuk,Mərkəzi qapanm...   \n",
       "18  10900.0  Yüngül lehimli disklər,ABS,Yağış sensoru,Kondi...   \n",
       "19  14000.0  Yüngül lehimli disklər,ABS,Yağış sensoru,Mərkə...   \n",
       "20  12300.0                                   Barter mümkündür   \n",
       "21  10700.0  Yüngül lehimli disklər,ABS,Mərkəzi qapanma,Kon...   \n",
       "22   7500.0  Yüngül lehimli disklər,ABS,Lyuk,Yağış sensoru,...   \n",
       "23   8300.0                                        Kreditdədir   \n",
       "24   8600.0                                        Kreditdədir   \n",
       "25  11200.0  Yüngül lehimli disklər,ABS,Lyuk,Yağış sensoru,...   \n",
       "26  12650.0                                        Kreditdədir   \n",
       "27  11800.0  Yüngül lehimli disklər,ABS,Lyuk,Yağış sensoru,...   \n",
       "28  11900.0                                   Barter mümkündür   \n",
       "29  10900.0                                   Barter mümkündür   \n",
       "\n",
       "                                       Seller comment  \\\n",
       "0                                    Barter mümkündür   \n",
       "1   Yüngül lehimli disklər,ABS,Yağış sensoru,Mərkə...   \n",
       "2                                    Barter mümkündür   \n",
       "3   Mawin BAKIDADI. Tecili satilir yaxwi veziyetde...   \n",
       "4   Vurugu udari deyisen detali curuyu qetiyyen yo...   \n",
       "5   Maşın Təcili satılır. əla vəziyyətdədir.heç bi...   \n",
       "6   Yüngül lehimli disklər,ABS,Mərkəzi qapanma,Kon...   \n",
       "7   salam  mercedes c230 kompressor avtomobili sat...   \n",
       "8   Masin saz veziyetdedi hec bir xerc teleb edmir...   \n",
       "9                                    Barter mümkündür   \n",
       "10  Yüngül lehimli disklər,ABS,Lyuk,Mərkəzi qapanm...   \n",
       "11  Her gun ozum ucun surulen mawindi.Pul lazim ol...   \n",
       "12  Salam.mawin ços saliqali va baximli mawindI.vu...   \n",
       "13  Yüngül lehimli disklər,ABS,Lyuk,Mərkəzi qapanm...   \n",
       "14  Yüngül lehimli disklər,ABS,Lyuk,Yağış sensoru,...   \n",
       "15  Salam maslnln hec bir problemi yoxdu vuruqu ud...   \n",
       "16  Maşın ideal veziyyetde .udarı vuruğu yoxdur.qa...   \n",
       "17  Super veziyyetdedir.Her bir detalina vaxtinda ...   \n",
       "18      Masin idyal veziyetdedi hec bir xerci yoxdur    \n",
       "19  Masinda mator karopka most super vezyetdedi xo...   \n",
       "20  Yüngül lehimli disklər,ABS,Lyuk,Mərkəzi qapanm...   \n",
       "21  Salam.mawin 2:::2sade dizeldi .sidyay deyil he...   \n",
       "22  Çox təcili satılır.Polnu ful variyantdır.Mator...   \n",
       "23  Yüngül lehimli disklər,ABS,Lyuk,Mərkəzi qapanm...   \n",
       "24  Yüngül lehimli disklər,ABS,Lyuk,Mərkəzi qapanm...   \n",
       "25  Salam ilk Novbede Alanada Satanada ALLAH xeyir...   \n",
       "26  Yüngül lehimli disklər,ABS,Lyuk,Yağış sensoru,...   \n",
       "27  Avtomobil temiz nemkadir udari, curuyu, pasi y...   \n",
       "28  Yüngül lehimli disklər,ABS,Lyuk,Mərkəzi qapanm...   \n",
       "29  Yüngül lehimli disklər,ABS,Lyuk,Yağış sensoru,...   \n",
       "\n",
       "    Buraxilish iliaxilish ili  \n",
       "0                          21  \n",
       "1                           6  \n",
       "2                          18  \n",
       "3                          22  \n",
       "4                          20  \n",
       "5                          21  \n",
       "6                          22  \n",
       "7                          22  \n",
       "8                          26  \n",
       "9                          21  \n",
       "10                         20  \n",
       "11                         24  \n",
       "12                         22  \n",
       "13                         25  \n",
       "14                         20  \n",
       "15                         26  \n",
       "16                         22  \n",
       "17                         21  \n",
       "18                         21  \n",
       "19                         21  \n",
       "20                         21  \n",
       "21                         22  \n",
       "22                         20  \n",
       "23                         26  \n",
       "24                         25  \n",
       "25                         18  \n",
       "26                         21  \n",
       "27                         19  \n",
       "28                         21  \n",
       "29                         21  "
      ]
     },
     "execution_count": 986,
     "metadata": {},
     "output_type": "execute_result"
    }
   ],
   "source": [
    "turboaz.head(30)"
   ]
  },
  {
   "cell_type": "markdown",
   "metadata": {},
   "source": [
    "### We need to get deeper into our categorical features. I believe we can make them less complex"
   ]
  },
  {
   "cell_type": "code",
   "execution_count": 987,
   "metadata": {},
   "outputs": [
    {
     "data": {
      "text/plain": [
       "array(['Sumqayıt', 'Bakı', 'Şirvan', 'Lənkəran', 'Gəncə', 'Qax',\n",
       "       'Zaqatala', 'Salyan', 'Qazax', 'Ağdam', 'İsmayıllı', 'Cəlilabad',\n",
       "       'Füzuli', 'Şamaxı', 'Saatlı', 'Samux', 'Quba', 'Göyçay', 'İmişli',\n",
       "       'Naftalan', 'Xırdalan', 'Oğuz', 'Bərdə', 'Şəki', 'Xudat', 'Ucar',\n",
       "       'Şabran', 'Mingəçevir', 'Xaçmaz', 'Biləsuvar', 'Balakən', 'Qusar',\n",
       "       'Ağstafa', 'Astara', 'Kürdəmir', 'Ağsu', 'Tərtər', 'Şəmkir',\n",
       "       'Ağdaş', 'Masallı', 'Sabirabad', 'Tovuz', 'Beyləqan', 'Neftçala',\n",
       "       'Goranboy', 'Ağcabədi', 'Şuşa', 'Yevlax', 'Göygöl', 'Naxçıvan',\n",
       "       'Qobustan'], dtype=object)"
      ]
     },
     "execution_count": 987,
     "metadata": {},
     "output_type": "execute_result"
    }
   ],
   "source": [
    "turboaz.Sheher.unique()"
   ]
  },
  {
   "cell_type": "code",
   "execution_count": 988,
   "metadata": {},
   "outputs": [
    {
     "data": {
      "text/plain": [
       "Bakı          654\n",
       "Sumqayıt      116\n",
       "Gəncə          42\n",
       "Şirvan         16\n",
       "Xırdalan       13\n",
       "Bərdə           9\n",
       "Mingəçevir      9\n",
       "Lənkəran        9\n",
       "Göyçay          8\n",
       "Xaçmaz          8\n",
       "Quba            8\n",
       "Masallı         7\n",
       "Balakən         6\n",
       "Qax             6\n",
       "Cəlilabad       6\n",
       "Qusar           6\n",
       "Sabirabad       5\n",
       "Ağdam           5\n",
       "Salyan          5\n",
       "İmişli          5\n",
       "Ağsu            4\n",
       "Qazax           4\n",
       "Şəki            4\n",
       "Ağcabədi        4\n",
       "Biləsuvar       4\n",
       "Saatlı          4\n",
       "Kürdəmir        4\n",
       "İsmayıllı       3\n",
       "Ucar            3\n",
       "Astara          3\n",
       "Ağdaş           3\n",
       "Goranboy        3\n",
       "Şəmkir          3\n",
       "Zaqatala        3\n",
       "Şamaxı          2\n",
       "Naftalan        2\n",
       "Beyləqan        2\n",
       "Tovuz           2\n",
       "Tərtər          2\n",
       "Yevlax          2\n",
       "Ağstafa         2\n",
       "Neftçala        2\n",
       "Oğuz            2\n",
       "Göygöl          2\n",
       "Samux           2\n",
       "Şuşa            1\n",
       "Füzuli          1\n",
       "Xudat           1\n",
       "Qobustan        1\n",
       "Naxçıvan        1\n",
       "Şabran          1\n",
       "Name: Sheher, dtype: int64"
      ]
     },
     "execution_count": 988,
     "metadata": {},
     "output_type": "execute_result"
    }
   ],
   "source": [
    "turboaz.Sheher.value_counts()"
   ]
  },
  {
   "cell_type": "markdown",
   "metadata": {},
   "source": [
    "### We have lots of categories. We have to decrease the number of categories in order to avoid the overfitting"
   ]
  },
  {
   "cell_type": "code",
   "execution_count": 989,
   "metadata": {},
   "outputs": [],
   "source": [
    "# I decided to leave the cars from \"Baki\" as a single category, since the majority of the cars in the dataset are from Baku\n",
    "# I decided to join the entries from \"Ganja\" and \"Sumqayit\" into the single category.\n",
    "# The the other cities/districts will be indicated as \"Other\"\n",
    "\n",
    "turboaz.loc[turboaz.Sheher.isin([\"Gəncə\",\"Sumqayıt\"]), 'Sheher'] = \"Gəncə_Sumqayıt\"\n",
    "turboaz.loc[~turboaz.Sheher.isin([\"Gəncə_Sumqayıt\", \"Bakı\"]), \"Sheher\"] = \"Diger\""
   ]
  },
  {
   "cell_type": "code",
   "execution_count": 990,
   "metadata": {},
   "outputs": [
    {
     "data": {
      "text/plain": [
       "Bakı              654\n",
       "Diger             208\n",
       "Gəncə_Sumqayıt    158\n",
       "Name: Sheher, dtype: int64"
      ]
     },
     "execution_count": 990,
     "metadata": {},
     "output_type": "execute_result"
    }
   ],
   "source": [
    "turboaz.Sheher.value_counts()"
   ]
  },
  {
   "cell_type": "code",
   "execution_count": 991,
   "metadata": {},
   "outputs": [
    {
     "data": {
      "text/plain": [
       "C 180       325\n",
       "C 200       195\n",
       "C 240       147\n",
       "C 220       143\n",
       "C 230       123\n",
       "C 250        29\n",
       "C 280        24\n",
       "C 300        17\n",
       "C 320        12\n",
       "C 32 AMG      2\n",
       "C 63 AMG      1\n",
       "C 30 AMG      1\n",
       "C 270         1\n",
       "Name: Model, dtype: int64"
      ]
     },
     "execution_count": 991,
     "metadata": {},
     "output_type": "execute_result"
    }
   ],
   "source": [
    "turboaz.Model.value_counts()"
   ]
  },
  {
   "cell_type": "code",
   "execution_count": 992,
   "metadata": {},
   "outputs": [],
   "source": [
    "# Since the AMG versions are much more powerful than standard models, I decided to remove them\n",
    "turboaz = turboaz.drop(turboaz[turboaz.Model.isin([\"C 30 AMG\", \"C 32 AMG\", \"C 63 AMG\"])].index)\n",
    "turboaz.reset_index(drop=True, inplace=True)"
   ]
  },
  {
   "cell_type": "code",
   "execution_count": 993,
   "metadata": {},
   "outputs": [
    {
     "data": {
      "text/plain": [
       "C 180    325\n",
       "C 200    195\n",
       "C 240    147\n",
       "C 220    143\n",
       "C 230    123\n",
       "C 250     29\n",
       "C 280     24\n",
       "C 300     17\n",
       "C 320     12\n",
       "C 270      1\n",
       "Name: Model, dtype: int64"
      ]
     },
     "execution_count": 993,
     "metadata": {},
     "output_type": "execute_result"
    }
   ],
   "source": [
    "turboaz.Model.value_counts()"
   ]
  },
  {
   "cell_type": "markdown",
   "metadata": {},
   "source": [
    "### I believe there are too many categories for this features. The models do not have that much of a difference. Even if they have, they will be reflected by other features. So, we can safely join the less frequent models into a single category"
   ]
  },
  {
   "cell_type": "code",
   "execution_count": 994,
   "metadata": {},
   "outputs": [],
   "source": [
    "turboaz.loc[turboaz.Model.isin([\"C 270\", \"C 320\", \"C 300\", \"C 280\", \"C 250\"]), 'Model'] = \"Diger modeller\""
   ]
  },
  {
   "cell_type": "code",
   "execution_count": 995,
   "metadata": {},
   "outputs": [
    {
     "data": {
      "text/plain": [
       "Sedan                877\n",
       "Universal            132\n",
       "Kupe                   4\n",
       "Hetçbek / Liftbek      2\n",
       "Offroader / SUV        1\n",
       "Name: Ban novu, dtype: int64"
      ]
     },
     "execution_count": 995,
     "metadata": {},
     "output_type": "execute_result"
    }
   ],
   "source": [
    "turboaz[\"Ban novu\"].value_counts()"
   ]
  },
  {
   "cell_type": "markdown",
   "metadata": {},
   "source": [
    "### There have never been produced SUV versions of C class, so there is an error for sure. Moreover, we can replace the coupe and hatchbacks with sedans (mode)."
   ]
  },
  {
   "cell_type": "code",
   "execution_count": 996,
   "metadata": {},
   "outputs": [],
   "source": [
    "turboaz = turboaz.drop(turboaz[turboaz[\"Ban novu\"].isin([\"Offroader / SUV\"])].index)\n",
    "turboaz.reset_index(drop=True, inplace=True)"
   ]
  },
  {
   "cell_type": "code",
   "execution_count": 997,
   "metadata": {},
   "outputs": [],
   "source": [
    "turboaz.loc[turboaz[\"Ban novu\"].isin([\"Kupe\", \"Hetçbek / Liftbek\"]), 'Ban novu'] = \"Sedan\""
   ]
  },
  {
   "cell_type": "markdown",
   "metadata": {},
   "source": [
    "### Let\\`s check the color distribution"
   ]
  },
  {
   "cell_type": "code",
   "execution_count": 998,
   "metadata": {},
   "outputs": [
    {
     "data": {
      "text/plain": [
       "Gümüşü          281\n",
       "Göy             212\n",
       "Qara            197\n",
       "Ağ               97\n",
       "Yaşıl            62\n",
       "Boz              55\n",
       "Yaş Asfalt       34\n",
       "Qızılı           27\n",
       "Tünd qırmızı     14\n",
       "Qırmızı          12\n",
       "Bənövşəyi         9\n",
       "Mavi              9\n",
       "Qəhvəyi           4\n",
       "Çəhrayı           2\n",
       "Name: Reng, dtype: int64"
      ]
     },
     "execution_count": 998,
     "metadata": {},
     "output_type": "execute_result"
    }
   ],
   "source": [
    "turboaz[\"Reng\"].value_counts()"
   ]
  },
  {
   "cell_type": "markdown",
   "metadata": {},
   "source": [
    "### Same process will be repeated for this feature."
   ]
  },
  {
   "cell_type": "code",
   "execution_count": 999,
   "metadata": {},
   "outputs": [],
   "source": [
    "# Let`s group the colors\n",
    "turboaz.loc[turboaz.Reng.isin([\"Çəhrayı\", \"Qəhvəyi\", \"Bənövşəyi\", \"Qırmızı\", \"Tünd qırmızı\", \"Qızılı\", \"Yaşıl\" ]), 'Reng'] = \"Ekzotik\"\n",
    "turboaz.loc[turboaz.Reng.isin([\"Mavi\"]), 'Reng'] = \"Göy\"\n",
    "turboaz.loc[turboaz.Reng.isin([\"Yaş Asfalt\", \"Boz\"]), 'Reng'] = \"Gümüşü\""
   ]
  },
  {
   "cell_type": "code",
   "execution_count": 1000,
   "metadata": {},
   "outputs": [
    {
     "data": {
      "text/plain": [
       "Gümüşü     370\n",
       "Göy        221\n",
       "Qara       197\n",
       "Ekzotik    130\n",
       "Ağ          97\n",
       "Name: Reng, dtype: int64"
      ]
     },
     "execution_count": 1000,
     "metadata": {},
     "output_type": "execute_result"
    }
   ],
   "source": [
    "turboaz[\"Reng\"].value_counts()"
   ]
  },
  {
   "cell_type": "code",
   "execution_count": 1001,
   "metadata": {},
   "outputs": [
    {
     "data": {
      "text/plain": [
       "Benzin    900\n",
       "Dizel     109\n",
       "Qaz         6\n",
       "Name: Yanacaq novu, dtype: int64"
      ]
     },
     "execution_count": 1001,
     "metadata": {},
     "output_type": "execute_result"
    }
   ],
   "source": [
    "turboaz[\"Yanacaq novu\"].value_counts()"
   ]
  },
  {
   "cell_type": "markdown",
   "metadata": {},
   "source": [
    "### Let\\`s replace Qaz with Benzin"
   ]
  },
  {
   "cell_type": "code",
   "execution_count": 1002,
   "metadata": {},
   "outputs": [],
   "source": [
    "turboaz.loc[turboaz[\"Yanacaq novu\"].isin([\"Qaz\", \"Yanacaq novu\"]), 'Yanacaq novu'] = \"Benzin\""
   ]
  },
  {
   "cell_type": "code",
   "execution_count": 1003,
   "metadata": {},
   "outputs": [
    {
     "name": "stdout",
     "output_type": "stream",
     "text": [
      "<class 'pandas.core.frame.DataFrame'>\n",
      "RangeIndex: 1015 entries, 0 to 1014\n",
      "Data columns (total 14 columns):\n",
      "Sheher                       1015 non-null object\n",
      "Model                        1015 non-null object\n",
      "Istifade muddeti             1015 non-null int64\n",
      "Ban novu                     1015 non-null object\n",
      "Reng                         1015 non-null object\n",
      "Muherrikin hecmi             1015 non-null float64\n",
      "Muherrikin gucu              1015 non-null int64\n",
      "Yanacaq novu                 1015 non-null object\n",
      "Yurush                       1015 non-null int64\n",
      "Suretler qutusu              1015 non-null object\n",
      "Qiymet                       1015 non-null float64\n",
      "Extra Info                   1015 non-null object\n",
      "Seller comment               1015 non-null object\n",
      "Buraxilish iliaxilish ili    1015 non-null int64\n",
      "dtypes: float64(2), int64(4), object(8)\n",
      "memory usage: 111.1+ KB\n"
     ]
    }
   ],
   "source": [
    "turboaz.info()"
   ]
  },
  {
   "cell_type": "code",
   "execution_count": 1004,
   "metadata": {},
   "outputs": [
    {
     "data": {
      "text/html": [
       "<div>\n",
       "<style scoped>\n",
       "    .dataframe tbody tr th:only-of-type {\n",
       "        vertical-align: middle;\n",
       "    }\n",
       "\n",
       "    .dataframe tbody tr th {\n",
       "        vertical-align: top;\n",
       "    }\n",
       "\n",
       "    .dataframe thead th {\n",
       "        text-align: right;\n",
       "    }\n",
       "</style>\n",
       "<table border=\"1\" class=\"dataframe\">\n",
       "  <thead>\n",
       "    <tr style=\"text-align: right;\">\n",
       "      <th></th>\n",
       "      <th>Sheher</th>\n",
       "      <th>Model</th>\n",
       "      <th>Istifade muddeti</th>\n",
       "      <th>Ban novu</th>\n",
       "      <th>Reng</th>\n",
       "      <th>Muherrikin hecmi</th>\n",
       "      <th>Muherrikin gucu</th>\n",
       "      <th>Yanacaq novu</th>\n",
       "      <th>Yurush</th>\n",
       "      <th>Suretler qutusu</th>\n",
       "      <th>Qiymet</th>\n",
       "      <th>Extra Info</th>\n",
       "      <th>Seller comment</th>\n",
       "      <th>Buraxilish iliaxilish ili</th>\n",
       "    </tr>\n",
       "  </thead>\n",
       "  <tbody>\n",
       "    <tr>\n",
       "      <td>0</td>\n",
       "      <td>Gəncə_Sumqayıt</td>\n",
       "      <td>C 200</td>\n",
       "      <td>1999</td>\n",
       "      <td>Sedan</td>\n",
       "      <td>Qara</td>\n",
       "      <td>2.0</td>\n",
       "      <td>175</td>\n",
       "      <td>Benzin</td>\n",
       "      <td>366000</td>\n",
       "      <td>Avtomat</td>\n",
       "      <td>12500.0</td>\n",
       "      <td>Kreditdədir</td>\n",
       "      <td>Barter mümkündür</td>\n",
       "      <td>21</td>\n",
       "    </tr>\n",
       "    <tr>\n",
       "      <td>1</td>\n",
       "      <td>Bakı</td>\n",
       "      <td>C 180</td>\n",
       "      <td>2014</td>\n",
       "      <td>Sedan</td>\n",
       "      <td>Qara</td>\n",
       "      <td>1.6</td>\n",
       "      <td>167</td>\n",
       "      <td>Benzin</td>\n",
       "      <td>102000</td>\n",
       "      <td>Avtomat</td>\n",
       "      <td>53550.0</td>\n",
       "      <td>Barter mümkündür</td>\n",
       "      <td>Yüngül lehimli disklər,ABS,Yağış sensoru,Mərkə...</td>\n",
       "      <td>6</td>\n",
       "    </tr>\n",
       "    <tr>\n",
       "      <td>2</td>\n",
       "      <td>Gəncə_Sumqayıt</td>\n",
       "      <td>C 240</td>\n",
       "      <td>2002</td>\n",
       "      <td>Sedan</td>\n",
       "      <td>Qara</td>\n",
       "      <td>2.6</td>\n",
       "      <td>177</td>\n",
       "      <td>Benzin</td>\n",
       "      <td>469700</td>\n",
       "      <td>Avtomat</td>\n",
       "      <td>11700.0</td>\n",
       "      <td>Kreditdədir</td>\n",
       "      <td>Barter mümkündür</td>\n",
       "      <td>18</td>\n",
       "    </tr>\n",
       "    <tr>\n",
       "      <td>3</td>\n",
       "      <td>Diger</td>\n",
       "      <td>C 180</td>\n",
       "      <td>1998</td>\n",
       "      <td>Sedan</td>\n",
       "      <td>Göy</td>\n",
       "      <td>1.8</td>\n",
       "      <td>125</td>\n",
       "      <td>Benzin</td>\n",
       "      <td>556680</td>\n",
       "      <td>Avtomat</td>\n",
       "      <td>9700.0</td>\n",
       "      <td>Yüngül lehimli disklər,ABS,Mərkəzi qapanma,Kon...</td>\n",
       "      <td>Mawin BAKIDADI. Tecili satilir yaxwi veziyetde...</td>\n",
       "      <td>22</td>\n",
       "    </tr>\n",
       "    <tr>\n",
       "      <td>4</td>\n",
       "      <td>Gəncə_Sumqayıt</td>\n",
       "      <td>C 220</td>\n",
       "      <td>2000</td>\n",
       "      <td>Sedan</td>\n",
       "      <td>Gümüşü</td>\n",
       "      <td>2.2</td>\n",
       "      <td>150</td>\n",
       "      <td>Dizel</td>\n",
       "      <td>300000</td>\n",
       "      <td>Avtomat</td>\n",
       "      <td>12700.0</td>\n",
       "      <td>Yüngül lehimli disklər,ABS,Mərkəzi qapanma,Par...</td>\n",
       "      <td>Vurugu udari deyisen detali curuyu qetiyyen yo...</td>\n",
       "      <td>20</td>\n",
       "    </tr>\n",
       "    <tr>\n",
       "      <td>5</td>\n",
       "      <td>Bakı</td>\n",
       "      <td>C 230</td>\n",
       "      <td>1999</td>\n",
       "      <td>Sedan</td>\n",
       "      <td>Gümüşü</td>\n",
       "      <td>2.3</td>\n",
       "      <td>150</td>\n",
       "      <td>Benzin</td>\n",
       "      <td>200000</td>\n",
       "      <td>Avtomat</td>\n",
       "      <td>11200.0</td>\n",
       "      <td>Yüngül lehimli disklər,ABS,Lyuk,Mərkəzi qapanm...</td>\n",
       "      <td>Maşın Təcili satılır. əla vəziyyətdədir.heç bi...</td>\n",
       "      <td>21</td>\n",
       "    </tr>\n",
       "    <tr>\n",
       "      <td>6</td>\n",
       "      <td>Bakı</td>\n",
       "      <td>C 240</td>\n",
       "      <td>1998</td>\n",
       "      <td>Sedan</td>\n",
       "      <td>Qara</td>\n",
       "      <td>2.4</td>\n",
       "      <td>170</td>\n",
       "      <td>Benzin</td>\n",
       "      <td>187000</td>\n",
       "      <td>Avtomat</td>\n",
       "      <td>13800.0</td>\n",
       "      <td>Barter mümkündür</td>\n",
       "      <td>Yüngül lehimli disklər,ABS,Mərkəzi qapanma,Kon...</td>\n",
       "      <td>22</td>\n",
       "    </tr>\n",
       "    <tr>\n",
       "      <td>7</td>\n",
       "      <td>Bakı</td>\n",
       "      <td>C 230</td>\n",
       "      <td>1998</td>\n",
       "      <td>Sedan</td>\n",
       "      <td>Qara</td>\n",
       "      <td>2.3</td>\n",
       "      <td>150</td>\n",
       "      <td>Benzin</td>\n",
       "      <td>309200</td>\n",
       "      <td>Avtomat</td>\n",
       "      <td>11400.0</td>\n",
       "      <td>Yüngül lehimli disklər,ABS,Lyuk,Kondisioner,Də...</td>\n",
       "      <td>salam  mercedes c230 kompressor avtomobili sat...</td>\n",
       "      <td>22</td>\n",
       "    </tr>\n",
       "    <tr>\n",
       "      <td>8</td>\n",
       "      <td>Diger</td>\n",
       "      <td>C 200</td>\n",
       "      <td>1994</td>\n",
       "      <td>Sedan</td>\n",
       "      <td>Gümüşü</td>\n",
       "      <td>2.0</td>\n",
       "      <td>111</td>\n",
       "      <td>Benzin</td>\n",
       "      <td>426872</td>\n",
       "      <td>Avtomat</td>\n",
       "      <td>8500.0</td>\n",
       "      <td>Yüngül lehimli disklər,ABS,Mərkəzi qapanma,Kon...</td>\n",
       "      <td>Masin saz veziyetdedi hec bir xerc teleb edmir...</td>\n",
       "      <td>26</td>\n",
       "    </tr>\n",
       "    <tr>\n",
       "      <td>9</td>\n",
       "      <td>Bakı</td>\n",
       "      <td>C 200</td>\n",
       "      <td>1999</td>\n",
       "      <td>Sedan</td>\n",
       "      <td>Ekzotik</td>\n",
       "      <td>2.0</td>\n",
       "      <td>136</td>\n",
       "      <td>Benzin</td>\n",
       "      <td>240000</td>\n",
       "      <td>Avtomat</td>\n",
       "      <td>6800.0</td>\n",
       "      <td>Kreditdədir</td>\n",
       "      <td>Barter mümkündür</td>\n",
       "      <td>21</td>\n",
       "    </tr>\n",
       "    <tr>\n",
       "      <td>10</td>\n",
       "      <td>Bakı</td>\n",
       "      <td>C 230</td>\n",
       "      <td>2000</td>\n",
       "      <td>Sedan</td>\n",
       "      <td>Gümüşü</td>\n",
       "      <td>2.3</td>\n",
       "      <td>150</td>\n",
       "      <td>Benzin</td>\n",
       "      <td>234000</td>\n",
       "      <td>Avtomat</td>\n",
       "      <td>11300.0</td>\n",
       "      <td>Barter mümkündür</td>\n",
       "      <td>Yüngül lehimli disklər,ABS,Lyuk,Mərkəzi qapanm...</td>\n",
       "      <td>20</td>\n",
       "    </tr>\n",
       "    <tr>\n",
       "      <td>11</td>\n",
       "      <td>Diger</td>\n",
       "      <td>C 220</td>\n",
       "      <td>1996</td>\n",
       "      <td>Sedan</td>\n",
       "      <td>Göy</td>\n",
       "      <td>2.2</td>\n",
       "      <td>146</td>\n",
       "      <td>Benzin</td>\n",
       "      <td>318000</td>\n",
       "      <td>Avtomat</td>\n",
       "      <td>9300.0</td>\n",
       "      <td>Yüngül lehimli disklər,ABS,Lyuk,Mərkəzi qapanm...</td>\n",
       "      <td>Her gun ozum ucun surulen mawindi.Pul lazim ol...</td>\n",
       "      <td>24</td>\n",
       "    </tr>\n",
       "    <tr>\n",
       "      <td>12</td>\n",
       "      <td>Gəncə_Sumqayıt</td>\n",
       "      <td>C 180</td>\n",
       "      <td>1998</td>\n",
       "      <td>Sedan</td>\n",
       "      <td>Gümüşü</td>\n",
       "      <td>1.8</td>\n",
       "      <td>122</td>\n",
       "      <td>Benzin</td>\n",
       "      <td>244680</td>\n",
       "      <td>Avtomat</td>\n",
       "      <td>12800.0</td>\n",
       "      <td>Yüngül lehimli disklər,ABS,Yağış sensoru,Mərkə...</td>\n",
       "      <td>Salam.mawin ços saliqali va baximli mawindI.vu...</td>\n",
       "      <td>22</td>\n",
       "    </tr>\n",
       "    <tr>\n",
       "      <td>13</td>\n",
       "      <td>Bakı</td>\n",
       "      <td>C 220</td>\n",
       "      <td>1995</td>\n",
       "      <td>Sedan</td>\n",
       "      <td>Ekzotik</td>\n",
       "      <td>2.2</td>\n",
       "      <td>146</td>\n",
       "      <td>Benzin</td>\n",
       "      <td>284567</td>\n",
       "      <td>Mexaniki</td>\n",
       "      <td>7300.0</td>\n",
       "      <td>Barter mümkündür</td>\n",
       "      <td>Yüngül lehimli disklər,ABS,Lyuk,Mərkəzi qapanm...</td>\n",
       "      <td>25</td>\n",
       "    </tr>\n",
       "    <tr>\n",
       "      <td>14</td>\n",
       "      <td>Bakı</td>\n",
       "      <td>C 240</td>\n",
       "      <td>2000</td>\n",
       "      <td>Sedan</td>\n",
       "      <td>Gümüşü</td>\n",
       "      <td>2.4</td>\n",
       "      <td>177</td>\n",
       "      <td>Benzin</td>\n",
       "      <td>295000</td>\n",
       "      <td>Avtomat</td>\n",
       "      <td>12400.0</td>\n",
       "      <td>Kreditdədir</td>\n",
       "      <td>Yüngül lehimli disklər,ABS,Lyuk,Yağış sensoru,...</td>\n",
       "      <td>20</td>\n",
       "    </tr>\n",
       "    <tr>\n",
       "      <td>15</td>\n",
       "      <td>Gəncə_Sumqayıt</td>\n",
       "      <td>C 180</td>\n",
       "      <td>1994</td>\n",
       "      <td>Sedan</td>\n",
       "      <td>Ekzotik</td>\n",
       "      <td>1.8</td>\n",
       "      <td>122</td>\n",
       "      <td>Benzin</td>\n",
       "      <td>300000</td>\n",
       "      <td>Mexaniki</td>\n",
       "      <td>7350.0</td>\n",
       "      <td>Yüngül lehimli disklər,ABS,Lyuk,Mərkəzi qapanma</td>\n",
       "      <td>Salam maslnln hec bir problemi yoxdu vuruqu ud...</td>\n",
       "      <td>26</td>\n",
       "    </tr>\n",
       "    <tr>\n",
       "      <td>16</td>\n",
       "      <td>Bakı</td>\n",
       "      <td>C 200</td>\n",
       "      <td>1998</td>\n",
       "      <td>Universal</td>\n",
       "      <td>Göy</td>\n",
       "      <td>2.0</td>\n",
       "      <td>136</td>\n",
       "      <td>Benzin</td>\n",
       "      <td>248000</td>\n",
       "      <td>Avtomat</td>\n",
       "      <td>10500.0</td>\n",
       "      <td>Yüngül lehimli disklər,ABS,Lyuk,Mərkəzi qapanm...</td>\n",
       "      <td>Maşın ideal veziyyetde .udarı vuruğu yoxdur.qa...</td>\n",
       "      <td>22</td>\n",
       "    </tr>\n",
       "    <tr>\n",
       "      <td>17</td>\n",
       "      <td>Bakı</td>\n",
       "      <td>C 230</td>\n",
       "      <td>1999</td>\n",
       "      <td>Sedan</td>\n",
       "      <td>Gümüşü</td>\n",
       "      <td>2.3</td>\n",
       "      <td>150</td>\n",
       "      <td>Benzin</td>\n",
       "      <td>155000</td>\n",
       "      <td>Avtomat</td>\n",
       "      <td>12300.0</td>\n",
       "      <td>Yüngül lehimli disklər,ABS,Lyuk,Mərkəzi qapanm...</td>\n",
       "      <td>Super veziyyetdedir.Her bir detalina vaxtinda ...</td>\n",
       "      <td>21</td>\n",
       "    </tr>\n",
       "    <tr>\n",
       "      <td>18</td>\n",
       "      <td>Diger</td>\n",
       "      <td>C 180</td>\n",
       "      <td>1999</td>\n",
       "      <td>Sedan</td>\n",
       "      <td>Ekzotik</td>\n",
       "      <td>1.8</td>\n",
       "      <td>122</td>\n",
       "      <td>Benzin</td>\n",
       "      <td>201000</td>\n",
       "      <td>Mexaniki</td>\n",
       "      <td>10900.0</td>\n",
       "      <td>Yüngül lehimli disklər,ABS,Yağış sensoru,Kondi...</td>\n",
       "      <td>Masin idyal veziyetdedi hec bir xerci yoxdur</td>\n",
       "      <td>21</td>\n",
       "    </tr>\n",
       "    <tr>\n",
       "      <td>19</td>\n",
       "      <td>Bakı</td>\n",
       "      <td>C 220</td>\n",
       "      <td>1999</td>\n",
       "      <td>Universal</td>\n",
       "      <td>Gümüşü</td>\n",
       "      <td>2.2</td>\n",
       "      <td>146</td>\n",
       "      <td>Dizel</td>\n",
       "      <td>190000</td>\n",
       "      <td>Avtomat</td>\n",
       "      <td>14000.0</td>\n",
       "      <td>Yüngül lehimli disklər,ABS,Yağış sensoru,Mərkə...</td>\n",
       "      <td>Masinda mator karopka most super vezyetdedi xo...</td>\n",
       "      <td>21</td>\n",
       "    </tr>\n",
       "  </tbody>\n",
       "</table>\n",
       "</div>"
      ],
      "text/plain": [
       "            Sheher  Model  Istifade muddeti   Ban novu     Reng  \\\n",
       "0   Gəncə_Sumqayıt  C 200              1999      Sedan     Qara   \n",
       "1             Bakı  C 180              2014      Sedan     Qara   \n",
       "2   Gəncə_Sumqayıt  C 240              2002      Sedan     Qara   \n",
       "3            Diger  C 180              1998      Sedan      Göy   \n",
       "4   Gəncə_Sumqayıt  C 220              2000      Sedan   Gümüşü   \n",
       "5             Bakı  C 230              1999      Sedan   Gümüşü   \n",
       "6             Bakı  C 240              1998      Sedan     Qara   \n",
       "7             Bakı  C 230              1998      Sedan     Qara   \n",
       "8            Diger  C 200              1994      Sedan   Gümüşü   \n",
       "9             Bakı  C 200              1999      Sedan  Ekzotik   \n",
       "10            Bakı  C 230              2000      Sedan   Gümüşü   \n",
       "11           Diger  C 220              1996      Sedan      Göy   \n",
       "12  Gəncə_Sumqayıt  C 180              1998      Sedan   Gümüşü   \n",
       "13            Bakı  C 220              1995      Sedan  Ekzotik   \n",
       "14            Bakı  C 240              2000      Sedan   Gümüşü   \n",
       "15  Gəncə_Sumqayıt  C 180              1994      Sedan  Ekzotik   \n",
       "16            Bakı  C 200              1998  Universal      Göy   \n",
       "17            Bakı  C 230              1999      Sedan   Gümüşü   \n",
       "18           Diger  C 180              1999      Sedan  Ekzotik   \n",
       "19            Bakı  C 220              1999  Universal   Gümüşü   \n",
       "\n",
       "    Muherrikin hecmi  Muherrikin gucu Yanacaq novu  Yurush Suretler qutusu  \\\n",
       "0                2.0              175       Benzin  366000         Avtomat   \n",
       "1                1.6              167       Benzin  102000         Avtomat   \n",
       "2                2.6              177       Benzin  469700         Avtomat   \n",
       "3                1.8              125       Benzin  556680         Avtomat   \n",
       "4                2.2              150        Dizel  300000         Avtomat   \n",
       "5                2.3              150       Benzin  200000         Avtomat   \n",
       "6                2.4              170       Benzin  187000         Avtomat   \n",
       "7                2.3              150       Benzin  309200         Avtomat   \n",
       "8                2.0              111       Benzin  426872         Avtomat   \n",
       "9                2.0              136       Benzin  240000         Avtomat   \n",
       "10               2.3              150       Benzin  234000         Avtomat   \n",
       "11               2.2              146       Benzin  318000         Avtomat   \n",
       "12               1.8              122       Benzin  244680         Avtomat   \n",
       "13               2.2              146       Benzin  284567        Mexaniki   \n",
       "14               2.4              177       Benzin  295000         Avtomat   \n",
       "15               1.8              122       Benzin  300000        Mexaniki   \n",
       "16               2.0              136       Benzin  248000         Avtomat   \n",
       "17               2.3              150       Benzin  155000         Avtomat   \n",
       "18               1.8              122       Benzin  201000        Mexaniki   \n",
       "19               2.2              146        Dizel  190000         Avtomat   \n",
       "\n",
       "     Qiymet                                         Extra Info  \\\n",
       "0   12500.0                                        Kreditdədir   \n",
       "1   53550.0                                   Barter mümkündür   \n",
       "2   11700.0                                        Kreditdədir   \n",
       "3    9700.0  Yüngül lehimli disklər,ABS,Mərkəzi qapanma,Kon...   \n",
       "4   12700.0  Yüngül lehimli disklər,ABS,Mərkəzi qapanma,Par...   \n",
       "5   11200.0  Yüngül lehimli disklər,ABS,Lyuk,Mərkəzi qapanm...   \n",
       "6   13800.0                                   Barter mümkündür   \n",
       "7   11400.0  Yüngül lehimli disklər,ABS,Lyuk,Kondisioner,Də...   \n",
       "8    8500.0  Yüngül lehimli disklər,ABS,Mərkəzi qapanma,Kon...   \n",
       "9    6800.0                                        Kreditdədir   \n",
       "10  11300.0                                   Barter mümkündür   \n",
       "11   9300.0  Yüngül lehimli disklər,ABS,Lyuk,Mərkəzi qapanm...   \n",
       "12  12800.0  Yüngül lehimli disklər,ABS,Yağış sensoru,Mərkə...   \n",
       "13   7300.0                                   Barter mümkündür   \n",
       "14  12400.0                                        Kreditdədir   \n",
       "15   7350.0    Yüngül lehimli disklər,ABS,Lyuk,Mərkəzi qapanma   \n",
       "16  10500.0  Yüngül lehimli disklər,ABS,Lyuk,Mərkəzi qapanm...   \n",
       "17  12300.0  Yüngül lehimli disklər,ABS,Lyuk,Mərkəzi qapanm...   \n",
       "18  10900.0  Yüngül lehimli disklər,ABS,Yağış sensoru,Kondi...   \n",
       "19  14000.0  Yüngül lehimli disklər,ABS,Yağış sensoru,Mərkə...   \n",
       "\n",
       "                                       Seller comment  \\\n",
       "0                                    Barter mümkündür   \n",
       "1   Yüngül lehimli disklər,ABS,Yağış sensoru,Mərkə...   \n",
       "2                                    Barter mümkündür   \n",
       "3   Mawin BAKIDADI. Tecili satilir yaxwi veziyetde...   \n",
       "4   Vurugu udari deyisen detali curuyu qetiyyen yo...   \n",
       "5   Maşın Təcili satılır. əla vəziyyətdədir.heç bi...   \n",
       "6   Yüngül lehimli disklər,ABS,Mərkəzi qapanma,Kon...   \n",
       "7   salam  mercedes c230 kompressor avtomobili sat...   \n",
       "8   Masin saz veziyetdedi hec bir xerc teleb edmir...   \n",
       "9                                    Barter mümkündür   \n",
       "10  Yüngül lehimli disklər,ABS,Lyuk,Mərkəzi qapanm...   \n",
       "11  Her gun ozum ucun surulen mawindi.Pul lazim ol...   \n",
       "12  Salam.mawin ços saliqali va baximli mawindI.vu...   \n",
       "13  Yüngül lehimli disklər,ABS,Lyuk,Mərkəzi qapanm...   \n",
       "14  Yüngül lehimli disklər,ABS,Lyuk,Yağış sensoru,...   \n",
       "15  Salam maslnln hec bir problemi yoxdu vuruqu ud...   \n",
       "16  Maşın ideal veziyyetde .udarı vuruğu yoxdur.qa...   \n",
       "17  Super veziyyetdedir.Her bir detalina vaxtinda ...   \n",
       "18      Masin idyal veziyetdedi hec bir xerci yoxdur    \n",
       "19  Masinda mator karopka most super vezyetdedi xo...   \n",
       "\n",
       "    Buraxilish iliaxilish ili  \n",
       "0                          21  \n",
       "1                           6  \n",
       "2                          18  \n",
       "3                          22  \n",
       "4                          20  \n",
       "5                          21  \n",
       "6                          22  \n",
       "7                          22  \n",
       "8                          26  \n",
       "9                          21  \n",
       "10                         20  \n",
       "11                         24  \n",
       "12                         22  \n",
       "13                         25  \n",
       "14                         20  \n",
       "15                         26  \n",
       "16                         22  \n",
       "17                         21  \n",
       "18                         21  \n",
       "19                         21  "
      ]
     },
     "execution_count": 1004,
     "metadata": {},
     "output_type": "execute_result"
    }
   ],
   "source": [
    "turboaz.head(20)"
   ]
  },
  {
   "cell_type": "markdown",
   "metadata": {},
   "source": [
    "## Now let\\`s deal with the text columns"
   ]
  },
  {
   "cell_type": "code",
   "execution_count": 1005,
   "metadata": {},
   "outputs": [],
   "source": [
    "# Now let`s create a column which will indicate the number of words used in the seller comment section\n",
    "\n",
    "comments = turboaz[\"Seller comment\"].str.split()\n",
    "for index, row in turboaz.iterrows():\n",
    "    turboaz.at[index, 'Comment_uzunluqu'] = len(comments[index])"
   ]
  },
  {
   "cell_type": "code",
   "execution_count": 1006,
   "metadata": {},
   "outputs": [
    {
     "data": {
      "text/plain": [
       "Barter mümkündür                                                                                                                                                                                             27\n",
       "Yüngül lehimli disklər,ABS,Lyuk,Yağış sensoru,Mərkəzi qapanma,Park radarı,Kondisioner,Oturacaqların isidilməsi,Dəri salon,Ksenon lampalar,Arxa görüntü kamerası,Yan pərdələr,Oturacaqların ventilyasiyası     9\n",
       "Yüngül lehimli disklər,ABS,Mərkəzi qapanma,Kondisioner                                                                                                                                                        6\n",
       "Yüngül lehimli disklər,ABS,Yağış sensoru,Mərkəzi qapanma,Kondisioner,Ksenon lampalar,Yan pərdələr                                                                                                             5\n",
       "Yüngül lehimli disklər,ABS,Yağış sensoru,Mərkəzi qapanma,Kondisioner                                                                                                                                          5\n",
       "Yüngül lehimli disklər,ABS,Lyuk,Yağış sensoru,Mərkəzi qapanma,Park radarı,Kondisioner,Oturacaqların isidilməsi,Dəri salon,Ksenon lampalar,Yan pərdələr                                                        5\n",
       "Yüngül lehimli disklər,ABS,Lyuk,Mərkəzi qapanma,Kondisioner                                                                                                                                                   4\n",
       "Yüngül lehimli disklər,ABS,Lyuk,Yağış sensoru,Mərkəzi qapanma,Kondisioner,Oturacaqların isidilməsi                                                                                                            3\n",
       "Yüngül lehimli disklər,ABS,Lyuk,Yağış sensoru,Mərkəzi qapanma,Kondisioner,Dəri salon,Yan pərdələr                                                                                                             3\n",
       "Yüngül lehimli disklər,ABS,Lyuk,Mərkəzi qapanma,Kondisioner,Oturacaqların isidilməsi,Dəri salon                                                                                                               3\n",
       "Name: Seller comment, dtype: int64"
      ]
     },
     "execution_count": 1006,
     "metadata": {},
     "output_type": "execute_result"
    }
   ],
   "source": [
    "turboaz[\"Seller comment\"].value_counts().head(10)"
   ]
  },
  {
   "cell_type": "code",
   "execution_count": 1007,
   "metadata": {},
   "outputs": [
    {
     "data": {
      "text/plain": [
       "Barter mümkündür                                                                                                                                                                                             154\n",
       "Kreditdədir                                                                                                                                                                                                   74\n",
       "Yüngül lehimli disklər,ABS,Mərkəzi qapanma,Kondisioner                                                                                                                                                        46\n",
       "Yüngül lehimli disklər,ABS,Lyuk,Mərkəzi qapanma,Kondisioner                                                                                                                                                   25\n",
       "Yüngül lehimli disklər,ABS,Yağış sensoru,Mərkəzi qapanma,Kondisioner                                                                                                                                          24\n",
       "Yüngül lehimli disklər,ABS,Lyuk,Yağış sensoru,Mərkəzi qapanma,Park radarı,Kondisioner,Oturacaqların isidilməsi,Dəri salon,Ksenon lampalar,Arxa görüntü kamerası,Yan pərdələr,Oturacaqların ventilyasiyası     22\n",
       "Yüngül lehimli disklər,ABS,Mərkəzi qapanma,Kondisioner,Yan pərdələr                                                                                                                                           21\n",
       "Yüngül lehimli disklər,ABS,Lyuk,Yağış sensoru,Mərkəzi qapanma,Kondisioner                                                                                                                                     15\n",
       "Yüngül lehimli disklər,ABS,Lyuk,Mərkəzi qapanma,Kondisioner,Yan pərdələr                                                                                                                                      11\n",
       "Yüngül lehimli disklər,ABS,Lyuk,Mərkəzi qapanma,Kondisioner,Dəri salon                                                                                                                                        10\n",
       "Name: Extra Info, dtype: int64"
      ]
     },
     "execution_count": 1007,
     "metadata": {},
     "output_type": "execute_result"
    }
   ],
   "source": [
    "turboaz[\"Extra Info\"].value_counts().head(10)"
   ]
  },
  {
   "cell_type": "code",
   "execution_count": 1008,
   "metadata": {},
   "outputs": [],
   "source": [
    "# Decided to lowercase the entries in these 2 columns in order to make easier the process of feature engineering\n",
    "turboaz[\"Seller comment\"] = turboaz[\"Seller comment\"].str.lower()\n",
    "turboaz[\"Extra Info\"] = turboaz[\"Extra Info\"].str.lower()"
   ]
  },
  {
   "cell_type": "code",
   "execution_count": 1009,
   "metadata": {},
   "outputs": [
    {
     "data": {
      "text/html": [
       "<div>\n",
       "<style scoped>\n",
       "    .dataframe tbody tr th:only-of-type {\n",
       "        vertical-align: middle;\n",
       "    }\n",
       "\n",
       "    .dataframe tbody tr th {\n",
       "        vertical-align: top;\n",
       "    }\n",
       "\n",
       "    .dataframe thead th {\n",
       "        text-align: right;\n",
       "    }\n",
       "</style>\n",
       "<table border=\"1\" class=\"dataframe\">\n",
       "  <thead>\n",
       "    <tr style=\"text-align: right;\">\n",
       "      <th></th>\n",
       "      <th>Sheher</th>\n",
       "      <th>Model</th>\n",
       "      <th>Istifade muddeti</th>\n",
       "      <th>Ban novu</th>\n",
       "      <th>Reng</th>\n",
       "      <th>Muherrikin hecmi</th>\n",
       "      <th>Muherrikin gucu</th>\n",
       "      <th>Yanacaq novu</th>\n",
       "      <th>Yurush</th>\n",
       "      <th>Suretler qutusu</th>\n",
       "      <th>Qiymet</th>\n",
       "      <th>Extra Info</th>\n",
       "      <th>Seller comment</th>\n",
       "      <th>Buraxilish iliaxilish ili</th>\n",
       "      <th>Comment_uzunluqu</th>\n",
       "    </tr>\n",
       "  </thead>\n",
       "  <tbody>\n",
       "    <tr>\n",
       "      <td>0</td>\n",
       "      <td>Gəncə_Sumqayıt</td>\n",
       "      <td>C 200</td>\n",
       "      <td>1999</td>\n",
       "      <td>Sedan</td>\n",
       "      <td>Qara</td>\n",
       "      <td>2.0</td>\n",
       "      <td>175</td>\n",
       "      <td>Benzin</td>\n",
       "      <td>366000</td>\n",
       "      <td>Avtomat</td>\n",
       "      <td>12500.0</td>\n",
       "      <td>kreditdədir</td>\n",
       "      <td>barter mümkündür</td>\n",
       "      <td>21</td>\n",
       "      <td>2.0</td>\n",
       "    </tr>\n",
       "    <tr>\n",
       "      <td>1</td>\n",
       "      <td>Bakı</td>\n",
       "      <td>C 180</td>\n",
       "      <td>2014</td>\n",
       "      <td>Sedan</td>\n",
       "      <td>Qara</td>\n",
       "      <td>1.6</td>\n",
       "      <td>167</td>\n",
       "      <td>Benzin</td>\n",
       "      <td>102000</td>\n",
       "      <td>Avtomat</td>\n",
       "      <td>53550.0</td>\n",
       "      <td>barter mümkündür</td>\n",
       "      <td>yüngül lehimli disklər,abs,yağış sensoru,mərkə...</td>\n",
       "      <td>6</td>\n",
       "      <td>13.0</td>\n",
       "    </tr>\n",
       "    <tr>\n",
       "      <td>2</td>\n",
       "      <td>Gəncə_Sumqayıt</td>\n",
       "      <td>C 240</td>\n",
       "      <td>2002</td>\n",
       "      <td>Sedan</td>\n",
       "      <td>Qara</td>\n",
       "      <td>2.6</td>\n",
       "      <td>177</td>\n",
       "      <td>Benzin</td>\n",
       "      <td>469700</td>\n",
       "      <td>Avtomat</td>\n",
       "      <td>11700.0</td>\n",
       "      <td>kreditdədir</td>\n",
       "      <td>barter mümkündür</td>\n",
       "      <td>18</td>\n",
       "      <td>2.0</td>\n",
       "    </tr>\n",
       "    <tr>\n",
       "      <td>3</td>\n",
       "      <td>Diger</td>\n",
       "      <td>C 180</td>\n",
       "      <td>1998</td>\n",
       "      <td>Sedan</td>\n",
       "      <td>Göy</td>\n",
       "      <td>1.8</td>\n",
       "      <td>125</td>\n",
       "      <td>Benzin</td>\n",
       "      <td>556680</td>\n",
       "      <td>Avtomat</td>\n",
       "      <td>9700.0</td>\n",
       "      <td>yüngül lehimli disklər,abs,mərkəzi qapanma,kon...</td>\n",
       "      <td>mawin bakidadi. tecili satilir yaxwi veziyetde...</td>\n",
       "      <td>22</td>\n",
       "      <td>33.0</td>\n",
       "    </tr>\n",
       "    <tr>\n",
       "      <td>4</td>\n",
       "      <td>Gəncə_Sumqayıt</td>\n",
       "      <td>C 220</td>\n",
       "      <td>2000</td>\n",
       "      <td>Sedan</td>\n",
       "      <td>Gümüşü</td>\n",
       "      <td>2.2</td>\n",
       "      <td>150</td>\n",
       "      <td>Dizel</td>\n",
       "      <td>300000</td>\n",
       "      <td>Avtomat</td>\n",
       "      <td>12700.0</td>\n",
       "      <td>yüngül lehimli disklər,abs,mərkəzi qapanma,par...</td>\n",
       "      <td>vurugu udari deyisen detali curuyu qetiyyen yo...</td>\n",
       "      <td>20</td>\n",
       "      <td>30.0</td>\n",
       "    </tr>\n",
       "  </tbody>\n",
       "</table>\n",
       "</div>"
      ],
      "text/plain": [
       "           Sheher  Model  Istifade muddeti Ban novu    Reng  Muherrikin hecmi  \\\n",
       "0  Gəncə_Sumqayıt  C 200              1999    Sedan    Qara               2.0   \n",
       "1            Bakı  C 180              2014    Sedan    Qara               1.6   \n",
       "2  Gəncə_Sumqayıt  C 240              2002    Sedan    Qara               2.6   \n",
       "3           Diger  C 180              1998    Sedan     Göy               1.8   \n",
       "4  Gəncə_Sumqayıt  C 220              2000    Sedan  Gümüşü               2.2   \n",
       "\n",
       "   Muherrikin gucu Yanacaq novu  Yurush Suretler qutusu   Qiymet  \\\n",
       "0              175       Benzin  366000         Avtomat  12500.0   \n",
       "1              167       Benzin  102000         Avtomat  53550.0   \n",
       "2              177       Benzin  469700         Avtomat  11700.0   \n",
       "3              125       Benzin  556680         Avtomat   9700.0   \n",
       "4              150        Dizel  300000         Avtomat  12700.0   \n",
       "\n",
       "                                          Extra Info  \\\n",
       "0                                        kreditdədir   \n",
       "1                                   barter mümkündür   \n",
       "2                                        kreditdədir   \n",
       "3  yüngül lehimli disklər,abs,mərkəzi qapanma,kon...   \n",
       "4  yüngül lehimli disklər,abs,mərkəzi qapanma,par...   \n",
       "\n",
       "                                      Seller comment  \\\n",
       "0                                   barter mümkündür   \n",
       "1  yüngül lehimli disklər,abs,yağış sensoru,mərkə...   \n",
       "2                                   barter mümkündür   \n",
       "3  mawin bakidadi. tecili satilir yaxwi veziyetde...   \n",
       "4  vurugu udari deyisen detali curuyu qetiyyen yo...   \n",
       "\n",
       "   Buraxilish iliaxilish ili  Comment_uzunluqu  \n",
       "0                         21               2.0  \n",
       "1                          6              13.0  \n",
       "2                         18               2.0  \n",
       "3                         22              33.0  \n",
       "4                         20              30.0  "
      ]
     },
     "execution_count": 1009,
     "metadata": {},
     "output_type": "execute_result"
    }
   ],
   "source": [
    "turboaz.head()"
   ]
  },
  {
   "cell_type": "code",
   "execution_count": 1010,
   "metadata": {},
   "outputs": [],
   "source": [
    "comment = turboaz[\"Seller comment\"].str.split()\n",
    "info = turboaz[\"Extra Info\"].str.split(\",\")"
   ]
  },
  {
   "cell_type": "code",
   "execution_count": 1011,
   "metadata": {},
   "outputs": [
    {
     "data": {
      "text/plain": [
       "['yüngül lehimli disklər',\n",
       " 'abs',\n",
       " 'lyuk',\n",
       " 'mərkəzi qapanma',\n",
       " 'kondisioner',\n",
       " 'dəri salon',\n",
       " 'ksenon lampalar']"
      ]
     },
     "execution_count": 1011,
     "metadata": {},
     "output_type": "execute_result"
    }
   ],
   "source": [
    "info[5]"
   ]
  },
  {
   "cell_type": "markdown",
   "metadata": {},
   "source": [
    "### It seems like the \"Extra info\" is not filled manually by a user. It is chosen from a predefined list of extra details, so this column will be less problematic for us. I decided to create 3 binary features, indicating the presence of \"lyuk, \"deri salon\" and \"ksenon lampalar\""
   ]
  },
  {
   "cell_type": "code",
   "execution_count": 1012,
   "metadata": {},
   "outputs": [],
   "source": [
    "for index, row in turboaz.iterrows():\n",
    "    if \"lyuk\" in info[index]:\n",
    "        turboaz.at[index, 'lyuk'] = 1\n",
    "    else:\n",
    "        turboaz.at[index, 'lyuk'] = 0"
   ]
  },
  {
   "cell_type": "code",
   "execution_count": 1013,
   "metadata": {},
   "outputs": [],
   "source": [
    "for index, row in turboaz.iterrows():\n",
    "    if \"dəri salon\" in info[index]:\n",
    "        turboaz.at[index, 'deri salon'] = 1\n",
    "    else:\n",
    "        turboaz.at[index, 'deri salon'] = 0"
   ]
  },
  {
   "cell_type": "code",
   "execution_count": 1014,
   "metadata": {},
   "outputs": [],
   "source": [
    "for index, row in turboaz.iterrows():\n",
    "    if \"ksenon lampalar\" in info[index]:\n",
    "        turboaz.at[index, 'ksenon lampalar'] = 1\n",
    "    else:\n",
    "        turboaz.at[index, 'ksenon lampalar'] = 0"
   ]
  },
  {
   "cell_type": "code",
   "execution_count": 1015,
   "metadata": {},
   "outputs": [
    {
     "data": {
      "text/html": [
       "<div>\n",
       "<style scoped>\n",
       "    .dataframe tbody tr th:only-of-type {\n",
       "        vertical-align: middle;\n",
       "    }\n",
       "\n",
       "    .dataframe tbody tr th {\n",
       "        vertical-align: top;\n",
       "    }\n",
       "\n",
       "    .dataframe thead th {\n",
       "        text-align: right;\n",
       "    }\n",
       "</style>\n",
       "<table border=\"1\" class=\"dataframe\">\n",
       "  <thead>\n",
       "    <tr style=\"text-align: right;\">\n",
       "      <th></th>\n",
       "      <th>Sheher</th>\n",
       "      <th>Model</th>\n",
       "      <th>Istifade muddeti</th>\n",
       "      <th>Ban novu</th>\n",
       "      <th>Reng</th>\n",
       "      <th>Muherrikin hecmi</th>\n",
       "      <th>Muherrikin gucu</th>\n",
       "      <th>Yanacaq novu</th>\n",
       "      <th>Yurush</th>\n",
       "      <th>Suretler qutusu</th>\n",
       "      <th>Qiymet</th>\n",
       "      <th>Extra Info</th>\n",
       "      <th>Seller comment</th>\n",
       "      <th>Buraxilish iliaxilish ili</th>\n",
       "      <th>Comment_uzunluqu</th>\n",
       "      <th>lyuk</th>\n",
       "      <th>deri salon</th>\n",
       "      <th>ksenon lampalar</th>\n",
       "    </tr>\n",
       "  </thead>\n",
       "  <tbody>\n",
       "    <tr>\n",
       "      <td>0</td>\n",
       "      <td>Gəncə_Sumqayıt</td>\n",
       "      <td>C 200</td>\n",
       "      <td>1999</td>\n",
       "      <td>Sedan</td>\n",
       "      <td>Qara</td>\n",
       "      <td>2.0</td>\n",
       "      <td>175</td>\n",
       "      <td>Benzin</td>\n",
       "      <td>366000</td>\n",
       "      <td>Avtomat</td>\n",
       "      <td>12500.0</td>\n",
       "      <td>kreditdədir</td>\n",
       "      <td>barter mümkündür</td>\n",
       "      <td>21</td>\n",
       "      <td>2.0</td>\n",
       "      <td>0.0</td>\n",
       "      <td>0.0</td>\n",
       "      <td>0.0</td>\n",
       "    </tr>\n",
       "    <tr>\n",
       "      <td>1</td>\n",
       "      <td>Bakı</td>\n",
       "      <td>C 180</td>\n",
       "      <td>2014</td>\n",
       "      <td>Sedan</td>\n",
       "      <td>Qara</td>\n",
       "      <td>1.6</td>\n",
       "      <td>167</td>\n",
       "      <td>Benzin</td>\n",
       "      <td>102000</td>\n",
       "      <td>Avtomat</td>\n",
       "      <td>53550.0</td>\n",
       "      <td>barter mümkündür</td>\n",
       "      <td>yüngül lehimli disklər,abs,yağış sensoru,mərkə...</td>\n",
       "      <td>6</td>\n",
       "      <td>13.0</td>\n",
       "      <td>0.0</td>\n",
       "      <td>0.0</td>\n",
       "      <td>0.0</td>\n",
       "    </tr>\n",
       "    <tr>\n",
       "      <td>2</td>\n",
       "      <td>Gəncə_Sumqayıt</td>\n",
       "      <td>C 240</td>\n",
       "      <td>2002</td>\n",
       "      <td>Sedan</td>\n",
       "      <td>Qara</td>\n",
       "      <td>2.6</td>\n",
       "      <td>177</td>\n",
       "      <td>Benzin</td>\n",
       "      <td>469700</td>\n",
       "      <td>Avtomat</td>\n",
       "      <td>11700.0</td>\n",
       "      <td>kreditdədir</td>\n",
       "      <td>barter mümkündür</td>\n",
       "      <td>18</td>\n",
       "      <td>2.0</td>\n",
       "      <td>0.0</td>\n",
       "      <td>0.0</td>\n",
       "      <td>0.0</td>\n",
       "    </tr>\n",
       "    <tr>\n",
       "      <td>3</td>\n",
       "      <td>Diger</td>\n",
       "      <td>C 180</td>\n",
       "      <td>1998</td>\n",
       "      <td>Sedan</td>\n",
       "      <td>Göy</td>\n",
       "      <td>1.8</td>\n",
       "      <td>125</td>\n",
       "      <td>Benzin</td>\n",
       "      <td>556680</td>\n",
       "      <td>Avtomat</td>\n",
       "      <td>9700.0</td>\n",
       "      <td>yüngül lehimli disklər,abs,mərkəzi qapanma,kon...</td>\n",
       "      <td>mawin bakidadi. tecili satilir yaxwi veziyetde...</td>\n",
       "      <td>22</td>\n",
       "      <td>33.0</td>\n",
       "      <td>0.0</td>\n",
       "      <td>1.0</td>\n",
       "      <td>0.0</td>\n",
       "    </tr>\n",
       "    <tr>\n",
       "      <td>4</td>\n",
       "      <td>Gəncə_Sumqayıt</td>\n",
       "      <td>C 220</td>\n",
       "      <td>2000</td>\n",
       "      <td>Sedan</td>\n",
       "      <td>Gümüşü</td>\n",
       "      <td>2.2</td>\n",
       "      <td>150</td>\n",
       "      <td>Dizel</td>\n",
       "      <td>300000</td>\n",
       "      <td>Avtomat</td>\n",
       "      <td>12700.0</td>\n",
       "      <td>yüngül lehimli disklər,abs,mərkəzi qapanma,par...</td>\n",
       "      <td>vurugu udari deyisen detali curuyu qetiyyen yo...</td>\n",
       "      <td>20</td>\n",
       "      <td>30.0</td>\n",
       "      <td>0.0</td>\n",
       "      <td>0.0</td>\n",
       "      <td>0.0</td>\n",
       "    </tr>\n",
       "  </tbody>\n",
       "</table>\n",
       "</div>"
      ],
      "text/plain": [
       "           Sheher  Model  Istifade muddeti Ban novu    Reng  Muherrikin hecmi  \\\n",
       "0  Gəncə_Sumqayıt  C 200              1999    Sedan    Qara               2.0   \n",
       "1            Bakı  C 180              2014    Sedan    Qara               1.6   \n",
       "2  Gəncə_Sumqayıt  C 240              2002    Sedan    Qara               2.6   \n",
       "3           Diger  C 180              1998    Sedan     Göy               1.8   \n",
       "4  Gəncə_Sumqayıt  C 220              2000    Sedan  Gümüşü               2.2   \n",
       "\n",
       "   Muherrikin gucu Yanacaq novu  Yurush Suretler qutusu   Qiymet  \\\n",
       "0              175       Benzin  366000         Avtomat  12500.0   \n",
       "1              167       Benzin  102000         Avtomat  53550.0   \n",
       "2              177       Benzin  469700         Avtomat  11700.0   \n",
       "3              125       Benzin  556680         Avtomat   9700.0   \n",
       "4              150        Dizel  300000         Avtomat  12700.0   \n",
       "\n",
       "                                          Extra Info  \\\n",
       "0                                        kreditdədir   \n",
       "1                                   barter mümkündür   \n",
       "2                                        kreditdədir   \n",
       "3  yüngül lehimli disklər,abs,mərkəzi qapanma,kon...   \n",
       "4  yüngül lehimli disklər,abs,mərkəzi qapanma,par...   \n",
       "\n",
       "                                      Seller comment  \\\n",
       "0                                   barter mümkündür   \n",
       "1  yüngül lehimli disklər,abs,yağış sensoru,mərkə...   \n",
       "2                                   barter mümkündür   \n",
       "3  mawin bakidadi. tecili satilir yaxwi veziyetde...   \n",
       "4  vurugu udari deyisen detali curuyu qetiyyen yo...   \n",
       "\n",
       "   Buraxilish iliaxilish ili  Comment_uzunluqu  lyuk  deri salon  \\\n",
       "0                         21               2.0   0.0         0.0   \n",
       "1                          6              13.0   0.0         0.0   \n",
       "2                         18               2.0   0.0         0.0   \n",
       "3                         22              33.0   0.0         1.0   \n",
       "4                         20              30.0   0.0         0.0   \n",
       "\n",
       "   ksenon lampalar  \n",
       "0              0.0  \n",
       "1              0.0  \n",
       "2              0.0  \n",
       "3              0.0  \n",
       "4              0.0  "
      ]
     },
     "execution_count": 1015,
     "metadata": {},
     "output_type": "execute_result"
    }
   ],
   "source": [
    "turboaz.head()"
   ]
  },
  {
   "cell_type": "code",
   "execution_count": 1016,
   "metadata": {},
   "outputs": [
    {
     "data": {
      "text/plain": [
       "0.0    769\n",
       "1.0    246\n",
       "Name: ksenon lampalar, dtype: int64"
      ]
     },
     "execution_count": 1016,
     "metadata": {},
     "output_type": "execute_result"
    }
   ],
   "source": [
    "turboaz[\"ksenon lampalar\"].value_counts()"
   ]
  },
  {
   "cell_type": "code",
   "execution_count": 1017,
   "metadata": {},
   "outputs": [
    {
     "data": {
      "text/plain": [
       "0.0    540\n",
       "1.0    475\n",
       "Name: lyuk, dtype: int64"
      ]
     },
     "execution_count": 1017,
     "metadata": {},
     "output_type": "execute_result"
    }
   ],
   "source": [
    "turboaz[\"lyuk\"].value_counts()"
   ]
  },
  {
   "cell_type": "code",
   "execution_count": 1018,
   "metadata": {},
   "outputs": [],
   "source": [
    "for index, row in turboaz.iterrows():\n",
    "    if \"barter mümkündür\" in info[index]:\n",
    "        turboaz.at[index, 'barter mümkündür'] = 1\n",
    "    else:\n",
    "        turboaz.at[index, 'barter mümkündür'] = 0"
   ]
  },
  {
   "cell_type": "code",
   "execution_count": 1019,
   "metadata": {},
   "outputs": [
    {
     "data": {
      "text/plain": [
       "0.0    861\n",
       "1.0    154\n",
       "Name: barter mümkündür, dtype: int64"
      ]
     },
     "execution_count": 1019,
     "metadata": {},
     "output_type": "execute_result"
    }
   ],
   "source": [
    "turboaz[\"barter mümkündür\"].value_counts()"
   ]
  },
  {
   "cell_type": "code",
   "execution_count": 1020,
   "metadata": {},
   "outputs": [],
   "source": [
    "for index, row in turboaz.iterrows():\n",
    "    if \"kreditdədir\" in info[index]:\n",
    "        turboaz.at[index, 'kreditdədir'] = 1\n",
    "    else:\n",
    "        turboaz.at[index, 'kreditdədir'] = 0"
   ]
  },
  {
   "cell_type": "code",
   "execution_count": 1021,
   "metadata": {},
   "outputs": [
    {
     "data": {
      "text/plain": [
       "0.0    941\n",
       "1.0     74\n",
       "Name: kreditdədir, dtype: int64"
      ]
     },
     "execution_count": 1021,
     "metadata": {},
     "output_type": "execute_result"
    }
   ],
   "source": [
    "turboaz[\"kreditdədir\"].value_counts()"
   ]
  },
  {
   "cell_type": "markdown",
   "metadata": {},
   "source": [
    "### Now, it is getting a little more complicated. I could use tfidfvectorizer for text analyzing, but since our comments are in Azerbaijani, this process may be not that much efficient and produce some errors, so I will have to manually exctract some interesting features from \"seller comment\" column"
   ]
  },
  {
   "cell_type": "code",
   "execution_count": 1022,
   "metadata": {},
   "outputs": [
    {
     "data": {
      "text/plain": [
       "['mawin',\n",
       " 'bakidadi.',\n",
       " 'tecili',\n",
       " 'satilir',\n",
       " 'yaxwi',\n",
       " 'veziyetdedir',\n",
       " 'mator',\n",
       " 'karopka',\n",
       " 'most',\n",
       " 'ela',\n",
       " 'veziyetdedir',\n",
       " '.',\n",
       " 'tek',\n",
       " 'prablemi',\n",
       " 'vozduxamer',\n",
       " 'iwlemir',\n",
       " 'oda',\n",
       " 'ya',\n",
       " 'pulundan',\n",
       " 'cixaram',\n",
       " 'yada',\n",
       " 'alib',\n",
       " 'qoyaram.',\n",
       " 'bawqa',\n",
       " 'prabelmi',\n",
       " 'yoxdu',\n",
       " 'otur',\n",
       " 'sur',\n",
       " 'mawindi',\n",
       " 'real',\n",
       " 'aliciya',\n",
       " 'endirim',\n",
       " 'olacaq.']"
      ]
     },
     "execution_count": 1022,
     "metadata": {},
     "output_type": "execute_result"
    }
   ],
   "source": [
    "comment[3]"
   ]
  },
  {
   "cell_type": "code",
   "execution_count": 1023,
   "metadata": {},
   "outputs": [],
   "source": [
    "for index, row in turboaz.iterrows():\n",
    "    if \"vurugu\" in comment[index]:\n",
    "        turboaz.at[index, 'vurulub'] = 1\n",
    "    elif \"vurug\" in comment[index]:\n",
    "        turboaz.at[index, 'vurulub'] = 1\n",
    "    elif \"vuruq\" in comment[index]:\n",
    "        turboaz.at[index, 'vurulub'] = 1\n",
    "    elif \"vuruqu\" in comment[index]:\n",
    "        turboaz.at[index, 'vurulub'] = 1\n",
    "    else:\n",
    "        turboaz.at[index, 'vurulub'] = 0"
   ]
  },
  {
   "cell_type": "code",
   "execution_count": 1024,
   "metadata": {},
   "outputs": [
    {
     "data": {
      "text/plain": [
       "0.0    923\n",
       "1.0     92\n",
       "Name: vurulub, dtype: int64"
      ]
     },
     "execution_count": 1024,
     "metadata": {},
     "output_type": "execute_result"
    }
   ],
   "source": [
    "turboaz.vurulub.value_counts()"
   ]
  },
  {
   "cell_type": "code",
   "execution_count": 1025,
   "metadata": {},
   "outputs": [],
   "source": [
    "for index, row in turboaz.iterrows():\n",
    "    if \"endirim\" in comment[index]:\n",
    "        turboaz.at[index, 'endirim_olacaq'] = 1\n",
    "    else:\n",
    "        turboaz.at[index, 'endirim_olacaq'] = 0"
   ]
  },
  {
   "cell_type": "code",
   "execution_count": 1026,
   "metadata": {},
   "outputs": [
    {
     "data": {
      "text/plain": [
       "0.0    942\n",
       "1.0     73\n",
       "Name: endirim_olacaq, dtype: int64"
      ]
     },
     "execution_count": 1026,
     "metadata": {},
     "output_type": "execute_result"
    }
   ],
   "source": [
    "turboaz.endirim_olacaq.value_counts()"
   ]
  },
  {
   "cell_type": "code",
   "execution_count": 1027,
   "metadata": {},
   "outputs": [],
   "source": [
    "for index, row in turboaz.iterrows():\n",
    "    if \"tecili\" in comment[index]:\n",
    "        turboaz.at[index, 'tecili'] = 1\n",
    "    elif \"təcili\" in comment[index]:\n",
    "        turboaz.at[index, 'tecili'] = 1  \n",
    "    else:\n",
    "        turboaz.at[index, 'tecili'] = 0"
   ]
  },
  {
   "cell_type": "code",
   "execution_count": 1028,
   "metadata": {},
   "outputs": [
    {
     "data": {
      "text/plain": [
       "0.0    931\n",
       "1.0     84\n",
       "Name: tecili, dtype: int64"
      ]
     },
     "execution_count": 1028,
     "metadata": {},
     "output_type": "execute_result"
    }
   ],
   "source": [
    "turboaz.tecili.value_counts()"
   ]
  },
  {
   "cell_type": "markdown",
   "metadata": {},
   "source": [
    "### We do not need the text columns anymore, so we can drop them and review our dataset"
   ]
  },
  {
   "cell_type": "code",
   "execution_count": 1029,
   "metadata": {},
   "outputs": [
    {
     "data": {
      "text/html": [
       "<div>\n",
       "<style scoped>\n",
       "    .dataframe tbody tr th:only-of-type {\n",
       "        vertical-align: middle;\n",
       "    }\n",
       "\n",
       "    .dataframe tbody tr th {\n",
       "        vertical-align: top;\n",
       "    }\n",
       "\n",
       "    .dataframe thead th {\n",
       "        text-align: right;\n",
       "    }\n",
       "</style>\n",
       "<table border=\"1\" class=\"dataframe\">\n",
       "  <thead>\n",
       "    <tr style=\"text-align: right;\">\n",
       "      <th></th>\n",
       "      <th>Sheher</th>\n",
       "      <th>Model</th>\n",
       "      <th>Istifade muddeti</th>\n",
       "      <th>Ban novu</th>\n",
       "      <th>Reng</th>\n",
       "      <th>Muherrikin hecmi</th>\n",
       "      <th>Muherrikin gucu</th>\n",
       "      <th>Yanacaq novu</th>\n",
       "      <th>Yurush</th>\n",
       "      <th>Suretler qutusu</th>\n",
       "      <th>...</th>\n",
       "      <th>Buraxilish iliaxilish ili</th>\n",
       "      <th>Comment_uzunluqu</th>\n",
       "      <th>lyuk</th>\n",
       "      <th>deri salon</th>\n",
       "      <th>ksenon lampalar</th>\n",
       "      <th>barter mümkündür</th>\n",
       "      <th>kreditdədir</th>\n",
       "      <th>vurulub</th>\n",
       "      <th>endirim_olacaq</th>\n",
       "      <th>tecili</th>\n",
       "    </tr>\n",
       "  </thead>\n",
       "  <tbody>\n",
       "    <tr>\n",
       "      <td>0</td>\n",
       "      <td>Gəncə_Sumqayıt</td>\n",
       "      <td>C 200</td>\n",
       "      <td>1999</td>\n",
       "      <td>Sedan</td>\n",
       "      <td>Qara</td>\n",
       "      <td>2.0</td>\n",
       "      <td>175</td>\n",
       "      <td>Benzin</td>\n",
       "      <td>366000</td>\n",
       "      <td>Avtomat</td>\n",
       "      <td>...</td>\n",
       "      <td>21</td>\n",
       "      <td>2.0</td>\n",
       "      <td>0.0</td>\n",
       "      <td>0.0</td>\n",
       "      <td>0.0</td>\n",
       "      <td>0.0</td>\n",
       "      <td>1.0</td>\n",
       "      <td>0.0</td>\n",
       "      <td>0.0</td>\n",
       "      <td>0.0</td>\n",
       "    </tr>\n",
       "    <tr>\n",
       "      <td>1</td>\n",
       "      <td>Bakı</td>\n",
       "      <td>C 180</td>\n",
       "      <td>2014</td>\n",
       "      <td>Sedan</td>\n",
       "      <td>Qara</td>\n",
       "      <td>1.6</td>\n",
       "      <td>167</td>\n",
       "      <td>Benzin</td>\n",
       "      <td>102000</td>\n",
       "      <td>Avtomat</td>\n",
       "      <td>...</td>\n",
       "      <td>6</td>\n",
       "      <td>13.0</td>\n",
       "      <td>0.0</td>\n",
       "      <td>0.0</td>\n",
       "      <td>0.0</td>\n",
       "      <td>1.0</td>\n",
       "      <td>0.0</td>\n",
       "      <td>0.0</td>\n",
       "      <td>0.0</td>\n",
       "      <td>0.0</td>\n",
       "    </tr>\n",
       "    <tr>\n",
       "      <td>2</td>\n",
       "      <td>Gəncə_Sumqayıt</td>\n",
       "      <td>C 240</td>\n",
       "      <td>2002</td>\n",
       "      <td>Sedan</td>\n",
       "      <td>Qara</td>\n",
       "      <td>2.6</td>\n",
       "      <td>177</td>\n",
       "      <td>Benzin</td>\n",
       "      <td>469700</td>\n",
       "      <td>Avtomat</td>\n",
       "      <td>...</td>\n",
       "      <td>18</td>\n",
       "      <td>2.0</td>\n",
       "      <td>0.0</td>\n",
       "      <td>0.0</td>\n",
       "      <td>0.0</td>\n",
       "      <td>0.0</td>\n",
       "      <td>1.0</td>\n",
       "      <td>0.0</td>\n",
       "      <td>0.0</td>\n",
       "      <td>0.0</td>\n",
       "    </tr>\n",
       "    <tr>\n",
       "      <td>3</td>\n",
       "      <td>Diger</td>\n",
       "      <td>C 180</td>\n",
       "      <td>1998</td>\n",
       "      <td>Sedan</td>\n",
       "      <td>Göy</td>\n",
       "      <td>1.8</td>\n",
       "      <td>125</td>\n",
       "      <td>Benzin</td>\n",
       "      <td>556680</td>\n",
       "      <td>Avtomat</td>\n",
       "      <td>...</td>\n",
       "      <td>22</td>\n",
       "      <td>33.0</td>\n",
       "      <td>0.0</td>\n",
       "      <td>1.0</td>\n",
       "      <td>0.0</td>\n",
       "      <td>0.0</td>\n",
       "      <td>0.0</td>\n",
       "      <td>0.0</td>\n",
       "      <td>1.0</td>\n",
       "      <td>1.0</td>\n",
       "    </tr>\n",
       "    <tr>\n",
       "      <td>4</td>\n",
       "      <td>Gəncə_Sumqayıt</td>\n",
       "      <td>C 220</td>\n",
       "      <td>2000</td>\n",
       "      <td>Sedan</td>\n",
       "      <td>Gümüşü</td>\n",
       "      <td>2.2</td>\n",
       "      <td>150</td>\n",
       "      <td>Dizel</td>\n",
       "      <td>300000</td>\n",
       "      <td>Avtomat</td>\n",
       "      <td>...</td>\n",
       "      <td>20</td>\n",
       "      <td>30.0</td>\n",
       "      <td>0.0</td>\n",
       "      <td>0.0</td>\n",
       "      <td>0.0</td>\n",
       "      <td>0.0</td>\n",
       "      <td>0.0</td>\n",
       "      <td>1.0</td>\n",
       "      <td>0.0</td>\n",
       "      <td>0.0</td>\n",
       "    </tr>\n",
       "  </tbody>\n",
       "</table>\n",
       "<p>5 rows × 21 columns</p>\n",
       "</div>"
      ],
      "text/plain": [
       "           Sheher  Model  Istifade muddeti Ban novu    Reng  Muherrikin hecmi  \\\n",
       "0  Gəncə_Sumqayıt  C 200              1999    Sedan    Qara               2.0   \n",
       "1            Bakı  C 180              2014    Sedan    Qara               1.6   \n",
       "2  Gəncə_Sumqayıt  C 240              2002    Sedan    Qara               2.6   \n",
       "3           Diger  C 180              1998    Sedan     Göy               1.8   \n",
       "4  Gəncə_Sumqayıt  C 220              2000    Sedan  Gümüşü               2.2   \n",
       "\n",
       "   Muherrikin gucu Yanacaq novu  Yurush Suretler qutusu  ...  \\\n",
       "0              175       Benzin  366000         Avtomat  ...   \n",
       "1              167       Benzin  102000         Avtomat  ...   \n",
       "2              177       Benzin  469700         Avtomat  ...   \n",
       "3              125       Benzin  556680         Avtomat  ...   \n",
       "4              150        Dizel  300000         Avtomat  ...   \n",
       "\n",
       "   Buraxilish iliaxilish ili  Comment_uzunluqu  lyuk  deri salon  \\\n",
       "0                         21               2.0   0.0         0.0   \n",
       "1                          6              13.0   0.0         0.0   \n",
       "2                         18               2.0   0.0         0.0   \n",
       "3                         22              33.0   0.0         1.0   \n",
       "4                         20              30.0   0.0         0.0   \n",
       "\n",
       "   ksenon lampalar  barter mümkündür  kreditdədir  vurulub  endirim_olacaq  \\\n",
       "0              0.0               0.0          1.0      0.0             0.0   \n",
       "1              0.0               1.0          0.0      0.0             0.0   \n",
       "2              0.0               0.0          1.0      0.0             0.0   \n",
       "3              0.0               0.0          0.0      0.0             1.0   \n",
       "4              0.0               0.0          0.0      1.0             0.0   \n",
       "\n",
       "   tecili  \n",
       "0     0.0  \n",
       "1     0.0  \n",
       "2     0.0  \n",
       "3     1.0  \n",
       "4     0.0  \n",
       "\n",
       "[5 rows x 21 columns]"
      ]
     },
     "execution_count": 1029,
     "metadata": {},
     "output_type": "execute_result"
    }
   ],
   "source": [
    "turboaz.drop(columns=[\"Extra Info\", \"Seller comment\"], inplace=True)\n",
    "turboaz.reset_index(drop=True, inplace=True)\n",
    "turboaz.head()"
   ]
  },
  {
   "cell_type": "code",
   "execution_count": 1030,
   "metadata": {},
   "outputs": [
    {
     "name": "stdout",
     "output_type": "stream",
     "text": [
      "<class 'pandas.core.frame.DataFrame'>\n",
      "RangeIndex: 1015 entries, 0 to 1014\n",
      "Data columns (total 21 columns):\n",
      "Sheher                       1015 non-null object\n",
      "Model                        1015 non-null object\n",
      "Istifade muddeti             1015 non-null int64\n",
      "Ban novu                     1015 non-null object\n",
      "Reng                         1015 non-null object\n",
      "Muherrikin hecmi             1015 non-null float64\n",
      "Muherrikin gucu              1015 non-null int64\n",
      "Yanacaq novu                 1015 non-null object\n",
      "Yurush                       1015 non-null int64\n",
      "Suretler qutusu              1015 non-null object\n",
      "Qiymet                       1015 non-null float64\n",
      "Buraxilish iliaxilish ili    1015 non-null int64\n",
      "Comment_uzunluqu             1015 non-null float64\n",
      "lyuk                         1015 non-null float64\n",
      "deri salon                   1015 non-null float64\n",
      "ksenon lampalar              1015 non-null float64\n",
      "barter mümkündür             1015 non-null float64\n",
      "kreditdədir                  1015 non-null float64\n",
      "vurulub                      1015 non-null float64\n",
      "endirim_olacaq               1015 non-null float64\n",
      "tecili                       1015 non-null float64\n",
      "dtypes: float64(11), int64(4), object(6)\n",
      "memory usage: 166.6+ KB\n"
     ]
    }
   ],
   "source": [
    "turboaz.info()"
   ]
  },
  {
   "cell_type": "code",
   "execution_count": 1031,
   "metadata": {},
   "outputs": [],
   "source": [
    "# Creating dummy variables for our categorical features\n",
    "turboaz = pd.get_dummies(turboaz, columns = [\"Sheher\", \"Model\", \"Ban novu\", \"Reng\", \"Yanacaq novu\", \"Suretler qutusu\"], drop_first=True, dtype=\"int64\")"
   ]
  },
  {
   "cell_type": "code",
   "execution_count": 1032,
   "metadata": {},
   "outputs": [
    {
     "name": "stdout",
     "output_type": "stream",
     "text": [
      "<class 'pandas.core.frame.DataFrame'>\n",
      "RangeIndex: 1015 entries, 0 to 1014\n",
      "Data columns (total 29 columns):\n",
      "Istifade muddeti             1015 non-null float64\n",
      "Muherrikin hecmi             1015 non-null float64\n",
      "Muherrikin gucu              1015 non-null float64\n",
      "Yurush                       1015 non-null float64\n",
      "Qiymet                       1015 non-null float64\n",
      "Buraxilish iliaxilish ili    1015 non-null float64\n",
      "Comment_uzunluqu             1015 non-null float64\n",
      "lyuk                         1015 non-null float64\n",
      "deri salon                   1015 non-null float64\n",
      "ksenon lampalar              1015 non-null float64\n",
      "barter mümkündür             1015 non-null float64\n",
      "kreditdədir                  1015 non-null float64\n",
      "vurulub                      1015 non-null float64\n",
      "endirim_olacaq               1015 non-null float64\n",
      "tecili                       1015 non-null float64\n",
      "Sheher_Diger                 1015 non-null float64\n",
      "Sheher_Gəncə_Sumqayıt        1015 non-null float64\n",
      "Model_C 200                  1015 non-null float64\n",
      "Model_C 220                  1015 non-null float64\n",
      "Model_C 230                  1015 non-null float64\n",
      "Model_C 240                  1015 non-null float64\n",
      "Model_Diger modeller         1015 non-null float64\n",
      "Ban novu_Universal           1015 non-null float64\n",
      "Reng_Ekzotik                 1015 non-null float64\n",
      "Reng_Göy                     1015 non-null float64\n",
      "Reng_Gümüşü                  1015 non-null float64\n",
      "Reng_Qara                    1015 non-null float64\n",
      "Yanacaq novu_Dizel           1015 non-null float64\n",
      "Suretler qutusu_Mexaniki     1015 non-null float64\n",
      "dtypes: float64(29)\n",
      "memory usage: 230.1 KB\n"
     ]
    }
   ],
   "source": [
    "turboaz = turboaz.astype(float)\n",
    "turboaz.info()"
   ]
  },
  {
   "cell_type": "markdown",
   "metadata": {},
   "source": [
    "### Our dataset looks much cleaner and \"machine learning\"-friendlier now"
   ]
  },
  {
   "cell_type": "code",
   "execution_count": 1033,
   "metadata": {},
   "outputs": [
    {
     "data": {
      "text/html": [
       "<div>\n",
       "<style scoped>\n",
       "    .dataframe tbody tr th:only-of-type {\n",
       "        vertical-align: middle;\n",
       "    }\n",
       "\n",
       "    .dataframe tbody tr th {\n",
       "        vertical-align: top;\n",
       "    }\n",
       "\n",
       "    .dataframe thead th {\n",
       "        text-align: right;\n",
       "    }\n",
       "</style>\n",
       "<table border=\"1\" class=\"dataframe\">\n",
       "  <thead>\n",
       "    <tr style=\"text-align: right;\">\n",
       "      <th></th>\n",
       "      <th>Istifade muddeti</th>\n",
       "      <th>Muherrikin hecmi</th>\n",
       "      <th>Muherrikin gucu</th>\n",
       "      <th>Yurush</th>\n",
       "      <th>Qiymet</th>\n",
       "      <th>Buraxilish iliaxilish ili</th>\n",
       "      <th>Comment_uzunluqu</th>\n",
       "      <th>lyuk</th>\n",
       "      <th>deri salon</th>\n",
       "      <th>ksenon lampalar</th>\n",
       "      <th>...</th>\n",
       "      <th>Model_C 230</th>\n",
       "      <th>Model_C 240</th>\n",
       "      <th>Model_Diger modeller</th>\n",
       "      <th>Ban novu_Universal</th>\n",
       "      <th>Reng_Ekzotik</th>\n",
       "      <th>Reng_Göy</th>\n",
       "      <th>Reng_Gümüşü</th>\n",
       "      <th>Reng_Qara</th>\n",
       "      <th>Yanacaq novu_Dizel</th>\n",
       "      <th>Suretler qutusu_Mexaniki</th>\n",
       "    </tr>\n",
       "  </thead>\n",
       "  <tbody>\n",
       "    <tr>\n",
       "      <td>0</td>\n",
       "      <td>1999.0</td>\n",
       "      <td>2.0</td>\n",
       "      <td>175.0</td>\n",
       "      <td>366000.0</td>\n",
       "      <td>12500.0</td>\n",
       "      <td>21.0</td>\n",
       "      <td>2.0</td>\n",
       "      <td>0.0</td>\n",
       "      <td>0.0</td>\n",
       "      <td>0.0</td>\n",
       "      <td>...</td>\n",
       "      <td>0.0</td>\n",
       "      <td>0.0</td>\n",
       "      <td>0.0</td>\n",
       "      <td>0.0</td>\n",
       "      <td>0.0</td>\n",
       "      <td>0.0</td>\n",
       "      <td>0.0</td>\n",
       "      <td>1.0</td>\n",
       "      <td>0.0</td>\n",
       "      <td>0.0</td>\n",
       "    </tr>\n",
       "    <tr>\n",
       "      <td>1</td>\n",
       "      <td>2014.0</td>\n",
       "      <td>1.6</td>\n",
       "      <td>167.0</td>\n",
       "      <td>102000.0</td>\n",
       "      <td>53550.0</td>\n",
       "      <td>6.0</td>\n",
       "      <td>13.0</td>\n",
       "      <td>0.0</td>\n",
       "      <td>0.0</td>\n",
       "      <td>0.0</td>\n",
       "      <td>...</td>\n",
       "      <td>0.0</td>\n",
       "      <td>0.0</td>\n",
       "      <td>0.0</td>\n",
       "      <td>0.0</td>\n",
       "      <td>0.0</td>\n",
       "      <td>0.0</td>\n",
       "      <td>0.0</td>\n",
       "      <td>1.0</td>\n",
       "      <td>0.0</td>\n",
       "      <td>0.0</td>\n",
       "    </tr>\n",
       "    <tr>\n",
       "      <td>2</td>\n",
       "      <td>2002.0</td>\n",
       "      <td>2.6</td>\n",
       "      <td>177.0</td>\n",
       "      <td>469700.0</td>\n",
       "      <td>11700.0</td>\n",
       "      <td>18.0</td>\n",
       "      <td>2.0</td>\n",
       "      <td>0.0</td>\n",
       "      <td>0.0</td>\n",
       "      <td>0.0</td>\n",
       "      <td>...</td>\n",
       "      <td>0.0</td>\n",
       "      <td>1.0</td>\n",
       "      <td>0.0</td>\n",
       "      <td>0.0</td>\n",
       "      <td>0.0</td>\n",
       "      <td>0.0</td>\n",
       "      <td>0.0</td>\n",
       "      <td>1.0</td>\n",
       "      <td>0.0</td>\n",
       "      <td>0.0</td>\n",
       "    </tr>\n",
       "    <tr>\n",
       "      <td>3</td>\n",
       "      <td>1998.0</td>\n",
       "      <td>1.8</td>\n",
       "      <td>125.0</td>\n",
       "      <td>556680.0</td>\n",
       "      <td>9700.0</td>\n",
       "      <td>22.0</td>\n",
       "      <td>33.0</td>\n",
       "      <td>0.0</td>\n",
       "      <td>1.0</td>\n",
       "      <td>0.0</td>\n",
       "      <td>...</td>\n",
       "      <td>0.0</td>\n",
       "      <td>0.0</td>\n",
       "      <td>0.0</td>\n",
       "      <td>0.0</td>\n",
       "      <td>0.0</td>\n",
       "      <td>1.0</td>\n",
       "      <td>0.0</td>\n",
       "      <td>0.0</td>\n",
       "      <td>0.0</td>\n",
       "      <td>0.0</td>\n",
       "    </tr>\n",
       "    <tr>\n",
       "      <td>4</td>\n",
       "      <td>2000.0</td>\n",
       "      <td>2.2</td>\n",
       "      <td>150.0</td>\n",
       "      <td>300000.0</td>\n",
       "      <td>12700.0</td>\n",
       "      <td>20.0</td>\n",
       "      <td>30.0</td>\n",
       "      <td>0.0</td>\n",
       "      <td>0.0</td>\n",
       "      <td>0.0</td>\n",
       "      <td>...</td>\n",
       "      <td>0.0</td>\n",
       "      <td>0.0</td>\n",
       "      <td>0.0</td>\n",
       "      <td>0.0</td>\n",
       "      <td>0.0</td>\n",
       "      <td>0.0</td>\n",
       "      <td>1.0</td>\n",
       "      <td>0.0</td>\n",
       "      <td>1.0</td>\n",
       "      <td>0.0</td>\n",
       "    </tr>\n",
       "  </tbody>\n",
       "</table>\n",
       "<p>5 rows × 29 columns</p>\n",
       "</div>"
      ],
      "text/plain": [
       "   Istifade muddeti  Muherrikin hecmi  Muherrikin gucu    Yurush   Qiymet  \\\n",
       "0            1999.0               2.0            175.0  366000.0  12500.0   \n",
       "1            2014.0               1.6            167.0  102000.0  53550.0   \n",
       "2            2002.0               2.6            177.0  469700.0  11700.0   \n",
       "3            1998.0               1.8            125.0  556680.0   9700.0   \n",
       "4            2000.0               2.2            150.0  300000.0  12700.0   \n",
       "\n",
       "   Buraxilish iliaxilish ili  Comment_uzunluqu  lyuk  deri salon  \\\n",
       "0                       21.0               2.0   0.0         0.0   \n",
       "1                        6.0              13.0   0.0         0.0   \n",
       "2                       18.0               2.0   0.0         0.0   \n",
       "3                       22.0              33.0   0.0         1.0   \n",
       "4                       20.0              30.0   0.0         0.0   \n",
       "\n",
       "   ksenon lampalar  ...  Model_C 230  Model_C 240  Model_Diger modeller  \\\n",
       "0              0.0  ...          0.0          0.0                   0.0   \n",
       "1              0.0  ...          0.0          0.0                   0.0   \n",
       "2              0.0  ...          0.0          1.0                   0.0   \n",
       "3              0.0  ...          0.0          0.0                   0.0   \n",
       "4              0.0  ...          0.0          0.0                   0.0   \n",
       "\n",
       "   Ban novu_Universal  Reng_Ekzotik  Reng_Göy  Reng_Gümüşü  Reng_Qara  \\\n",
       "0                 0.0           0.0       0.0          0.0        1.0   \n",
       "1                 0.0           0.0       0.0          0.0        1.0   \n",
       "2                 0.0           0.0       0.0          0.0        1.0   \n",
       "3                 0.0           0.0       1.0          0.0        0.0   \n",
       "4                 0.0           0.0       0.0          1.0        0.0   \n",
       "\n",
       "   Yanacaq novu_Dizel  Suretler qutusu_Mexaniki  \n",
       "0                 0.0                       0.0  \n",
       "1                 0.0                       0.0  \n",
       "2                 0.0                       0.0  \n",
       "3                 0.0                       0.0  \n",
       "4                 1.0                       0.0  \n",
       "\n",
       "[5 rows x 29 columns]"
      ]
     },
     "execution_count": 1033,
     "metadata": {},
     "output_type": "execute_result"
    }
   ],
   "source": [
    "turboaz.head()"
   ]
  },
  {
   "cell_type": "markdown",
   "metadata": {},
   "source": [
    "### We need to analyze the price column, which is our target"
   ]
  },
  {
   "cell_type": "code",
   "execution_count": 1034,
   "metadata": {},
   "outputs": [
    {
     "data": {
      "text/plain": [
       "<matplotlib.axes._subplots.AxesSubplot at 0x1fd1cbfd488>"
      ]
     },
     "execution_count": 1034,
     "metadata": {},
     "output_type": "execute_result"
    },
    {
     "data": {
      "image/png": "[encoded data removed]",
      "text/plain": [
       "<Figure size 432x288 with 1 Axes>"
      ]
     },
     "metadata": {
      "needs_background": "light"
     },
     "output_type": "display_data"
    }
   ],
   "source": [
    "import seaborn as sns\n",
    "sns.boxplot(x=turboaz['Qiymet'])"
   ]
  },
  {
   "cell_type": "markdown",
   "metadata": {},
   "source": [
    "### Seems like our target variable suffers from a bunch of outliers. We need to drop them in order to achieve normality of the target variable"
   ]
  },
  {
   "cell_type": "code",
   "execution_count": 1035,
   "metadata": {},
   "outputs": [
    {
     "data": {
      "text/plain": [
       "count     1015.000000\n",
       "mean     12405.320493\n",
       "std       8798.359388\n",
       "min       1130.000000\n",
       "25%       9500.000000\n",
       "50%      11200.000000\n",
       "75%      12500.000000\n",
       "max      99500.000000\n",
       "Name: Qiymet, dtype: float64"
      ]
     },
     "execution_count": 1035,
     "metadata": {},
     "output_type": "execute_result"
    }
   ],
   "source": [
    "turboaz.Qiymet.describe()"
   ]
  },
  {
   "cell_type": "code",
   "execution_count": 1036,
   "metadata": {},
   "outputs": [],
   "source": [
    "# According to the distribution, 75 percentile + IQR*1.5 = 17000 ; 25 percentile - IQR*1.5 = 5000\n",
    "turboaz = turboaz.drop(turboaz[(turboaz['Qiymet'] > 17000) | (turboaz['Qiymet'] < 5000)].index)\n",
    "turboaz.reset_index(drop=True, inplace=True)"
   ]
  },
  {
   "cell_type": "markdown",
   "metadata": {},
   "source": [
    "### We need to make sure that our numerical features are normally distributed"
   ]
  },
  {
   "cell_type": "code",
   "execution_count": 1037,
   "metadata": {},
   "outputs": [
    {
     "data": {
      "image/png": "[encoded data removed]",
      "text/plain": [
       "<Figure size 432x288 with 1 Axes>"
      ]
     },
     "metadata": {
      "needs_background": "light"
     },
     "output_type": "display_data"
    },
    {
     "data": {
      "image/png": "[encoded data removed]",
      "text/plain": [
       "<Figure size 432x288 with 1 Axes>"
      ]
     },
     "metadata": {
      "needs_background": "light"
     },
     "output_type": "display_data"
    }
   ],
   "source": [
    "from scipy import stats\n",
    "from scipy.stats import norm\n",
    "\n",
    "sns.distplot(turboaz['Qiymet'], fit=norm);\n",
    "fig = plt.figure()\n",
    "res = stats.probplot(turboaz['Qiymet'], plot=plt)"
   ]
  },
  {
   "cell_type": "code",
   "execution_count": 1038,
   "metadata": {},
   "outputs": [
    {
     "name": "stdout",
     "output_type": "stream",
     "text": [
      "Skewness: -0.120832\n",
      "Kurtosis: -0.184016\n"
     ]
    }
   ],
   "source": [
    "print(\"Skewness: %f\" % turboaz['Qiymet'].skew())\n",
    "print(\"Kurtosis: %f\" % turboaz['Qiymet'].kurt())"
   ]
  },
  {
   "cell_type": "markdown",
   "metadata": {},
   "source": [
    "### The price column is normallly distrubuted"
   ]
  },
  {
   "cell_type": "code",
   "execution_count": 1039,
   "metadata": {},
   "outputs": [
    {
     "data": {
      "image/png": "[encoded data removed]",
      "text/plain": [
       "<Figure size 432x288 with 1 Axes>"
      ]
     },
     "metadata": {
      "needs_background": "light"
     },
     "output_type": "display_data"
    },
    {
     "data": {
      "image/png": "[encoded data removed]",
      "text/plain": [
       "<Figure size 432x288 with 1 Axes>"
      ]
     },
     "metadata": {
      "needs_background": "light"
     },
     "output_type": "display_data"
    }
   ],
   "source": [
    "sns.distplot(turboaz['Yurush'], fit=norm);\n",
    "fig = plt.figure()\n",
    "res = stats.probplot(turboaz['Yurush'], plot=plt)"
   ]
  },
  {
   "cell_type": "code",
   "execution_count": 1040,
   "metadata": {},
   "outputs": [
    {
     "name": "stdout",
     "output_type": "stream",
     "text": [
      "Skewness: 0.883478\n",
      "Kurtosis: 3.078396\n"
     ]
    }
   ],
   "source": [
    "print(\"Skewness: %f\" % turboaz['Yurush'].skew())\n",
    "print(\"Kurtosis: %f\" % turboaz['Yurush'].kurt())"
   ]
  },
  {
   "cell_type": "code",
   "execution_count": 1041,
   "metadata": {},
   "outputs": [
    {
     "data": {
      "image/png": "[encoded data removed]",
      "text/plain": [
       "<Figure size 432x288 with 1 Axes>"
      ]
     },
     "metadata": {
      "needs_background": "light"
     },
     "output_type": "display_data"
    },
    {
     "data": {
      "image/png": "[encoded data removed]",
      "text/plain": [
       "<Figure size 432x288 with 1 Axes>"
      ]
     },
     "metadata": {
      "needs_background": "light"
     },
     "output_type": "display_data"
    }
   ],
   "source": [
    "sns.distplot(turboaz['Muherrikin gucu'], fit=norm);\n",
    "fig = plt.figure()\n",
    "res = stats.probplot(turboaz['Muherrikin gucu'], plot=plt)"
   ]
  },
  {
   "cell_type": "code",
   "execution_count": 1042,
   "metadata": {},
   "outputs": [
    {
     "name": "stdout",
     "output_type": "stream",
     "text": [
      "Skewness: 1.234764\n",
      "Kurtosis: 2.147597\n"
     ]
    }
   ],
   "source": [
    "print(\"Skewness: %f\" % turboaz['Muherrikin gucu'].skew())\n",
    "print(\"Kurtosis: %f\" % turboaz['Muherrikin gucu'].kurt())"
   ]
  },
  {
   "cell_type": "code",
   "execution_count": 1043,
   "metadata": {},
   "outputs": [
    {
     "name": "stdout",
     "output_type": "stream",
     "text": [
      "<class 'pandas.core.frame.DataFrame'>\n",
      "RangeIndex: 962 entries, 0 to 961\n",
      "Data columns (total 29 columns):\n",
      "Istifade muddeti             962 non-null float64\n",
      "Muherrikin hecmi             962 non-null float64\n",
      "Muherrikin gucu              962 non-null float64\n",
      "Yurush                       962 non-null float64\n",
      "Qiymet                       962 non-null float64\n",
      "Buraxilish iliaxilish ili    962 non-null float64\n",
      "Comment_uzunluqu             962 non-null float64\n",
      "lyuk                         962 non-null float64\n",
      "deri salon                   962 non-null float64\n",
      "ksenon lampalar              962 non-null float64\n",
      "barter mümkündür             962 non-null float64\n",
      "kreditdədir                  962 non-null float64\n",
      "vurulub                      962 non-null float64\n",
      "endirim_olacaq               962 non-null float64\n",
      "tecili                       962 non-null float64\n",
      "Sheher_Diger                 962 non-null float64\n",
      "Sheher_Gəncə_Sumqayıt        962 non-null float64\n",
      "Model_C 200                  962 non-null float64\n",
      "Model_C 220                  962 non-null float64\n",
      "Model_C 230                  962 non-null float64\n",
      "Model_C 240                  962 non-null float64\n",
      "Model_Diger modeller         962 non-null float64\n",
      "Ban novu_Universal           962 non-null float64\n",
      "Reng_Ekzotik                 962 non-null float64\n",
      "Reng_Göy                     962 non-null float64\n",
      "Reng_Gümüşü                  962 non-null float64\n",
      "Reng_Qara                    962 non-null float64\n",
      "Yanacaq novu_Dizel           962 non-null float64\n",
      "Suretler qutusu_Mexaniki     962 non-null float64\n",
      "dtypes: float64(29)\n",
      "memory usage: 218.1 KB\n"
     ]
    }
   ],
   "source": [
    "turboaz.info()"
   ]
  },
  {
   "cell_type": "code",
   "execution_count": 1044,
   "metadata": {},
   "outputs": [
    {
     "data": {
      "image/png": "[encoded data removed]",
      "text/plain": [
       "<Figure size 432x288 with 1 Axes>"
      ]
     },
     "metadata": {
      "needs_background": "light"
     },
     "output_type": "display_data"
    },
    {
     "data": {
      "image/png": "[encoded data removed]",
      "text/plain": [
       "<Figure size 432x288 with 1 Axes>"
      ]
     },
     "metadata": {
      "needs_background": "light"
     },
     "output_type": "display_data"
    }
   ],
   "source": [
    "sns.distplot(turboaz['Muherrikin hecmi'], fit=norm);\n",
    "fig = plt.figure()\n",
    "res = stats.probplot(turboaz['Muherrikin hecmi'], plot=plt)"
   ]
  },
  {
   "cell_type": "code",
   "execution_count": 1045,
   "metadata": {},
   "outputs": [
    {
     "name": "stdout",
     "output_type": "stream",
     "text": [
      "Skewness: 0.891679\n",
      "Kurtosis: 0.883951\n"
     ]
    }
   ],
   "source": [
    "print(\"Skewness: %f\" % turboaz['Muherrikin hecmi'].skew())\n",
    "print(\"Kurtosis: %f\" % turboaz['Muherrikin hecmi'].kurt())"
   ]
  },
  {
   "cell_type": "markdown",
   "metadata": {},
   "source": [
    "### It seems like the normality is not a problem for us"
   ]
  },
  {
   "cell_type": "code",
   "execution_count": 1046,
   "metadata": {},
   "outputs": [
    {
     "data": {
      "text/plain": [
       "Text(0, 0.5, 'Qiymet')"
      ]
     },
     "execution_count": 1046,
     "metadata": {},
     "output_type": "execute_result"
    },
    {
     "data": {
      "image/png": "[encoded data removed]",
      "text/plain": [
       "<Figure size 432x288 with 1 Axes>"
      ]
     },
     "metadata": {
      "needs_background": "light"
     },
     "output_type": "display_data"
    }
   ],
   "source": [
    "plt.scatter(turboaz['Yurush'], turboaz['Qiymet'])\n",
    "plt.xlabel(\"Yurush\")\n",
    "plt.ylabel(\"Qiymet\")"
   ]
  },
  {
   "cell_type": "code",
   "execution_count": 1047,
   "metadata": {},
   "outputs": [
    {
     "data": {
      "text/plain": [
       "Text(0, 0.5, 'Qiymet')"
      ]
     },
     "execution_count": 1047,
     "metadata": {},
     "output_type": "execute_result"
    },
    {
     "data": {
      "image/png": "[encoded data removed]",
      "text/plain": [
       "<Figure size 432x288 with 1 Axes>"
      ]
     },
     "metadata": {
      "needs_background": "light"
     },
     "output_type": "display_data"
    }
   ],
   "source": [
    "plt.scatter(turboaz['Muherrikin gucu'], turboaz['Qiymet'])\n",
    "plt.xlabel(\"Muherrikin gucu\")\n",
    "plt.ylabel(\"Qiymet\")"
   ]
  },
  {
   "cell_type": "code",
   "execution_count": 1048,
   "metadata": {},
   "outputs": [
    {
     "data": {
      "text/plain": [
       "Text(0, 0.5, 'Qiymet')"
      ]
     },
     "execution_count": 1048,
     "metadata": {},
     "output_type": "execute_result"
    },
    {
     "data": {
      "image/png": "[encoded data removed]",
      "text/plain": [
       "<Figure size 432x288 with 1 Axes>"
      ]
     },
     "metadata": {
      "needs_background": "light"
     },
     "output_type": "display_data"
    }
   ],
   "source": [
    "plt.scatter(turboaz['Istifade muddeti'], turboaz['Qiymet'])\n",
    "plt.xlabel(\"Istifade muddeti\")\n",
    "plt.ylabel(\"Qiymet\")"
   ]
  },
  {
   "cell_type": "code",
   "execution_count": 1049,
   "metadata": {},
   "outputs": [
    {
     "data": {
      "text/plain": [
       "Text(0, 0.5, 'Qiymet')"
      ]
     },
     "execution_count": 1049,
     "metadata": {},
     "output_type": "execute_result"
    },
    {
     "data": {
      "image/png": "[encoded data removed]",
      "text/plain": [
       "<Figure size 432x288 with 1 Axes>"
      ]
     },
     "metadata": {
      "needs_background": "light"
     },
     "output_type": "display_data"
    }
   ],
   "source": [
    "plt.scatter(turboaz['Comment_uzunluqu'], turboaz['Qiymet'])\n",
    "plt.xlabel(\"Comment_uzunluqu\")\n",
    "plt.ylabel(\"Qiymet\")"
   ]
  },
  {
   "cell_type": "code",
   "execution_count": 1050,
   "metadata": {},
   "outputs": [
    {
     "name": "stdout",
     "output_type": "stream",
     "text": [
      "The importance of features relative to target\n",
      "Qiymet                       1.000000\n",
      "Buraxilish iliaxilish ili    0.739304\n",
      "Istifade muddeti             0.739304\n",
      "Muherrikin gucu              0.349587\n",
      "Muherrikin hecmi             0.304879\n",
      "Suretler qutusu_Mexaniki     0.304013\n",
      "Yurush                       0.274990\n",
      "Yanacaq novu_Dizel           0.234103\n",
      "Model_C 240                  0.229144\n",
      "Reng_Ekzotik                 0.182959\n",
      "ksenon lampalar              0.180518\n",
      "deri salon                   0.176065\n",
      "Model_C 230                  0.165451\n",
      "Comment_uzunluqu             0.111803\n",
      "Sheher_Diger                 0.094736\n",
      "tecili                       0.082869\n",
      "Ban novu_Universal           0.077668\n",
      "vurulub                      0.063093\n",
      "Sheher_Gəncə_Sumqayıt        0.046838\n",
      "Model_C 220                  0.045779\n",
      "Reng_Qara                    0.045525\n",
      "kreditdədir                  0.028777\n",
      "Model_Diger modeller         0.025657\n",
      "lyuk                         0.020238\n",
      "Model_C 200                  0.016290\n",
      "barter mümkündür             0.014396\n",
      "endirim_olacaq               0.012621\n",
      "Reng_Göy                     0.003551\n",
      "Reng_Gümüşü                  0.003478\n",
      "Name: Qiymet, dtype: float64\n"
     ]
    }
   ],
   "source": [
    "print(\"The importance of features relative to target\")\n",
    "corr = turboaz.corr().abs()\n",
    "corr.sort_values([\"Qiymet\"], ascending = False, inplace = True)\n",
    "print(corr.Qiymet)"
   ]
  },
  {
   "cell_type": "markdown",
   "metadata": {},
   "source": [
    "## Modeling"
   ]
  },
  {
   "cell_type": "code",
   "execution_count": 1051,
   "metadata": {},
   "outputs": [],
   "source": [
    "from sklearn.model_selection import train_test_split\n",
    "X_train, X_test, y_train, y_test = train_test_split(turboaz.drop('Qiymet', axis=1), turboaz['Qiymet'], test_size=0.3, random_state=55)"
   ]
  },
  {
   "cell_type": "code",
   "execution_count": 1052,
   "metadata": {},
   "outputs": [],
   "source": [
    "# I decided to standardize the coefficients\n",
    "\n",
    "from sklearn.preprocessing import StandardScaler\n",
    "\n",
    "y_train = y_train.values.reshape(-1,1)\n",
    "y_test = y_test.values.reshape(-1,1)\n",
    "\n",
    "scaler = StandardScaler() \n",
    "\n",
    "X_train = scaler.fit_transform(X_train)\n",
    "X_test = scaler.fit_transform(X_test)\n",
    "y_train = scaler.fit_transform(y_train)\n",
    "y_test = scaler.fit_transform(y_test)"
   ]
  },
  {
   "cell_type": "code",
   "execution_count": 1053,
   "metadata": {},
   "outputs": [
    {
     "data": {
      "text/plain": [
       "array([[-0.020261  , -1.0483604 , -0.97537801, ..., -0.47760045,\n",
       "        -0.34880749,  2.4368308 ],\n",
       "       [-0.42130964, -1.0483604 , -0.97537801, ..., -0.47760045,\n",
       "        -0.34880749, -0.41036908],\n",
       "       [ 2.78707944,  1.40632442,  1.62399924, ...,  2.09380037,\n",
       "        -0.34880749, -0.41036908],\n",
       "       ...,\n",
       "       [-0.42130964, -1.0483604 , -0.97537801, ..., -0.47760045,\n",
       "        -0.34880749, -0.41036908],\n",
       "       [-1.22340691, -1.0483604 , -0.97537801, ..., -0.47760045,\n",
       "        -0.34880749,  2.4368308 ],\n",
       "       [ 0.78183627, -0.34702188, -0.36885665, ..., -0.47760045,\n",
       "        -0.34880749, -0.41036908]])"
      ]
     },
     "execution_count": 1053,
     "metadata": {},
     "output_type": "execute_result"
    }
   ],
   "source": [
    "X_train"
   ]
  },
  {
   "cell_type": "markdown",
   "metadata": {},
   "source": [
    "## Linear Regression"
   ]
  },
  {
   "cell_type": "code",
   "execution_count": 1054,
   "metadata": {},
   "outputs": [
    {
     "data": {
      "text/plain": [
       "LinearRegression(copy_X=True, fit_intercept=True, n_jobs=None, normalize=False)"
      ]
     },
     "execution_count": 1054,
     "metadata": {},
     "output_type": "execute_result"
    }
   ],
   "source": [
    "from sklearn.linear_model import LinearRegression\n",
    "lr = LinearRegression()\n",
    "lr.fit(X_train,y_train)"
   ]
  },
  {
   "cell_type": "code",
   "execution_count": 1055,
   "metadata": {},
   "outputs": [
    {
     "data": {
      "text/plain": [
       "array([-1.45083005e-14])"
      ]
     },
     "execution_count": 1055,
     "metadata": {},
     "output_type": "execute_result"
    }
   ],
   "source": [
    "lr.intercept_"
   ]
  },
  {
   "cell_type": "code",
   "execution_count": 1056,
   "metadata": {},
   "outputs": [
    {
     "data": {
      "text/plain": [
       "array([[ 0.33019121, -0.0505928 , -0.13275956, -0.10269238, -0.33019121,\n",
       "         0.09785029, -0.0373011 , -0.01653591,  0.01665317, -0.01541751,\n",
       "         0.03987998, -0.00057104, -0.02509157, -0.07539708,  0.0075943 ,\n",
       "        -0.01192299,  0.10186891,  0.07493996,  0.16112523,  0.1852342 ,\n",
       "         0.08802754, -0.00660489, -0.10832204, -0.03933726, -0.05725027,\n",
       "        -0.09813968,  0.16408658, -0.16796498]])"
      ]
     },
     "execution_count": 1056,
     "metadata": {},
     "output_type": "execute_result"
    }
   ],
   "source": [
    "lr.coef_"
   ]
  },
  {
   "cell_type": "code",
   "execution_count": 1057,
   "metadata": {},
   "outputs": [],
   "source": [
    "predictions = lr.predict(X_test).reshape(-1,1)"
   ]
  },
  {
   "cell_type": "code",
   "execution_count": 1058,
   "metadata": {},
   "outputs": [
    {
     "data": {
      "image/png": "[encoded data removed]",
      "text/plain": [
       "<Figure size 1080x576 with 1 Axes>"
      ]
     },
     "metadata": {
      "needs_background": "light"
     },
     "output_type": "display_data"
    }
   ],
   "source": [
    "plt.figure(figsize=(15,8))\n",
    "plt.scatter(y_test,predictions)\n",
    "plt.xlabel('Y Test')\n",
    "plt.ylabel('Predicted Y')\n",
    "plt.show()"
   ]
  },
  {
   "cell_type": "code",
   "execution_count": 1059,
   "metadata": {},
   "outputs": [
    {
     "name": "stdout",
     "output_type": "stream",
     "text": [
      "MAE is 0.4847336399142136\n",
      "MSE is 0.4110539719528915\n",
      "RMSE is 0.6411349093232184\n"
     ]
    }
   ],
   "source": [
    "from sklearn import metrics\n",
    "print('MAE is', metrics.mean_absolute_error(y_test, predictions))\n",
    "print('MSE is', metrics.mean_squared_error(y_test, predictions))\n",
    "print('RMSE is',np.sqrt(metrics.mean_squared_error(y_test, predictions)))"
   ]
  },
  {
   "cell_type": "code",
   "execution_count": 1060,
   "metadata": {},
   "outputs": [
    {
     "data": {
      "text/plain": [
       "0.5889460280471085"
      ]
     },
     "execution_count": 1060,
     "metadata": {},
     "output_type": "execute_result"
    }
   ],
   "source": [
    "metrics.r2_score(y_test, predictions)"
   ]
  },
  {
   "cell_type": "markdown",
   "metadata": {},
   "source": [
    "#### We can explain 58.9% of the variation in price through Linear Regression. I am sure we can do better"
   ]
  },
  {
   "cell_type": "markdown",
   "metadata": {},
   "source": [
    "## Decision Tree Regression"
   ]
  },
  {
   "cell_type": "code",
   "execution_count": 1061,
   "metadata": {},
   "outputs": [
    {
     "data": {
      "text/plain": [
       "DecisionTreeRegressor(criterion='mse', max_depth=None, max_features=None,\n",
       "                      max_leaf_nodes=None, min_impurity_decrease=0.0,\n",
       "                      min_impurity_split=None, min_samples_leaf=1,\n",
       "                      min_samples_split=2, min_weight_fraction_leaf=0.0,\n",
       "                      presort=False, random_state=5, splitter='best')"
      ]
     },
     "execution_count": 1061,
     "metadata": {},
     "output_type": "execute_result"
    }
   ],
   "source": [
    "from sklearn.tree import DecisionTreeRegressor\n",
    "dtr = DecisionTreeRegressor(random_state = 5)\n",
    "dtr.fit(X_train, y_train)"
   ]
  },
  {
   "cell_type": "code",
   "execution_count": 1062,
   "metadata": {},
   "outputs": [],
   "source": [
    "dtr_pred= dtr.predict(X_test).reshape(-1,1)"
   ]
  },
  {
   "cell_type": "code",
   "execution_count": 1063,
   "metadata": {},
   "outputs": [
    {
     "name": "stdout",
     "output_type": "stream",
     "text": [
      "MAE is 0.622996605419361\n",
      "MSE is 0.7035508844223378\n",
      "RMSE is 0.8387794015248216\n"
     ]
    }
   ],
   "source": [
    "print('MAE is', metrics.mean_absolute_error(y_test, dtr_pred))\n",
    "print('MSE is', metrics.mean_squared_error(y_test, dtr_pred))\n",
    "print('RMSE is',np.sqrt(metrics.mean_squared_error(y_test, dtr_pred)))"
   ]
  },
  {
   "cell_type": "code",
   "execution_count": 1064,
   "metadata": {},
   "outputs": [
    {
     "data": {
      "text/plain": [
       "0.2964491155776622"
      ]
     },
     "execution_count": 1064,
     "metadata": {},
     "output_type": "execute_result"
    }
   ],
   "source": [
    "metrics.r2_score(y_test, dtr_pred)"
   ]
  },
  {
   "cell_type": "markdown",
   "metadata": {},
   "source": [
    "#### Unfortunately, this is a failure"
   ]
  },
  {
   "cell_type": "code",
   "execution_count": 1065,
   "metadata": {},
   "outputs": [
    {
     "data": {
      "image/png": "[encoded data removed]",
      "text/plain": [
       "<Figure size 1080x576 with 1 Axes>"
      ]
     },
     "metadata": {
      "needs_background": "light"
     },
     "output_type": "display_data"
    }
   ],
   "source": [
    "plt.figure(figsize=(15,8))\n",
    "plt.scatter(y_test,dtr_pred)\n",
    "plt.xlabel('Y Test')\n",
    "plt.ylabel('Predicted Y')\n",
    "plt.show()"
   ]
  },
  {
   "cell_type": "markdown",
   "metadata": {},
   "source": [
    "## SVM Regression"
   ]
  },
  {
   "cell_type": "code",
   "execution_count": 1066,
   "metadata": {},
   "outputs": [
    {
     "name": "stderr",
     "output_type": "stream",
     "text": [
      "C:\\Users\\azerk\\Anaconda3\\lib\\site-packages\\sklearn\\utils\\validation.py:724: DataConversionWarning: A column-vector y was passed when a 1d array was expected. Please change the shape of y to (n_samples, ), for example using ravel().\n",
      "  y = column_or_1d(y, warn=True)\n"
     ]
    },
    {
     "data": {
      "text/plain": [
       "SVR(C=1.0, cache_size=200, coef0=0.0, degree=3, epsilon=0.1,\n",
       "    gamma='auto_deprecated', kernel='rbf', max_iter=-1, shrinking=True,\n",
       "    tol=0.001, verbose=False)"
      ]
     },
     "execution_count": 1066,
     "metadata": {},
     "output_type": "execute_result"
    }
   ],
   "source": [
    "from sklearn.svm import SVR\n",
    "svmr = SVR(kernel = 'rbf')\n",
    "svmr.fit(X_train, y_train)"
   ]
  },
  {
   "cell_type": "code",
   "execution_count": 1067,
   "metadata": {},
   "outputs": [],
   "source": [
    "svmr_pred= svmr.predict(X_test).reshape(-1,1)"
   ]
  },
  {
   "cell_type": "code",
   "execution_count": 1068,
   "metadata": {},
   "outputs": [
    {
     "name": "stdout",
     "output_type": "stream",
     "text": [
      "MAE is 0.46557335068744676\n",
      "MSE is 0.38517170794011496\n",
      "RMSE is 0.6206220330765859\n"
     ]
    }
   ],
   "source": [
    "print('MAE is', metrics.mean_absolute_error(y_test, svmr_pred))\n",
    "print('MSE is', metrics.mean_squared_error(y_test, svmr_pred))\n",
    "print('RMSE is',np.sqrt(metrics.mean_squared_error(y_test, svmr_pred)))"
   ]
  },
  {
   "cell_type": "code",
   "execution_count": 1069,
   "metadata": {},
   "outputs": [
    {
     "data": {
      "text/plain": [
       "0.6148282920598851"
      ]
     },
     "execution_count": 1069,
     "metadata": {},
     "output_type": "execute_result"
    }
   ],
   "source": [
    "metrics.r2_score(y_test, svmr_pred)"
   ]
  },
  {
   "cell_type": "markdown",
   "metadata": {},
   "source": [
    "#### 61.5% is better, let\\`s dig into it "
   ]
  },
  {
   "cell_type": "code",
   "execution_count": 1070,
   "metadata": {},
   "outputs": [
    {
     "data": {
      "image/png": "[encoded data removed]",
      "text/plain": [
       "<Figure size 1080x576 with 1 Axes>"
      ]
     },
     "metadata": {
      "needs_background": "light"
     },
     "output_type": "display_data"
    }
   ],
   "source": [
    "plt.figure(figsize=(15,8))\n",
    "plt.scatter(y_test,svmr_pred)\n",
    "plt.xlabel('Y Test')\n",
    "plt.ylabel('Predicted Y')\n",
    "plt.show()"
   ]
  },
  {
   "cell_type": "markdown",
   "metadata": {},
   "source": [
    "## Random Forest Regressor"
   ]
  },
  {
   "cell_type": "code",
   "execution_count": 1071,
   "metadata": {},
   "outputs": [
    {
     "name": "stderr",
     "output_type": "stream",
     "text": [
      "C:\\Users\\azerk\\Anaconda3\\lib\\site-packages\\ipykernel_launcher.py:3: DataConversionWarning: A column-vector y was passed when a 1d array was expected. Please change the shape of y to (n_samples,), for example using ravel().\n",
      "  This is separate from the ipykernel package so we can avoid doing imports until\n"
     ]
    },
    {
     "data": {
      "text/plain": [
       "RandomForestRegressor(bootstrap=True, criterion='mse', max_depth=None,\n",
       "                      max_features='auto', max_leaf_nodes=None,\n",
       "                      min_impurity_decrease=0.0, min_impurity_split=None,\n",
       "                      min_samples_leaf=1, min_samples_split=2,\n",
       "                      min_weight_fraction_leaf=0.0, n_estimators=500,\n",
       "                      n_jobs=None, oob_score=False, random_state=0, verbose=0,\n",
       "                      warm_start=False)"
      ]
     },
     "execution_count": 1071,
     "metadata": {},
     "output_type": "execute_result"
    }
   ],
   "source": [
    "from sklearn.ensemble import RandomForestRegressor\n",
    "rfr = RandomForestRegressor(n_estimators = 500, random_state = 0)\n",
    "rfr.fit(X_train, y_train)"
   ]
  },
  {
   "cell_type": "code",
   "execution_count": 1072,
   "metadata": {},
   "outputs": [],
   "source": [
    "rfr_pred = rfr.predict(X_test).reshape(-1,1)"
   ]
  },
  {
   "cell_type": "code",
   "execution_count": 1073,
   "metadata": {},
   "outputs": [
    {
     "name": "stdout",
     "output_type": "stream",
     "text": [
      "MAE is 0.4344725227764563\n",
      "MSE is 0.3351500004941024\n",
      "RMSE is 0.5789214113280855\n"
     ]
    }
   ],
   "source": [
    "print('MAE is', metrics.mean_absolute_error(y_test, rfr_pred))\n",
    "print('MSE is', metrics.mean_squared_error(y_test, rfr_pred))\n",
    "print('RMSE is',np.sqrt(metrics.mean_squared_error(y_test, rfr_pred)))"
   ]
  },
  {
   "cell_type": "code",
   "execution_count": 1074,
   "metadata": {},
   "outputs": [
    {
     "data": {
      "text/plain": [
       "0.6648499995058976"
      ]
     },
     "execution_count": 1074,
     "metadata": {},
     "output_type": "execute_result"
    }
   ],
   "source": [
    "metrics.r2_score(y_test, rfr_pred)"
   ]
  },
  {
   "cell_type": "markdown",
   "metadata": {},
   "source": [
    "#### Even better"
   ]
  },
  {
   "cell_type": "code",
   "execution_count": 1075,
   "metadata": {},
   "outputs": [
    {
     "data": {
      "image/png": "[encoded data removed]",
      "text/plain": [
       "<Figure size 1080x576 with 1 Axes>"
      ]
     },
     "metadata": {
      "needs_background": "light"
     },
     "output_type": "display_data"
    }
   ],
   "source": [
    "plt.figure(figsize=(15,8))\n",
    "plt.scatter(y_test,rfr_pred)\n",
    "plt.xlabel('Y Test')\n",
    "plt.ylabel('Predicted Y')\n",
    "plt.show()"
   ]
  },
  {
   "cell_type": "markdown",
   "metadata": {},
   "source": [
    "## LightGBM"
   ]
  },
  {
   "cell_type": "code",
   "execution_count": 1076,
   "metadata": {},
   "outputs": [
    {
     "name": "stdout",
     "output_type": "stream",
     "text": [
      "Requirement already satisfied: lightgbm in c:\\users\\azerk\\anaconda3\\lib\\site-packages (2.3.1)\n",
      "Requirement already satisfied: scikit-learn in c:\\users\\azerk\\anaconda3\\lib\\site-packages (from lightgbm) (0.21.3)\n",
      "Requirement already satisfied: numpy in c:\\users\\azerk\\anaconda3\\lib\\site-packages (from lightgbm) (1.16.5)\n",
      "Requirement already satisfied: scipy in c:\\users\\azerk\\anaconda3\\lib\\site-packages (from lightgbm) (1.3.1)\n",
      "Requirement already satisfied: joblib>=0.11 in c:\\users\\azerk\\anaconda3\\lib\\site-packages (from scikit-learn->lightgbm) (0.13.2)\n"
     ]
    },
    {
     "name": "stderr",
     "output_type": "stream",
     "text": [
      "C:\\Users\\azerk\\Anaconda3\\lib\\site-packages\\sklearn\\utils\\validation.py:724: DataConversionWarning: A column-vector y was passed when a 1d array was expected. Please change the shape of y to (n_samples, ), for example using ravel().\n",
      "  y = column_or_1d(y, warn=True)\n"
     ]
    },
    {
     "data": {
      "text/plain": [
       "LGBMRegressor(bagging_fraction=0.8, bagging_freq=5, bagging_seed=9,\n",
       "              boosting_type='gbdt', class_weight=None, colsample_bytree=1.0,\n",
       "              feature_fraction=0.2319, feature_fraction_seed=9,\n",
       "              importance_type='split', learning_rate=0.05, max_bin=55,\n",
       "              max_depth=-1, min_child_samples=20, min_child_weight=0.001,\n",
       "              min_data_in_leaf=6, min_split_gain=0.0,\n",
       "              min_sum_hessian_in_leaf=11, n_estimators=750, n_jobs=-1,\n",
       "              num_leaves=5, objective='regression', random_state=None,\n",
       "              reg_alpha=0.0, reg_lambda=0.0, silent=True, subsample=1.0,\n",
       "              subsample_for_bin=200000, subsample_freq=0)"
      ]
     },
     "execution_count": 1076,
     "metadata": {},
     "output_type": "execute_result"
    }
   ],
   "source": [
    "!pip install lightgbm\n",
    "import lightgbm as lgb\n",
    "model_lgb = lgb.LGBMRegressor(objective='regression',num_leaves=5,\n",
    "                              learning_rate=0.05, n_estimators=750,\n",
    "                              max_bin = 55, bagging_fraction = 0.8,\n",
    "                              bagging_freq = 5, feature_fraction = 0.2319,\n",
    "                              feature_fraction_seed=9, bagging_seed=9,\n",
    "                              min_data_in_leaf =6, min_sum_hessian_in_leaf = 11)\n",
    "\n",
    "model_lgb.fit(X_train,y_train)"
   ]
  },
  {
   "cell_type": "code",
   "execution_count": 1077,
   "metadata": {},
   "outputs": [],
   "source": [
    "lgb_pred = model_lgb.predict(X_test).reshape(-1,1)\n"
   ]
  },
  {
   "cell_type": "code",
   "execution_count": 1078,
   "metadata": {},
   "outputs": [
    {
     "name": "stdout",
     "output_type": "stream",
     "text": [
      "MAE is 0.4303805128967966\n",
      "MSE is 0.3328371169530744\n",
      "RMSE is 0.5769203731478673\n"
     ]
    }
   ],
   "source": [
    "print('MAE is', metrics.mean_absolute_error(y_test, lgb_pred))\n",
    "print('MSE is', metrics.mean_squared_error(y_test, lgb_pred))\n",
    "print('RMSE is',np.sqrt(metrics.mean_squared_error(y_test, lgb_pred)))"
   ]
  },
  {
   "cell_type": "code",
   "execution_count": 1079,
   "metadata": {},
   "outputs": [
    {
     "data": {
      "text/plain": [
       "0.6671628830469256"
      ]
     },
     "execution_count": 1079,
     "metadata": {},
     "output_type": "execute_result"
    }
   ],
   "source": [
    "metrics.r2_score(y_test, lgb_pred)"
   ]
  },
  {
   "cell_type": "markdown",
   "metadata": {},
   "source": [
    "#### The  best model so far"
   ]
  },
  {
   "cell_type": "code",
   "execution_count": 1080,
   "metadata": {},
   "outputs": [
    {
     "data": {
      "image/png": "[encoded data removed]",
      "text/plain": [
       "<Figure size 1080x576 with 1 Axes>"
      ]
     },
     "metadata": {
      "needs_background": "light"
     },
     "output_type": "display_data"
    }
   ],
   "source": [
    "plt.figure(figsize=(15,8))\n",
    "plt.scatter(y_test,lgb_pred)\n",
    "plt.xlabel('Y Test')\n",
    "plt.ylabel('Predicted Y')\n",
    "plt.show()"
   ]
  },
  {
   "cell_type": "markdown",
   "metadata": {},
   "source": [
    "## We observe that Random Forest and LightbGBM are the best algorithms for predicting car prices in our case. We can predict prices for the new dataset using these algoritghms. There is no doubt it that we can perform even better in the future"
   ]
  },
  {
   "cell_type": "code",
   "execution_count": null,
   "metadata": {},
   "outputs": [],
   "source": []
  }
 ],
 "metadata": {
  "kernelspec": {
   "display_name": "Python 3",
   "language": "python",
   "name": "python3"
  },
  "language_info": {
   "codemirror_mode": {
    "name": "ipython",
    "version": 3
   },
   "file_extension": ".py",
   "mimetype": "text/x-python",
   "name": "python",
   "nbconvert_exporter": "python",
   "pygments_lexer": "ipython3",
   "version": "3.7.4"
  }
 },
 "nbformat": 4,
 "nbformat_minor": 2
}
